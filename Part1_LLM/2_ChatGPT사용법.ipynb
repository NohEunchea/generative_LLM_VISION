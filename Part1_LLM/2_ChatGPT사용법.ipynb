{
 "cells": [
  {
   "cell_type": "code",
   "execution_count": 1,
   "metadata": {},
   "outputs": [
    {
     "name": "stdout",
     "output_type": "stream",
     "text": [
      "Collecting openai\n",
      "  Obtaining dependency information for openai from https://files.pythonhosted.org/packages/11/28/a8d65da22328661d3fb59ae1dcb2e8c4cc90fdda59011479a852ea1f9c4f/openai-1.17.0-py3-none-any.whl.metadata\n",
      "  Downloading openai-1.17.0-py3-none-any.whl.metadata (21 kB)\n",
      "Collecting anyio<5,>=3.5.0 (from openai)\n",
      "  Obtaining dependency information for anyio<5,>=3.5.0 from https://files.pythonhosted.org/packages/14/fd/2f20c40b45e4fb4324834aea24bd4afdf1143390242c0b33774da0e2e34f/anyio-4.3.0-py3-none-any.whl.metadata\n",
      "  Downloading anyio-4.3.0-py3-none-any.whl.metadata (4.6 kB)\n",
      "Collecting distro<2,>=1.7.0 (from openai)\n",
      "  Obtaining dependency information for distro<2,>=1.7.0 from https://files.pythonhosted.org/packages/12/b3/231ffd4ab1fc9d679809f356cebee130ac7daa00d6d6f3206dd4fd137e9e/distro-1.9.0-py3-none-any.whl.metadata\n",
      "  Downloading distro-1.9.0-py3-none-any.whl.metadata (6.8 kB)\n",
      "Collecting httpx<1,>=0.23.0 (from openai)\n",
      "  Obtaining dependency information for httpx<1,>=0.23.0 from https://files.pythonhosted.org/packages/41/7b/ddacf6dcebb42466abd03f368782142baa82e08fc0c1f8eaa05b4bae87d5/httpx-0.27.0-py3-none-any.whl.metadata\n",
      "  Downloading httpx-0.27.0-py3-none-any.whl.metadata (7.2 kB)\n",
      "Collecting pydantic<3,>=1.9.0 (from openai)\n",
      "  Obtaining dependency information for pydantic<3,>=1.9.0 from https://files.pythonhosted.org/packages/e5/f3/8296f550276194a58c5500d55b19a27ae0a5a3a51ffef66710c58544b32d/pydantic-2.6.4-py3-none-any.whl.metadata\n",
      "  Downloading pydantic-2.6.4-py3-none-any.whl.metadata (85 kB)\n",
      "     ---------------------------------------- 0.0/85.1 kB ? eta -:--:--\n",
      "     -------------------------------------- - 81.9/85.1 kB 4.5 MB/s eta 0:00:01\n",
      "     -------------------------------------- 85.1/85.1 kB 959.6 kB/s eta 0:00:00\n",
      "Collecting sniffio (from openai)\n",
      "  Obtaining dependency information for sniffio from https://files.pythonhosted.org/packages/e9/44/75a9c9421471a6c4805dbf2356f7c181a29c1879239abab1ea2cc8f38b40/sniffio-1.3.1-py3-none-any.whl.metadata\n",
      "  Downloading sniffio-1.3.1-py3-none-any.whl.metadata (3.9 kB)\n",
      "Requirement already satisfied: tqdm>4 in c:\\users\\ms211\\miniconda3\\envs\\torch_main\\lib\\site-packages (from openai) (4.66.1)\n",
      "Requirement already satisfied: typing-extensions<5,>=4.7 in c:\\users\\ms211\\miniconda3\\envs\\torch_main\\lib\\site-packages (from openai) (4.7.1)\n",
      "Requirement already satisfied: idna>=2.8 in c:\\users\\ms211\\appdata\\roaming\\python\\python310\\site-packages (from anyio<5,>=3.5.0->openai) (2.10)\n",
      "Requirement already satisfied: exceptiongroup>=1.0.2 in c:\\users\\ms211\\miniconda3\\envs\\torch_main\\lib\\site-packages (from anyio<5,>=3.5.0->openai) (1.2.0)\n",
      "Requirement already satisfied: certifi in c:\\users\\ms211\\appdata\\roaming\\python\\python310\\site-packages (from httpx<1,>=0.23.0->openai) (2023.7.22)\n",
      "Collecting httpcore==1.* (from httpx<1,>=0.23.0->openai)\n",
      "  Obtaining dependency information for httpcore==1.* from https://files.pythonhosted.org/packages/78/d4/e5d7e4f2174f8a4d63c8897d79eb8fe2503f7ecc03282fee1fa2719c2704/httpcore-1.0.5-py3-none-any.whl.metadata\n",
      "  Downloading httpcore-1.0.5-py3-none-any.whl.metadata (20 kB)\n",
      "Collecting h11<0.15,>=0.13 (from httpcore==1.*->httpx<1,>=0.23.0->openai)\n",
      "  Obtaining dependency information for h11<0.15,>=0.13 from https://files.pythonhosted.org/packages/95/04/ff642e65ad6b90db43e668d70ffb6736436c7ce41fcc549f4e9472234127/h11-0.14.0-py3-none-any.whl.metadata\n",
      "  Downloading h11-0.14.0-py3-none-any.whl.metadata (8.2 kB)\n",
      "Collecting annotated-types>=0.4.0 (from pydantic<3,>=1.9.0->openai)\n",
      "  Obtaining dependency information for annotated-types>=0.4.0 from https://files.pythonhosted.org/packages/28/78/d31230046e58c207284c6b2c4e8d96e6d3cb4e52354721b944d3e1ee4aa5/annotated_types-0.6.0-py3-none-any.whl.metadata\n",
      "  Downloading annotated_types-0.6.0-py3-none-any.whl.metadata (12 kB)\n",
      "Collecting pydantic-core==2.16.3 (from pydantic<3,>=1.9.0->openai)\n",
      "  Obtaining dependency information for pydantic-core==2.16.3 from https://files.pythonhosted.org/packages/ec/e8/49d65816802781451af7e758bdf9ff9d976a6b3959e1aab843da9931e89f/pydantic_core-2.16.3-cp310-none-win_amd64.whl.metadata\n",
      "  Downloading pydantic_core-2.16.3-cp310-none-win_amd64.whl.metadata (6.6 kB)\n",
      "Requirement already satisfied: colorama in c:\\users\\ms211\\miniconda3\\envs\\torch_main\\lib\\site-packages (from tqdm>4->openai) (0.4.6)\n",
      "Downloading openai-1.17.0-py3-none-any.whl (268 kB)\n",
      "   ---------------------------------------- 0.0/268.3 kB ? eta -:--:--\n",
      "   ---------------------------------------- 268.3/268.3 kB 8.1 MB/s eta 0:00:00\n",
      "Downloading anyio-4.3.0-py3-none-any.whl (85 kB)\n",
      "   ---------------------------------------- 0.0/85.6 kB ? eta -:--:--\n",
      "   ---------------------------------------- 85.6/85.6 kB 4.7 MB/s eta 0:00:00\n",
      "Downloading distro-1.9.0-py3-none-any.whl (20 kB)\n",
      "Downloading httpx-0.27.0-py3-none-any.whl (75 kB)\n",
      "   ---------------------------------------- 0.0/75.6 kB ? eta -:--:--\n",
      "   ---------------------------------------- 75.6/75.6 kB 4.4 MB/s eta 0:00:00\n",
      "Downloading httpcore-1.0.5-py3-none-any.whl (77 kB)\n",
      "   ---------------------------------------- 0.0/77.9 kB ? eta -:--:--\n",
      "   ---------------------------------------- 77.9/77.9 kB ? eta 0:00:00\n",
      "Downloading pydantic-2.6.4-py3-none-any.whl (394 kB)\n",
      "   ---------------------------------------- 0.0/394.9 kB ? eta -:--:--\n",
      "   --------------------------------------- 394.9/394.9 kB 12.0 MB/s eta 0:00:00\n",
      "Downloading pydantic_core-2.16.3-cp310-none-win_amd64.whl (1.9 MB)\n",
      "   ---------------------------------------- 0.0/1.9 MB ? eta -:--:--\n",
      "   ----- ---------------------------------- 0.3/1.9 MB 5.4 MB/s eta 0:00:01\n",
      "   ----------- ---------------------------- 0.5/1.9 MB 5.4 MB/s eta 0:00:01\n",
      "   -------------------- ------------------- 1.0/1.9 MB 6.9 MB/s eta 0:00:01\n",
      "   ------------------------------------ --- 1.7/1.9 MB 9.1 MB/s eta 0:00:01\n",
      "   ---------------------------------------- 1.9/1.9 MB 8.5 MB/s eta 0:00:00\n",
      "Downloading sniffio-1.3.1-py3-none-any.whl (10 kB)\n",
      "Downloading annotated_types-0.6.0-py3-none-any.whl (12 kB)\n",
      "Downloading h11-0.14.0-py3-none-any.whl (58 kB)\n",
      "   ---------------------------------------- 0.0/58.3 kB ? eta -:--:--\n",
      "   ---------------------------------------- 58.3/58.3 kB 3.0 MB/s eta 0:00:00\n",
      "Installing collected packages: sniffio, pydantic-core, h11, distro, annotated-types, pydantic, httpcore, anyio, httpx, openai\n",
      "Successfully installed annotated-types-0.6.0 anyio-4.3.0 distro-1.9.0 h11-0.14.0 httpcore-1.0.5 httpx-0.27.0 openai-1.17.0 pydantic-2.6.4 pydantic-core-2.16.3 sniffio-1.3.1\n"
     ]
    }
   ],
   "source": [
    "!pip install openai"
   ]
  },
  {
   "cell_type": "code",
   "execution_count": 3,
   "metadata": {},
   "outputs": [
    {
     "name": "stdout",
     "output_type": "stream",
     "text": [
      "Collecting python-dotenv\n",
      "  Using cached python_dotenv-1.0.1-py3-none-any.whl.metadata (23 kB)\n",
      "Using cached python_dotenv-1.0.1-py3-none-any.whl (19 kB)\n",
      "Installing collected packages: python-dotenv\n",
      "Successfully installed python-dotenv-1.0.1\n"
     ]
    }
   ],
   "source": [
    "!pip install python-dotenv"
   ]
  },
  {
   "cell_type": "markdown",
   "metadata": {},
   "source": [
    "### 1-1. 기본 사용법"
   ]
  },
  {
   "cell_type": "code",
   "execution_count": 4,
   "metadata": {},
   "outputs": [],
   "source": [
    "import openai\n",
    "from openai import OpenAI\n",
    "from dotenv import load_dotenv\n",
    "import os\n",
    "\n",
    "load_dotenv()\n",
    "\n",
    "client = OpenAI(\n",
    "        # 기본적으로 이 경로로 불러옵니다. os.environ.get(\"OPENAI_API_KEY\")\n",
    ")"
   ]
  },
  {
   "cell_type": "code",
   "execution_count": 2,
   "metadata": {},
   "outputs": [
    {
     "data": {
      "text/plain": [
       "'안녕하세요! 무엇을 도와드릴까요?'"
      ]
     },
     "execution_count": 2,
     "metadata": {},
     "output_type": "execute_result"
    }
   ],
   "source": [
    "completion = client.chat.completions.create(\n",
    "  model=\"gpt-4-0125-preview\",\n",
    "  messages=[\n",
    "    {\"role\": \"system\", \"content\": \"당신은 훌륭한 AI 챗봇 비서에요\"},\n",
    "    {\"role\": \"user\", \"content\": \"안녕하세요\"}\n",
    "  ]\n",
    ")\n",
    "completion.choices[0].message.content"
   ]
  },
  {
   "cell_type": "markdown",
   "metadata": {},
   "source": [
    "### 1-2. 스트리밍 사용법"
   ]
  },
  {
   "cell_type": "code",
   "execution_count": 6,
   "metadata": {},
   "outputs": [
    {
     "name": "stdout",
     "output_type": "stream",
     "text": [
      "안녕하세요! 무엇을 도와드릴까요?"
     ]
    }
   ],
   "source": [
    "stream = client.chat.completions.create(\n",
    "    model=\"gpt-4-0125-preview\",\n",
    "    messages=[\n",
    "        {\"role\": \"system\", \"content\": \"당신은 훌륭한 AI 챗봇 비서에요\"},\n",
    "        {\"role\": \"user\", \"content\": \"안녕하세요\"}\n",
    "    ],\n",
    "    stream=True,\n",
    ")\n",
    "for chunk in stream:\n",
    "    if chunk.choices[0].delta.content is not None:\n",
    "        print(chunk.choices[0].delta.content, end=\"\")"
   ]
  },
  {
   "cell_type": "markdown",
   "metadata": {},
   "source": [
    "### 1-3. 다양한 프롬프트 적용해보기"
   ]
  },
  {
   "cell_type": "code",
   "execution_count": 27,
   "metadata": {},
   "outputs": [
    {
     "data": {
      "text/plain": [
       "'이 검에 대한 정보를 문의하셨군요! 해당 검은 게임 내에서 다음과 같은 특성을 가지고 있습니다:\\n\\n1. **공격력 증가**: 이 검은 기본 공격력을 상당히 높여주어, 적에게 더 큰 피해를 입힐 수 있게 합니다.\\n2. **속성 부여 가능**: 특정 속성(예: 불, 얼음, 전기 등)을 검에 부여하여, 속성에 따른 추가 피해'"
      ]
     },
     "execution_count": 27,
     "metadata": {},
     "output_type": "execute_result"
    }
   ],
   "source": [
    "# 상황 1: 게임 내 아이템 상점 방문\n",
    "completion = client.chat.completions.create(\n",
    "    model=\"gpt-4-0125-preview\",\n",
    "    messages=[\n",
    "        {\"role\": \"system\", \"content\": \"당신은 게임 내 아이템 상점의 게임 가이드입니다. 사용자가 아이템 구매에 대해 문의할 때 친절하고 유용한 정보를 제공하세요.\"},\n",
    "        {\"role\": \"user\", \"content\": \"이 검은 어떤 특성을 가지고 있나요?\"},\n",
    "    ],\n",
    "    temperature=0.5,\n",
    "    max_tokens=150\n",
    ")\n",
    "completion.choices[0].message.content"
   ]
  },
  {
   "cell_type": "code",
   "execution_count": 10,
   "metadata": {},
   "outputs": [
    {
     "data": {
      "text/plain": [
       "'드래곤을 처치하는 과정은 게임의 종류와 설정에 따라 다를 수 있지만, 대부분의 게임에서 공통적으로 적용되는 몇 가지 전략과 팁을 공유할 수 있습니다. 아래의 지침은 다양한 게임에서 드래곤을 처치하는 데 도움이 될 수 있는 일반적인 조언들입니다:\\n\\n1. **장비 준비**: 드래곤과의 전투 전에는 최상의 장비를 준비하는 것이 중'"
      ]
     },
     "execution_count": 10,
     "metadata": {},
     "output_type": "execute_result"
    }
   ],
   "source": [
    "# 상황 2: 게임 내 퀘스트 안내\n",
    "completion = client.chat.completions.create(\n",
    "    model=\"gpt-4-0125-preview\",\n",
    "    messages=[\n",
    "        {\"role\": \"system\", \"content\": \"당신은 게임 내 퀘스트를 안내하는 게임 가이드입니다. 사용자가 퀘스트에 대해 문의할 때 명확하고 상세한 지침을 제공하세요.\"},\n",
    "        {\"role\": \"user\", \"content\": \"드래곤을 처치하는 방법을 알려주세요.\"}\n",
    "    ],\n",
    "    temperature=0.5,\n",
    "    max_tokens=150\n",
    ")\n",
    "completion.choices[0].message.content"
   ]
  },
  {
   "cell_type": "code",
   "execution_count": 11,
   "metadata": {},
   "outputs": [
    {
     "data": {
      "text/plain": [
       "'당신이 궁금해하는 동료는 매우 특별한 능력을 가지고 있습니다. 그는 시간을 조작하는 능력을 소유하고 있어, 전투 중에 시간을 느리게 하거나 일시적으로 멈출 수 있습니다. 이를 통해 적들의 공격을 피하거나, 전략적으로 우리 편의 공격을 조정할 수 있는 놀라운 기회를 제공합니다. 또한, 그의 능력'"
      ]
     },
     "execution_count": 11,
     "metadata": {},
     "output_type": "execute_result"
    }
   ],
   "source": [
    "# 상황 3: 게임 내 동료 NPC 소개\n",
    "completion = client.chat.completions.create(\n",
    "    model=\"gpt-4-0125-preview\",\n",
    "    messages=[\n",
    "        {\"role\": \"system\", \"content\": \"당신은 게임 내 동료 NPC들을 소개하는 게임 가이드입니다. 사용자가 새로운 동료에 대해 문의할 때 그들의 특성과 이야기를 생생하게 전달하세요.\"},\n",
    "        {\"role\": \"user\", \"content\": \"이 동료는 어떤 능력을 가지고 있나요?\"}\n",
    "    ],\n",
    "    temperature=0.5,\n",
    "    max_tokens=150\n",
    ")\n",
    "completion.choices[0].message.content"
   ]
  },
  {
   "cell_type": "markdown",
   "metadata": {},
   "source": [
    "### 2-1. tts사용법"
   ]
  },
  {
   "cell_type": "code",
   "execution_count": 28,
   "metadata": {},
   "outputs": [
    {
     "name": "stderr",
     "output_type": "stream",
     "text": [
      "C:\\Users\\test_account\\AppData\\Local\\Temp\\ipykernel_194844\\3627914733.py:8: DeprecationWarning: Due to a bug, this method doesn't actually stream the response content, `.with_streaming_response.method()` should be used instead\n",
      "  response.stream_to_file(\"speech.mp3\")\n"
     ]
    },
    {
     "data": {
      "text/html": [
       "\n",
       "                <audio  controls=\"controls\" autoplay=\"autoplay\">\n",
       "                    <source src=\"data:audio/mpeg;base64,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\" type=\"audio/mpeg\" />\n",
       "                    Your browser does not support the audio element.\n",
       "                </audio>\n",
       "              "
      ],
      "text/plain": [
       "<IPython.lib.display.Audio object>"
      ]
     },
     "metadata": {},
     "output_type": "display_data"
    }
   ],
   "source": [
    "from IPython.display import Audio\n",
    "\n",
    "response = openai.audio.speech.create(\n",
    "  model=\"tts-1\",\n",
    "  voice=\"alloy\",\n",
    "  input=\"안녕하세요 저는 NPC 입니다\"\n",
    ")\n",
    "response.stream_to_file(\"speech.mp3\")\n",
    "display(Audio(\"speech.mp3\", autoplay=True))"
   ]
  },
  {
   "cell_type": "markdown",
   "metadata": {},
   "source": [
    "### 2-2 whisper 사용법"
   ]
  },
  {
   "cell_type": "code",
   "execution_count": 4,
   "metadata": {},
   "outputs": [
    {
     "data": {
      "text/plain": [
       "'안녕하세요. 저는 NPC입니다.'"
      ]
     },
     "execution_count": 4,
     "metadata": {},
     "output_type": "execute_result"
    }
   ],
   "source": [
    "audio_file = open(\"speech.mp3\", \"rb\")\n",
    "transcript = client.audio.transcriptions.create(\n",
    "  model=\"whisper-1\",\n",
    "  file=audio_file\n",
    ")\n",
    "transcript.text"
   ]
  },
  {
   "cell_type": "markdown",
   "metadata": {},
   "source": [
    "### 3. prompt 분기해보기 + fastapi 연동"
   ]
  },
  {
   "cell_type": "code",
   "execution_count": 7,
   "metadata": {},
   "outputs": [],
   "source": [
    "# 3_fastapi_prompt분기.py 파일 실습"
   ]
  },
  {
   "cell_type": "code",
   "execution_count": null,
   "metadata": {},
   "outputs": [],
   "source": []
  }
 ],
 "metadata": {
  "kernelspec": {
   "display_name": "env_dl310",
   "language": "python",
   "name": "python3"
  },
  "language_info": {
   "codemirror_mode": {
    "name": "ipython",
    "version": 3
   },
   "file_extension": ".py",
   "mimetype": "text/x-python",
   "name": "python",
   "nbconvert_exporter": "python",
   "pygments_lexer": "ipython3",
   "version": "3.10.13"
  }
 },
 "nbformat": 4,
 "nbformat_minor": 2
}
