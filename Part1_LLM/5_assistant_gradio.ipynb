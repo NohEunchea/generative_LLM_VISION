{
 "cells": [
  {
   "cell_type": "markdown",
   "metadata": {},
   "source": [
    "## 그라디오의 챗봇에 연동하기"
   ]
  },
  {
   "cell_type": "markdown",
   "metadata": {},
   "source": [
    "### 0-1. api_key 불러오기"
   ]
  },
  {
   "cell_type": "code",
   "execution_count": 18,
   "metadata": {},
   "outputs": [
    {
     "data": {
      "text/plain": [
       "True"
      ]
     },
     "execution_count": 18,
     "metadata": {},
     "output_type": "execute_result"
    }
   ],
   "source": [
    "from dotenv import load_dotenv\n",
    "import os\n",
    "\n",
    "load_dotenv()"
   ]
  },
  {
   "cell_type": "markdown",
   "metadata": {},
   "source": [
    "### 0-2. Assistant 응답 결과를 json 형태로 반환하는 함수 만들기"
   ]
  },
  {
   "cell_type": "code",
   "execution_count": 19,
   "metadata": {},
   "outputs": [],
   "source": [
    "import json\n",
    "\n",
    "def response_to_dict(obj):\n",
    "    return json.loads(obj.model_dump_json())"
   ]
  },
  {
   "cell_type": "code",
   "execution_count": 20,
   "metadata": {},
   "outputs": [
    {
     "name": "stdout",
     "output_type": "stream",
     "text": [
      "Assistant(id='asst_GK2DimTvpiFrWBDbCOq9DwjQ', created_at=1712988472, description=None, file_ids=['file-DqdIDulmB8mP3GCjAk3NGTEX', 'file-HyeZozp2SL4fjaR2EZDPvVZq', 'file-4GMJdPNpAJvR8vJ1zv0sgjBI', 'file-lgVC1S54zKZOUkeGLtuJZX4A', 'file-CoVYbf5ZNpYnYEML2FoPMdqn', 'file-qPfDpph7Ouhi4Y51K4sObBgP', 'file-rTNSIUTUjG5l1yikWILW9pa1'], instructions=\"This GPT is designed to answer questions based on the contents of a specific text related to a game, focusing on game-related topics, especially those concerning characters, plot points, strategies, and any in-game mechanics detailed within the document. It will use the provided text as a reference to provide accurate and detailed responses. When asked a question, it will either provide information directly from the document or infer answers based on the content when direct information is not available. The GPT will clarify or ask for more details if the question is too broad or if it cannot find the exact information in the document. It aims to engage users by providing insightful, game-related information and facilitating a deeper understanding of the game's universe. Respond in Korean only\", metadata={}, model='gpt-4-turbo', name='데이브 더 다이브 게임 가이드', object='assistant', tools=[RetrievalTool(type='retrieval')])\n"
     ]
    }
   ],
   "source": [
    "from openai import OpenAI\n",
    "client = OpenAI()\n",
    "\n",
    "my_assistants = client.beta.assistants.list(\n",
    "    order=\"desc\",\n",
    "    limit=\"20\",\n",
    ")\n",
    "for i in my_assistants.data:\n",
    "    print(i)"
   ]
  },
  {
   "cell_type": "markdown",
   "metadata": {},
   "source": [
    "### 1-1. 만들어 놓은 assistant 에 연결"
   ]
  },
  {
   "cell_type": "code",
   "execution_count": 21,
   "metadata": {},
   "outputs": [
    {
     "name": "stdout",
     "output_type": "stream",
     "text": [
      "Assistant(id='asst_GK2DimTvpiFrWBDbCOq9DwjQ', created_at=1712988472, description=None, file_ids=['file-DqdIDulmB8mP3GCjAk3NGTEX', 'file-HyeZozp2SL4fjaR2EZDPvVZq', 'file-4GMJdPNpAJvR8vJ1zv0sgjBI', 'file-lgVC1S54zKZOUkeGLtuJZX4A', 'file-CoVYbf5ZNpYnYEML2FoPMdqn', 'file-qPfDpph7Ouhi4Y51K4sObBgP', 'file-rTNSIUTUjG5l1yikWILW9pa1'], instructions=\"This GPT is designed to answer questions based on the contents of a specific text related to a game, focusing on game-related topics, especially those concerning characters, plot points, strategies, and any in-game mechanics detailed within the document. It will use the provided text as a reference to provide accurate and detailed responses. When asked a question, it will either provide information directly from the document or infer answers based on the content when direct information is not available. The GPT will clarify or ask for more details if the question is too broad or if it cannot find the exact information in the document. It aims to engage users by providing insightful, game-related information and facilitating a deeper understanding of the game's universe. Respond in Korean only\", metadata={}, model='gpt-4-turbo', name='데이브 더 다이브 게임 가이드', object='assistant', tools=[RetrievalTool(type='retrieval')])\n"
     ]
    }
   ],
   "source": [
    "my_assistant = client.beta.assistants.retrieve(\n",
    "    assistant_id=\"asst_GK2DimTvpiFrWBDbCOq9DwjQ\"\n",
    ")\n",
    "print(my_assistant)"
   ]
  },
  {
   "cell_type": "markdown",
   "metadata": {},
   "source": [
    "### 2-1. 새 대화창 생성"
   ]
  },
  {
   "cell_type": "code",
   "execution_count": null,
   "metadata": {},
   "outputs": [],
   "source": [
    "my_thread = client.beta.threads.create() # 스레드 생성 : 새 대화창이라고 생각"
   ]
  },
  {
   "cell_type": "markdown",
   "metadata": {},
   "source": [
    "### 3-1. 그라디오 챗봇 만들기"
   ]
  },
  {
   "cell_type": "code",
   "execution_count": 12,
   "metadata": {},
   "outputs": [],
   "source": [
    "# !pip install -qq gradio==4.10"
   ]
  },
  {
   "cell_type": "code",
   "execution_count": 23,
   "metadata": {},
   "outputs": [],
   "source": [
    "import gradio as gr"
   ]
  },
  {
   "cell_type": "code",
   "execution_count": 24,
   "metadata": {},
   "outputs": [],
   "source": [
    "def game_guide(message, chat_history):\n",
    "    if not message:\n",
    "        return \"\", chat_history\n",
    "    else :\n",
    "        thread_message = client.beta.threads.messages.create(\n",
    "        thread_id=my_thread.id,\n",
    "        role=\"user\",\n",
    "        content=message,\n",
    "        )\n",
    "\n",
    "        run = client.beta.threads.runs.create_and_poll(\n",
    "        thread_id=my_thread.id,\n",
    "        assistant_id=\"asst_GK2DimTvpiFrWBDbCOq9DwjQ\"\n",
    "        )\n",
    "        \n",
    "        if run.status == 'completed': \n",
    "            messages = client.beta.threads.messages.list(\n",
    "                thread_id=my_thread.id\n",
    "            )\n",
    "            response_data = response_to_dict(messages)\n",
    "            message_data = response_data[\"data\"][0]\n",
    "            response_message = message_data[\"content\"][0][\"text\"][\"value\"]\n",
    "        else:\n",
    "            print(run.status)\n",
    "    chat_history.append([message, response_message])\n",
    "    return \"\", chat_history"
   ]
  },
  {
   "cell_type": "code",
   "execution_count": 25,
   "metadata": {},
   "outputs": [
    {
     "name": "stdout",
     "output_type": "stream",
     "text": [
      "Running on local URL:  http://127.0.0.1:7860\n",
      "\n",
      "To create a public link, set `share=True` in `launch()`.\n"
     ]
    },
    {
     "data": {
      "text/html": [
       "<div><iframe src=\"http://127.0.0.1:7860/\" width=\"100%\" height=\"500\" allow=\"autoplay; camera; microphone; clipboard-read; clipboard-write;\" frameborder=\"0\" allowfullscreen></iframe></div>"
      ],
      "text/plain": [
       "<IPython.core.display.HTML object>"
      ]
     },
     "metadata": {},
     "output_type": "display_data"
    },
    {
     "name": "stdout",
     "output_type": "stream",
     "text": [
      "Keyboard interruption in main thread... closing server.\n"
     ]
    },
    {
     "data": {
      "text/plain": []
     },
     "execution_count": 25,
     "metadata": {},
     "output_type": "execute_result"
    }
   ],
   "source": [
    "with gr.Blocks(theme=gr.themes.Default()) as app:\n",
    "    with gr.Tab(\"데이브 더 다이브 게임 가이드\"):\n",
    "        gr.Markdown(\n",
    "            value=\"<center>데이브 더 다이브 게임 가이드입니다</center>\"\n",
    "            )\n",
    "        with gr.Row():\n",
    "            cb_chatbot = gr.Chatbot(\n",
    "                value=[[None, \"안녕하세요 데이브 더 다이브 게임 가이드 입니다\"]],\n",
    "                show_label=False\n",
    "            )\n",
    "        with gr.Row():\n",
    "            cb_user_input = gr.Text(\n",
    "                lines=1,\n",
    "                placeholder=\"입력창\",\n",
    "                container=False,\n",
    "                scale=9\n",
    "            )\n",
    "            cb_send_btn = gr.Button(\n",
    "                value=\"보내기\",\n",
    "                scale=1,\n",
    "                variant=\"primary\"\n",
    "            )\n",
    "            cb_send_btn.click(\n",
    "                fn=game_guide,\n",
    "                inputs=[cb_user_input, cb_chatbot],\n",
    "                outputs=[cb_user_input, cb_chatbot]\n",
    "            )\n",
    "            cb_user_input.submit(\n",
    "                                fn=game_guide,\n",
    "                inputs=[cb_user_input, cb_chatbot],\n",
    "                outputs=[cb_user_input, cb_chatbot]\n",
    "            )\n",
    "app.launch(debug=True)"
   ]
  },
  {
   "cell_type": "code",
   "execution_count": null,
   "metadata": {},
   "outputs": [],
   "source": []
  }
 ],
 "metadata": {
  "kernelspec": {
   "display_name": "torch_main",
   "language": "python",
   "name": "python3"
  },
  "language_info": {
   "codemirror_mode": {
    "name": "ipython",
    "version": 3
   },
   "file_extension": ".py",
   "mimetype": "text/x-python",
   "name": "python",
   "nbconvert_exporter": "python",
   "pygments_lexer": "ipython3",
   "version": "3.10.13"
  }
 },
 "nbformat": 4,
 "nbformat_minor": 2
}
