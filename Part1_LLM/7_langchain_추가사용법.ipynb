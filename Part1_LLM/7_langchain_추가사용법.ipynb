{
 "cells": [
  {
   "cell_type": "markdown",
   "metadata": {},
   "source": [
    "# 다양한 출력 파서 종류\n",
    "- PydanticOutputParser\n",
    "- JsonOutputParser\n",
    "- CommaSeparatedListOutputParser\n",
    "- PandasDataFrameOutputParser\n",
    "- DatetimeOutputParser"
   ]
  },
  {
   "cell_type": "markdown",
   "metadata": {},
   "source": [
    "## 1. Pydantic 방식으로 응답 결과 받기"
   ]
  },
  {
   "cell_type": "markdown",
   "metadata": {},
   "source": [
    "### 1. 기본 모듈 및 API KEY 가져오기"
   ]
  },
  {
   "cell_type": "code",
   "execution_count": 1,
   "metadata": {},
   "outputs": [],
   "source": [
    "from langchain_openai import ChatOpenAI\n",
    "from langchain.prompts import PromptTemplate\n",
    "from langchain.output_parsers import PydanticOutputParser\n",
    "from langchain_core.pydantic_v1 import BaseModel, Field"
   ]
  },
  {
   "cell_type": "code",
   "execution_count": 2,
   "metadata": {},
   "outputs": [
    {
     "data": {
      "text/plain": [
       "True"
      ]
     },
     "execution_count": 2,
     "metadata": {},
     "output_type": "execute_result"
    }
   ],
   "source": [
    "from dotenv import load_dotenv\n",
    "import os \n",
    "\n",
    "# API KEY 가져오기\n",
    "load_dotenv()"
   ]
  },
  {
   "cell_type": "markdown",
   "metadata": {},
   "source": [
    "### 2. Pydantic 모델 설정 // prompt 설정 | 언어모델 설정 | parser 설정"
   ]
  },
  {
   "cell_type": "code",
   "execution_count": 3,
   "metadata": {},
   "outputs": [],
   "source": [
    "# pydantic 모델 설정\n",
    "class GameRequest(BaseModel):\n",
    "    type: str = Field(description=\"요청 종류\")\n",
    "    description: str = Field(description=\"요청의 상세 설명\")\n",
    "    expected_result: str = Field(description=\"요청의 기대 결과를 친절하게 설명해주세요\")"
   ]
  },
  {
   "cell_type": "code",
   "execution_count": 4,
   "metadata": {},
   "outputs": [],
   "source": [
    "# 언어 모델 설정\n",
    "llm = ChatOpenAI(\n",
    "    temperature=0.1,  # 창의성 (0.0 ~ 2.0)\n",
    "    max_tokens=2048,  # 최대 토큰수\n",
    "    model_name=\"gpt-4-turbo\",  # 모델명\n",
    ")"
   ]
  },
  {
   "cell_type": "code",
   "execution_count": 5,
   "metadata": {},
   "outputs": [],
   "source": [
    "# 게임 유저가 서버에 보내는 요청 메시지 템플릿 생성\n",
    "template = \"\"\"\n",
    "당신은 열성적인 게임 유저입니다. 게임 서버에 다음과 같은 요청을 보냅니다. 답변은 한글로 해주세요\n",
    "\n",
    "요청 내용:\n",
    "{request_content}\n",
    "\n",
    "FORMAT:\n",
    "{format}\n",
    "\"\"\"\n",
    "prompt = PromptTemplate.from_template(template=template)\n"
   ]
  },
  {
   "cell_type": "code",
   "execution_count": 6,
   "metadata": {},
   "outputs": [],
   "source": [
    "# parser 설정\n",
    "parser = PydanticOutputParser(pydantic_object=GameRequest)"
   ]
  },
  {
   "cell_type": "code",
   "execution_count": 7,
   "metadata": {},
   "outputs": [
    {
     "data": {
      "text/plain": [
       "PromptTemplate(input_variables=['request_content'], partial_variables={'format': 'The output should be formatted as a JSON instance that conforms to the JSON schema below.\\n\\nAs an example, for the schema {\"properties\": {\"foo\": {\"title\": \"Foo\", \"description\": \"a list of strings\", \"type\": \"array\", \"items\": {\"type\": \"string\"}}}, \"required\": [\"foo\"]}\\nthe object {\"foo\": [\"bar\", \"baz\"]} is a well-formatted instance of the schema. The object {\"properties\": {\"foo\": [\"bar\", \"baz\"]}} is not well-formatted.\\n\\nHere is the output schema:\\n```\\n{\"properties\": {\"type\": {\"title\": \"Type\", \"description\": \"\\\\uc694\\\\uccad \\\\uc885\\\\ub958\", \"type\": \"string\"}, \"description\": {\"title\": \"Description\", \"description\": \"\\\\uc694\\\\uccad\\\\uc758 \\\\uc0c1\\\\uc138 \\\\uc124\\\\uba85\", \"type\": \"string\"}, \"expected_result\": {\"title\": \"Expected Result\", \"description\": \"\\\\uc694\\\\uccad\\\\uc758 \\\\uae30\\\\ub300 \\\\uacb0\\\\uacfc\\\\ub97c \\\\uce5c\\\\uc808\\\\ud558\\\\uac8c \\\\uc124\\\\uba85\\\\ud574\\\\uc8fc\\\\uc138\\\\uc694\", \"type\": \"string\"}}, \"required\": [\"type\", \"description\", \"expected_result\"]}\\n```'}, template='\\n당신은 열성적인 게임 유저입니다. 게임 서버에 다음과 같은 요청을 보냅니다. 답변은 한글로 해주세요\\n\\n요청 내용:\\n{request_content}\\n\\nFORMAT:\\n{format}\\n')"
      ]
     },
     "execution_count": 7,
     "metadata": {},
     "output_type": "execute_result"
    }
   ],
   "source": [
    "# 프롬프트 설정\n",
    "prompt = prompt.partial(format=parser.get_format_instructions())\n",
    "prompt"
   ]
  },
  {
   "cell_type": "code",
   "execution_count": 8,
   "metadata": {},
   "outputs": [],
   "source": [
    "chain = prompt | llm | parser"
   ]
  },
  {
   "cell_type": "code",
   "execution_count": 9,
   "metadata": {},
   "outputs": [
    {
     "name": "stdout",
     "output_type": "stream",
     "text": [
      "('type', '복구 요청')\n",
      "('description', \"제 계정에서 최근 사라진 '영웅의 검' 아이템을 복구해주세요. 이 아이템은 어제 저녁에 사용 중 갑자기 사라졌습니다.\")\n",
      "('expected_result', \"계정에서 사라진 '영웅의 검' 아이템이 성공적으로 복구되어 다시 사용할 수 있게 됩니다.\")\n"
     ]
    }
   ],
   "source": [
    "# 완성된 Chain 을 이용하여 요청 내용을 '아이템 복구 요청'으로 설정하여 실행합니다.\n",
    "response = chain.invoke(\n",
    "    {\n",
    "        \"request_content\": \"제 계정에서 최근 사라진 '영웅의 검' 아이템을 복구해주세요. 이 아이템은 어제 저녁에 사용 중 갑자기 사라졌습니다.\"\n",
    "    }\n",
    ")\n",
    "\n",
    "# 결과를 딕셔너리 형태로 출력.\n",
    "for item in dict(response).items():\n",
    "    print(item)"
   ]
  },
  {
   "cell_type": "markdown",
   "metadata": {},
   "source": [
    "### 그 외 파서들은 찾아보고 용도에 맞게 해봅시다. (왠만하면 Pydantic 이 좋음)"
   ]
  },
  {
   "cell_type": "markdown",
   "metadata": {},
   "source": [
    "### 2. 메모리 사용법 - ConversationBufferMemory \n",
    "- 대화 내용을 그대로 저장"
   ]
  },
  {
   "cell_type": "code",
   "execution_count": 10,
   "metadata": {},
   "outputs": [
    {
     "data": {
      "text/plain": [
       "ConversationBufferMemory(chat_memory=ChatMessageHistory(messages=[HumanMessage(content='안녕하세요 여러분'), AIMessage(content='안녕하세요! 어떻게 도와드릴까요? 오늘 하루는 어떠셨나요?')]))"
      ]
     },
     "execution_count": 10,
     "metadata": {},
     "output_type": "execute_result"
    }
   ],
   "source": [
    "from langchain.memory import ConversationBufferMemory\n",
    "\n",
    "memory = ConversationBufferMemory()\n",
    "memory.save_context(\n",
    "    inputs={\n",
    "        \"human\": \"안녕하세요 여러분\"\n",
    "    },\n",
    "    outputs={\n",
    "        \"ai\": \"안녕하세요! 어떻게 도와드릴까요? 오늘 하루는 어떠셨나요?\"\n",
    "    },\n",
    ")\n",
    "memory"
   ]
  },
  {
   "cell_type": "markdown",
   "metadata": {},
   "source": [
    "### 3-1. ConversationChain+ConversationBufferMemory 사용법"
   ]
  },
  {
   "cell_type": "code",
   "execution_count": 12,
   "metadata": {},
   "outputs": [],
   "source": [
    "from langchain import ConversationChain"
   ]
  },
  {
   "cell_type": "code",
   "execution_count": 13,
   "metadata": {},
   "outputs": [
    {
     "name": "stdout",
     "output_type": "stream",
     "text": [
      "\n",
      "\n",
      "\u001b[1m> Entering new ConversationChain chain...\u001b[0m\n",
      "Prompt after formatting:\n",
      "\u001b[32;1m\u001b[1;3mThe following is a friendly conversation between a human and an AI. The AI is talkative and provides lots of specific details from its context. If the AI does not know the answer to a question, it truthfully says it does not know.\n",
      "\n",
      "Current conversation:\n",
      "\n",
      "Human: 안녕하세요 여러분\n",
      "AI:\u001b[0m\n",
      "\n",
      "\u001b[1m> Finished chain.\u001b[0m\n"
     ]
    },
    {
     "data": {
      "text/plain": [
       "'안녕하세요! 어떻게 도와드릴까요? 오늘 하루는 어떠셨나요?'"
      ]
     },
     "execution_count": 13,
     "metadata": {},
     "output_type": "execute_result"
    }
   ],
   "source": [
    "# llm 정의\n",
    "llm = ChatOpenAI(\n",
    "    temperature=0.1,  # 창의성 (0.0 ~ 2.0)\n",
    "    max_tokens=2048,  # 최대 토큰수\n",
    "    model_name=\"gpt-4-turbo\",  # 모델명\n",
    ")\n",
    "\n",
    "# 메모리 설정\n",
    "memory = ConversationBufferMemory()\n",
    "conversation = ConversationChain(\n",
    "    llm=llm, \n",
    "    verbose=True, \n",
    "    memory=memory\n",
    ")\n",
    "\n",
    "# 첫 대화\n",
    "conversation.predict(input=\"안녕하세요 여러분\")"
   ]
  },
  {
   "cell_type": "code",
   "execution_count": 14,
   "metadata": {},
   "outputs": [
    {
     "name": "stdout",
     "output_type": "stream",
     "text": [
      "\n",
      "\n",
      "\u001b[1m> Entering new ConversationChain chain...\u001b[0m\n",
      "Prompt after formatting:\n",
      "\u001b[32;1m\u001b[1;3mThe following is a friendly conversation between a human and an AI. The AI is talkative and provides lots of specific details from its context. If the AI does not know the answer to a question, it truthfully says it does not know.\n",
      "\n",
      "Current conversation:\n",
      "Human: 안녕하세요 여러분\n",
      "AI: 안녕하세요! 어떻게 도와드릴까요? 오늘 하루는 어떠셨나요?\n",
      "Human: 제가 뭐라고 했죠?\n",
      "AI:\u001b[0m\n",
      "\n",
      "\u001b[1m> Finished chain.\u001b[0m\n"
     ]
    },
    {
     "data": {
      "text/plain": [
       "'\\'안녕하세요 여러분\\'이라고 말씀하셨습니다. 이는 한국어로 \"Hello everyone\"이라는 뜻입니다. 무엇에 대해 이야기하고 싶으신가요?'"
      ]
     },
     "execution_count": 14,
     "metadata": {},
     "output_type": "execute_result"
    }
   ],
   "source": [
    "# 두 번째 대화\n",
    "conversation.predict(input=\"제가 뭐라고 했죠?\")"
   ]
  },
  {
   "cell_type": "code",
   "execution_count": 15,
   "metadata": {},
   "outputs": [
    {
     "name": "stdout",
     "output_type": "stream",
     "text": [
      "Human: 안녕하세요 여러분\n",
      "AI: 안녕하세요! 어떻게 도와드릴까요? 오늘 하루는 어떠셨나요?\n",
      "Human: 제가 뭐라고 했죠?\n",
      "AI: '안녕하세요 여러분'이라고 말씀하셨습니다. 이는 한국어로 \"Hello everyone\"이라는 뜻입니다. 무엇에 대해 이야기하고 싶으신가요?\n"
     ]
    }
   ],
   "source": [
    "# 전체 대화 내용 확인\n",
    "print(memory.buffer)"
   ]
  },
  {
   "cell_type": "code",
   "execution_count": 16,
   "metadata": {},
   "outputs": [
    {
     "name": "stdout",
     "output_type": "stream",
     "text": [
      "안녕하세요 여러분\n",
      "안녕하세요! 어떻게 도와드릴까요? 오늘 하루는 어떠셨나요?\n",
      "제가 뭐라고 했죠?\n",
      "'안녕하세요 여러분'이라고 말씀하셨습니다. 이는 한국어로 \"Hello everyone\"이라는 뜻입니다. 무엇에 대해 이야기하고 싶으신가요?\n"
     ]
    }
   ],
   "source": [
    "# 리스트의 형태로 출력해보기\n",
    "for chat in memory.buffer_as_messages:\n",
    "    print(chat.content)"
   ]
  },
  {
   "cell_type": "markdown",
   "metadata": {},
   "source": [
    "### 3-2. ConversationChain+ConversationBufferMemory 사용법"
   ]
  },
  {
   "cell_type": "code",
   "execution_count": 17,
   "metadata": {},
   "outputs": [],
   "source": [
    "from langchain.memory import ConversationBufferWindowMemory\n",
    "\n",
    "# llm 정의\n",
    "llm = ChatOpenAI(\n",
    "    temperature=0.1,  # 창의성 (0.0 ~ 2.0)\n",
    "    max_tokens=2048,  # 최대 토큰수\n",
    "    model_name=\"gpt-4-turbo\",  # 모델명\n",
    ")\n",
    "\n",
    "# 메모리 설정\n",
    "memory = ConversationBufferWindowMemory(k=2)\n",
    "conversation = ConversationChain(\n",
    "    llm=llm, \n",
    "    verbose=True, \n",
    "    memory=memory\n",
    ")"
   ]
  },
  {
   "cell_type": "code",
   "execution_count": 18,
   "metadata": {},
   "outputs": [
    {
     "name": "stdout",
     "output_type": "stream",
     "text": [
      "\n",
      "\n",
      "\u001b[1m> Entering new ConversationChain chain...\u001b[0m\n",
      "Prompt after formatting:\n",
      "\u001b[32;1m\u001b[1;3mThe following is a friendly conversation between a human and an AI. The AI is talkative and provides lots of specific details from its context. If the AI does not know the answer to a question, it truthfully says it does not know.\n",
      "\n",
      "Current conversation:\n",
      "\n",
      "Human: 안녕하세요 여러분! 첫번째 대화에요\n",
      "AI:\u001b[0m\n",
      "\n",
      "\u001b[1m> Finished chain.\u001b[0m\n"
     ]
    },
    {
     "data": {
      "text/plain": [
       "'안녕하세요! 첫 번째 대화를 함께 할 수 있어서 정말 기쁩니다. 저는 다양한 주제에 대해 이야기하는 것을 좋아해요. 어떤 주제에 대해 이야기하고 싶으신가요?'"
      ]
     },
     "execution_count": 18,
     "metadata": {},
     "output_type": "execute_result"
    }
   ],
   "source": [
    "# 첫 대화\n",
    "conversation.predict(input=\"안녕하세요 여러분! 첫번째 대화에요\")"
   ]
  },
  {
   "cell_type": "code",
   "execution_count": 19,
   "metadata": {},
   "outputs": [
    {
     "name": "stdout",
     "output_type": "stream",
     "text": [
      "\n",
      "\n",
      "\u001b[1m> Entering new ConversationChain chain...\u001b[0m\n",
      "Prompt after formatting:\n",
      "\u001b[32;1m\u001b[1;3mThe following is a friendly conversation between a human and an AI. The AI is talkative and provides lots of specific details from its context. If the AI does not know the answer to a question, it truthfully says it does not know.\n",
      "\n",
      "Current conversation:\n",
      "Human: 안녕하세요 여러분! 첫번째 대화에요\n",
      "AI: 안녕하세요! 첫 번째 대화를 함께 할 수 있어서 정말 기쁩니다. 저는 다양한 주제에 대해 이야기하는 것을 좋아해요. 어떤 주제에 대해 이야기하고 싶으신가요?\n",
      "Human: 안녕하세요 여러분! 두번째 대화에요\n",
      "AI:\u001b[0m\n",
      "\n",
      "\u001b[1m> Finished chain.\u001b[0m\n"
     ]
    },
    {
     "data": {
      "text/plain": [
       "'안녕하세요! 두 번째 대화도 함께하게 되어 기쁩니다. 오늘은 어떤 주제로 이야기를 나누고 싶으신가요? 예를 들어, 최근에 관심 있는 취미나, 특별히 알고 싶은 지식이 있다면 제가 도와드릴 수 있어요!'"
      ]
     },
     "execution_count": 19,
     "metadata": {},
     "output_type": "execute_result"
    }
   ],
   "source": [
    "# 두번째 대화\n",
    "conversation.predict(input=\"안녕하세요 여러분! 두번째 대화에요\")"
   ]
  },
  {
   "cell_type": "code",
   "execution_count": 20,
   "metadata": {},
   "outputs": [
    {
     "name": "stdout",
     "output_type": "stream",
     "text": [
      "\n",
      "\n",
      "\u001b[1m> Entering new ConversationChain chain...\u001b[0m\n",
      "Prompt after formatting:\n",
      "\u001b[32;1m\u001b[1;3mThe following is a friendly conversation between a human and an AI. The AI is talkative and provides lots of specific details from its context. If the AI does not know the answer to a question, it truthfully says it does not know.\n",
      "\n",
      "Current conversation:\n",
      "Human: 안녕하세요 여러분! 첫번째 대화에요\n",
      "AI: 안녕하세요! 첫 번째 대화를 함께 할 수 있어서 정말 기쁩니다. 저는 다양한 주제에 대해 이야기하는 것을 좋아해요. 어떤 주제에 대해 이야기하고 싶으신가요?\n",
      "Human: 안녕하세요 여러분! 두번째 대화에요\n",
      "AI: 안녕하세요! 두 번째 대화도 함께하게 되어 기쁩니다. 오늘은 어떤 주제로 이야기를 나누고 싶으신가요? 예를 들어, 최근에 관심 있는 취미나, 특별히 알고 싶은 지식이 있다면 제가 도와드릴 수 있어요!\n",
      "Human: 안녕하세요 여러분! 세번째 대화에요\n",
      "AI:\u001b[0m\n",
      "\n",
      "\u001b[1m> Finished chain.\u001b[0m\n"
     ]
    },
    {
     "data": {
      "text/plain": [
       "'안녕하세요! 세 번째 대화를 시작하게 되어 정말 반갑습니다. 오늘은 어떤 주제에 대해 깊이 있게 이야기해 볼까요? 최근에 새롭게 배우기 시작한 것이 있거나, 특별히 궁금한 점이 있으면 언제든지 말씀해 주세요. 저는 다양한 정보를 제공할 준비가 되어 있어요!'"
      ]
     },
     "execution_count": 20,
     "metadata": {},
     "output_type": "execute_result"
    }
   ],
   "source": [
    "# 세번째 대화\n",
    "conversation.predict(input=\"안녕하세요 여러분! 세번째 대화에요\")"
   ]
  },
  {
   "cell_type": "code",
   "execution_count": 21,
   "metadata": {},
   "outputs": [
    {
     "name": "stdout",
     "output_type": "stream",
     "text": [
      "Human: 안녕하세요 여러분! 두번째 대화에요\n",
      "AI: 안녕하세요! 두 번째 대화도 함께하게 되어 기쁩니다. 오늘은 어떤 주제로 이야기를 나누고 싶으신가요? 예를 들어, 최근에 관심 있는 취미나, 특별히 알고 싶은 지식이 있다면 제가 도와드릴 수 있어요!\n",
      "Human: 안녕하세요 여러분! 세번째 대화에요\n",
      "AI: 안녕하세요! 세 번째 대화를 시작하게 되어 정말 반갑습니다. 오늘은 어떤 주제에 대해 깊이 있게 이야기해 볼까요? 최근에 새롭게 배우기 시작한 것이 있거나, 특별히 궁금한 점이 있으면 언제든지 말씀해 주세요. 저는 다양한 정보를 제공할 준비가 되어 있어요!\n"
     ]
    }
   ],
   "source": [
    "print(memory.buffer) # k=2 를 입력하였으므로, 처음 대화는 메모리에서 자동 삭제"
   ]
  },
  {
   "cell_type": "code",
   "execution_count": 23,
   "metadata": {},
   "outputs": [
    {
     "name": "stdout",
     "output_type": "stream",
     "text": [
      "안녕하세요 여러분! 두번째 대화에요\n",
      "안녕하세요! 두 번째 대화도 함께하게 되어 기쁩니다. 오늘은 어떤 주제로 이야기를 나누고 싶으신가요? 예를 들어, 최근에 관심 있는 취미나, 특별히 알고 싶은 지식이 있다면 제가 도와드릴 수 있어요!\n",
      "안녕하세요 여러분! 세번째 대화에요\n",
      "안녕하세요! 세 번째 대화를 시작하게 되어 정말 반갑습니다. 오늘은 어떤 주제에 대해 깊이 있게 이야기해 볼까요? 최근에 새롭게 배우기 시작한 것이 있거나, 특별히 궁금한 점이 있으면 언제든지 말씀해 주세요. 저는 다양한 정보를 제공할 준비가 되어 있어요!\n"
     ]
    }
   ],
   "source": [
    "for chat in memory.buffer_as_messages:\n",
    "    print(chat.content)"
   ]
  },
  {
   "cell_type": "markdown",
   "metadata": {},
   "source": [
    "### 4. 대화 챗봇 만들기 - 대화 내용 기록"
   ]
  },
  {
   "cell_type": "code",
   "execution_count": 12,
   "metadata": {},
   "outputs": [],
   "source": [
    "from langchain_core.prompts import ChatPromptTemplate, MessagesPlaceholder\n",
    "from langchain_openai import ChatOpenAI\n",
    "model = ChatOpenAI()\n",
    "prompt = ChatPromptTemplate.from_messages(\n",
    "    [\n",
    "        (\n",
    "            \"system\",\n",
    "            \"당신은 데이브 더 다이브의 게임 가이드 입니다. {number}자 내외로 한글로 답변하세요\"\n",
    "        ),\n",
    "        \n",
    "        MessagesPlaceholder(variable_name=\"history\"), # history 이름의 메세지 저장 객체\n",
    "        (\n",
    "            \"human\",\n",
    "            \"{input}\" # 사용자 입력을 변수로 받기\n",
    "        )\n",
    "    ]\n",
    ")\n",
    "chain = prompt | model"
   ]
  },
  {
   "cell_type": "code",
   "execution_count": 3,
   "metadata": {},
   "outputs": [],
   "source": [
    "from langchain_community.chat_message_histories import ChatMessageHistory\n",
    "from langchain_core.chat_history import BaseChatMessageHistory\n",
    "from langchain_core.runnables.history import RunnableWithMessageHistory\n",
    "\n",
    "session_store = {} # 메시지 기록(세션)을 저장할 딕셔너리\n",
    "\n",
    "# 세션 ID 를 기반으로 세션기록 가져오는 함수 만들기\n",
    "def get_session_history(session_ids : str) -> BaseChatMessageHistory:\n",
    "    print(session_ids)\n",
    "\n",
    "    if session_ids not in session_store(): # 세션 기록이 없을 경우\n",
    "        # 새로운 객체 생성해서 세션 스토어에 저장하기\n",
    "        session_store[session_ids] = ChatMessageHistory()\n",
    "    return session_store[session_ids] # 저장된 세션 ID 기록 반환하기"
   ]
  },
  {
   "cell_type": "code",
   "execution_count": 8,
   "metadata": {},
   "outputs": [],
   "source": [
    "with_message_history = (\n",
    "    RunnableWithMessageHistory(\n",
    "        runnable=chain,\n",
    "        get_session_history=get_session_history,\n",
    "        input_messages_key=\"input\",\n",
    "        history_messages_key='history',\n",
    "    )\n",
    ")"
   ]
  },
  {
   "cell_type": "code",
   "execution_count": 10,
   "metadata": {},
   "outputs": [
    {
     "name": "stdout",
     "output_type": "stream",
     "text": [
      "abc123\n",
      "content='무기는 주로 적을 공격하거나 방어하기 위해 사용되는 도구나 장비를 의미합니다. 종류에는 권총, 소총, 샷건, 칼, 창 등이 있으며, 군사, 경찰, 사냥 등 다양한 분야에서 사용됩니다. 안전하게 다루고 보관해야 하며, 남에게 해를 가하는 용도로 사용해서는 안 됩니다. 현지 법률을 준수해야 합니다.' response_metadata={'token_usage': {'completion_tokens': 150, 'prompt_tokens': 203, 'total_tokens': 353}, 'model_name': 'gpt-3.5-turbo', 'system_fingerprint': 'fp_c2295e73ad', 'finish_reason': 'stop', 'logprobs': None} id='run-a77a9594-8765-4396-aefd-6c028d369522-0'\n"
     ]
    }
   ],
   "source": [
    "result = with_message_history.invoke(\n",
    "    {\"number\": \"100\", \"input\": \"무기에 대해 알려주세요\"},\n",
    "    # 설정 정보로 세션 ID \"abc123\"을 전달합니다.\n",
    "    config={\"configurable\": {\"session_id\": \"abc123\"}},\n",
    ")\n",
    "print(result)\n"
   ]
  },
  {
   "cell_type": "code",
   "execution_count": 11,
   "metadata": {},
   "outputs": [
    {
     "name": "stdout",
     "output_type": "stream",
     "text": [
      "abc123\n"
     ]
    },
    {
     "data": {
      "text/plain": [
       "AIMessage(content='무기는 적을 공격하거나 방어하는 도구이며, 권총, 소총, 칼 등이 있습니다. 안전하게 다루고 보관하고 남에게 해를 가해서는 안 됩니다.', response_metadata={'token_usage': {'completion_tokens': 70, 'prompt_tokens': 378, 'total_tokens': 448}, 'model_name': 'gpt-3.5-turbo', 'system_fingerprint': 'fp_c2295e73ad', 'finish_reason': 'stop', 'logprobs': None}, id='run-4d92fcc4-b0e6-4033-b5ec-2c3b0f64da5b-0')"
      ]
     },
     "execution_count": 11,
     "metadata": {},
     "output_type": "execute_result"
    }
   ],
   "source": [
    "with_message_history.invoke(\n",
    "    {\"number\": \"50\", \"input\": \"이전의 답변 좀 더 요약해주세요\"},\n",
    "    config={\"configurable\": {\"session_id\": \"abc123\"}},\n",
    ")"
   ]
  },
  {
   "cell_type": "markdown",
   "metadata": {},
   "source": [
    "### 5. 텍스트 임베딩"
   ]
  },
  {
   "cell_type": "code",
   "execution_count": 158,
   "metadata": {},
   "outputs": [
    {
     "name": "stdout",
     "output_type": "stream",
     "text": [
      "Requirement already satisfied: tiktoken in c:\\users\\ms211\\miniconda3\\envs\\torch_main\\lib\\site-packages (0.6.0)\n",
      "Collecting chromadb\n",
      "  Obtaining dependency information for chromadb from https://files.pythonhosted.org/packages/cc/63/b7d76109331318423f9cfb89bd89c99e19f5d0b47a5105439a629224d297/chromadb-0.4.24-py3-none-any.whl.metadata\n",
      "  Downloading chromadb-0.4.24-py3-none-any.whl.metadata (7.3 kB)\n",
      "Requirement already satisfied: regex>=2022.1.18 in c:\\users\\ms211\\miniconda3\\envs\\torch_main\\lib\\site-packages (from tiktoken) (2023.12.25)\n",
      "Requirement already satisfied: requests>=2.26.0 in c:\\users\\ms211\\miniconda3\\envs\\torch_main\\lib\\site-packages (from tiktoken) (2.31.0)\n",
      "Collecting build>=1.0.3 (from chromadb)\n",
      "  Obtaining dependency information for build>=1.0.3 from https://files.pythonhosted.org/packages/e2/03/f3c8ba0a6b6e30d7d18c40faab90807c9bb5e9a1e3b2fe2008af624a9c97/build-1.2.1-py3-none-any.whl.metadata\n",
      "  Downloading build-1.2.1-py3-none-any.whl.metadata (4.3 kB)\n",
      "Requirement already satisfied: pydantic>=1.9 in c:\\users\\ms211\\miniconda3\\envs\\torch_main\\lib\\site-packages (from chromadb) (2.6.4)\n",
      "Collecting chroma-hnswlib==0.7.3 (from chromadb)\n",
      "  Obtaining dependency information for chroma-hnswlib==0.7.3 from https://files.pythonhosted.org/packages/cc/3d/ca311b8f79744db3f4faad8fd9140af80d34c94829d3ed1726c98cf4a611/chroma_hnswlib-0.7.3-cp310-cp310-win_amd64.whl.metadata\n",
      "  Downloading chroma_hnswlib-0.7.3-cp310-cp310-win_amd64.whl.metadata (262 bytes)\n",
      "Requirement already satisfied: fastapi>=0.95.2 in c:\\users\\ms211\\miniconda3\\envs\\torch_main\\lib\\site-packages (from chromadb) (0.110.1)\n",
      "Requirement already satisfied: uvicorn[standard]>=0.18.3 in c:\\users\\ms211\\miniconda3\\envs\\torch_main\\lib\\site-packages (from chromadb) (0.29.0)\n",
      "Requirement already satisfied: numpy>=1.22.5 in c:\\users\\ms211\\miniconda3\\envs\\torch_main\\lib\\site-packages (from chromadb) (1.25.2)\n",
      "Collecting posthog>=2.4.0 (from chromadb)\n",
      "  Obtaining dependency information for posthog>=2.4.0 from https://files.pythonhosted.org/packages/6c/5f/24cb22118db0e11703b6b80ef9f982eadde21eb585c3a769719e48dce893/posthog-3.5.0-py2.py3-none-any.whl.metadata\n",
      "  Downloading posthog-3.5.0-py2.py3-none-any.whl.metadata (2.0 kB)\n",
      "Requirement already satisfied: typing-extensions>=4.5.0 in c:\\users\\ms211\\miniconda3\\envs\\torch_main\\lib\\site-packages (from chromadb) (4.11.0)\n",
      "Collecting pulsar-client>=3.1.0 (from chromadb)\n",
      "  Obtaining dependency information for pulsar-client>=3.1.0 from https://files.pythonhosted.org/packages/0a/cc/d606b483dbb263cbaf7fc7c3d2ec4032628cf3324266cf9a4ccdb2a73076/pulsar_client-3.5.0-cp310-cp310-win_amd64.whl.metadata\n",
      "  Downloading pulsar_client-3.5.0-cp310-cp310-win_amd64.whl.metadata (1.0 kB)\n",
      "Collecting onnxruntime>=1.14.1 (from chromadb)\n",
      "  Obtaining dependency information for onnxruntime>=1.14.1 from https://files.pythonhosted.org/packages/3c/9a/ecc4061ab674b2cced62abb5b3abe67fa5c59f4854bb2cf4d951952c6ba0/onnxruntime-1.17.3-cp310-cp310-win_amd64.whl.metadata\n",
      "  Downloading onnxruntime-1.17.3-cp310-cp310-win_amd64.whl.metadata (4.6 kB)\n",
      "Collecting opentelemetry-api>=1.2.0 (from chromadb)\n",
      "  Obtaining dependency information for opentelemetry-api>=1.2.0 from https://files.pythonhosted.org/packages/81/30/603d64b33b1203638cf4fae49095bc9851fe09c6ad6d88dd10d7e6a9f999/opentelemetry_api-1.24.0-py3-none-any.whl.metadata\n",
      "  Downloading opentelemetry_api-1.24.0-py3-none-any.whl.metadata (1.3 kB)\n",
      "Collecting opentelemetry-exporter-otlp-proto-grpc>=1.2.0 (from chromadb)\n",
      "  Obtaining dependency information for opentelemetry-exporter-otlp-proto-grpc>=1.2.0 from https://files.pythonhosted.org/packages/b0/14/cdfe43225303e621d9c329001dd4f922f249ec62b11a0729dbbb2eab14c7/opentelemetry_exporter_otlp_proto_grpc-1.24.0-py3-none-any.whl.metadata\n",
      "  Downloading opentelemetry_exporter_otlp_proto_grpc-1.24.0-py3-none-any.whl.metadata (2.2 kB)\n",
      "Collecting opentelemetry-instrumentation-fastapi>=0.41b0 (from chromadb)\n",
      "  Obtaining dependency information for opentelemetry-instrumentation-fastapi>=0.41b0 from https://files.pythonhosted.org/packages/c4/8e/6789b96a86f3f1f81dbfb381a5b6c83309c98bda8f072194735d58c2d0ec/opentelemetry_instrumentation_fastapi-0.45b0-py3-none-any.whl.metadata\n",
      "  Downloading opentelemetry_instrumentation_fastapi-0.45b0-py3-none-any.whl.metadata (2.0 kB)\n",
      "Collecting opentelemetry-sdk>=1.2.0 (from chromadb)\n",
      "  Obtaining dependency information for opentelemetry-sdk>=1.2.0 from https://files.pythonhosted.org/packages/f2/de/13693237295f4b90f831feaac2481d0b467605ca307b964d6cb8b5a39da2/opentelemetry_sdk-1.24.0-py3-none-any.whl.metadata\n",
      "  Downloading opentelemetry_sdk-1.24.0-py3-none-any.whl.metadata (1.4 kB)\n",
      "Collecting tokenizers>=0.13.2 (from chromadb)\n",
      "  Obtaining dependency information for tokenizers>=0.13.2 from https://files.pythonhosted.org/packages/c9/87/0bf37626c5f1ea2462e0398be88c287f3d40c696c255ba478bf525bdc852/tokenizers-0.15.2-cp310-none-win_amd64.whl.metadata\n",
      "  Downloading tokenizers-0.15.2-cp310-none-win_amd64.whl.metadata (6.8 kB)\n",
      "Collecting pypika>=0.48.9 (from chromadb)\n",
      "  Downloading PyPika-0.48.9.tar.gz (67 kB)\n",
      "     ---------------------------------------- 0.0/67.3 kB ? eta -:--:--\n",
      "     ---------------------------------------- 67.3/67.3 kB ? eta 0:00:00\n",
      "  Installing build dependencies: started\n",
      "  Installing build dependencies: finished with status 'done'\n",
      "  Getting requirements to build wheel: started\n",
      "  Getting requirements to build wheel: finished with status 'done'\n",
      "  Preparing metadata (pyproject.toml): started\n",
      "  Preparing metadata (pyproject.toml): finished with status 'done'\n",
      "Requirement already satisfied: tqdm>=4.65.0 in c:\\users\\ms211\\miniconda3\\envs\\torch_main\\lib\\site-packages (from chromadb) (4.66.1)\n",
      "Collecting overrides>=7.3.1 (from chromadb)\n",
      "  Obtaining dependency information for overrides>=7.3.1 from https://files.pythonhosted.org/packages/2c/ab/fc8290c6a4c722e5514d80f62b2dc4c4df1a68a41d1364e625c35990fcf3/overrides-7.7.0-py3-none-any.whl.metadata\n",
      "  Downloading overrides-7.7.0-py3-none-any.whl.metadata (5.8 kB)\n",
      "Requirement already satisfied: importlib-resources in c:\\users\\ms211\\miniconda3\\envs\\torch_main\\lib\\site-packages (from chromadb) (6.4.0)\n",
      "Collecting grpcio>=1.58.0 (from chromadb)\n",
      "  Obtaining dependency information for grpcio>=1.58.0 from https://files.pythonhosted.org/packages/12/00/737d586ea868b2c37f568f31ca4cc099eeab42294e8327f35e9d3c5be5b1/grpcio-1.62.1-cp310-cp310-win_amd64.whl.metadata\n",
      "  Downloading grpcio-1.62.1-cp310-cp310-win_amd64.whl.metadata (4.2 kB)\n",
      "Collecting bcrypt>=4.0.1 (from chromadb)\n",
      "  Obtaining dependency information for bcrypt>=4.0.1 from https://files.pythonhosted.org/packages/53/5b/73803e5bf877e07739deaeecb2e356f4cc9ae3b766558959a898f7a993e0/bcrypt-4.1.2-cp39-abi3-win_amd64.whl.metadata\n",
      "  Downloading bcrypt-4.1.2-cp39-abi3-win_amd64.whl.metadata (9.8 kB)\n",
      "Requirement already satisfied: typer>=0.9.0 in c:\\users\\ms211\\miniconda3\\envs\\torch_main\\lib\\site-packages (from chromadb) (0.12.3)\n",
      "Collecting kubernetes>=28.1.0 (from chromadb)\n",
      "  Obtaining dependency information for kubernetes>=28.1.0 from https://files.pythonhosted.org/packages/6f/34/164e57fec8a9693d7e6ae2d1a345482020ea9e9b32eab95a90bb3eaea83d/kubernetes-29.0.0-py2.py3-none-any.whl.metadata\n",
      "  Downloading kubernetes-29.0.0-py2.py3-none-any.whl.metadata (1.5 kB)\n",
      "Requirement already satisfied: tenacity>=8.2.3 in c:\\users\\ms211\\miniconda3\\envs\\torch_main\\lib\\site-packages (from chromadb) (8.2.3)\n",
      "Requirement already satisfied: PyYAML>=6.0.0 in c:\\users\\ms211\\miniconda3\\envs\\torch_main\\lib\\site-packages (from chromadb) (6.0)\n",
      "Collecting mmh3>=4.0.1 (from chromadb)\n",
      "  Obtaining dependency information for mmh3>=4.0.1 from https://files.pythonhosted.org/packages/73/2b/3aec865da7feb52830782d9fb7c54115cc18815680c244301adf9080622f/mmh3-4.1.0-cp310-cp310-win_amd64.whl.metadata\n",
      "  Downloading mmh3-4.1.0-cp310-cp310-win_amd64.whl.metadata (13 kB)\n",
      "Requirement already satisfied: orjson>=3.9.12 in c:\\users\\ms211\\miniconda3\\envs\\torch_main\\lib\\site-packages (from chromadb) (3.10.0)\n",
      "Requirement already satisfied: packaging>=19.1 in c:\\users\\ms211\\miniconda3\\envs\\torch_main\\lib\\site-packages (from build>=1.0.3->chromadb) (23.2)\n",
      "Collecting pyproject_hooks (from build>=1.0.3->chromadb)\n",
      "  Obtaining dependency information for pyproject_hooks from https://files.pythonhosted.org/packages/d5/ea/9ae603de7fbb3df820b23a70f6aff92bf8c7770043254ad8d2dc9d6bcba4/pyproject_hooks-1.0.0-py3-none-any.whl.metadata\n",
      "  Downloading pyproject_hooks-1.0.0-py3-none-any.whl.metadata (1.3 kB)\n",
      "Requirement already satisfied: colorama in c:\\users\\ms211\\miniconda3\\envs\\torch_main\\lib\\site-packages (from build>=1.0.3->chromadb) (0.4.6)\n",
      "Collecting tomli>=1.1.0 (from build>=1.0.3->chromadb)\n",
      "  Obtaining dependency information for tomli>=1.1.0 from https://files.pythonhosted.org/packages/97/75/10a9ebee3fd790d20926a90a2547f0bf78f371b2f13aa822c759680ca7b9/tomli-2.0.1-py3-none-any.whl.metadata\n",
      "  Downloading tomli-2.0.1-py3-none-any.whl.metadata (8.9 kB)\n",
      "Requirement already satisfied: starlette<0.38.0,>=0.37.2 in c:\\users\\ms211\\miniconda3\\envs\\torch_main\\lib\\site-packages (from fastapi>=0.95.2->chromadb) (0.37.2)\n",
      "Requirement already satisfied: certifi>=14.05.14 in c:\\users\\ms211\\appdata\\roaming\\python\\python310\\site-packages (from kubernetes>=28.1.0->chromadb) (2023.7.22)\n",
      "Requirement already satisfied: six>=1.9.0 in c:\\users\\ms211\\miniconda3\\envs\\torch_main\\lib\\site-packages (from kubernetes>=28.1.0->chromadb) (1.16.0)\n",
      "Requirement already satisfied: python-dateutil>=2.5.3 in c:\\users\\ms211\\miniconda3\\envs\\torch_main\\lib\\site-packages (from kubernetes>=28.1.0->chromadb) (2.9.0)\n",
      "Collecting google-auth>=1.0.1 (from kubernetes>=28.1.0->chromadb)\n",
      "  Obtaining dependency information for google-auth>=1.0.1 from https://files.pythonhosted.org/packages/9e/8d/ddbcf81ec751d8ee5fd18ac11ff38a0e110f39dfbf105e6d9db69d556dd0/google_auth-2.29.0-py2.py3-none-any.whl.metadata\n",
      "  Downloading google_auth-2.29.0-py2.py3-none-any.whl.metadata (4.7 kB)\n",
      "Collecting websocket-client!=0.40.0,!=0.41.*,!=0.42.*,>=0.32.0 (from kubernetes>=28.1.0->chromadb)\n",
      "  Obtaining dependency information for websocket-client!=0.40.0,!=0.41.*,!=0.42.*,>=0.32.0 from https://files.pythonhosted.org/packages/1e/70/1e88138a9afbed1d37093b85f0bebc3011623c4f47c166431599fe9d6c93/websocket_client-1.7.0-py3-none-any.whl.metadata\n",
      "  Downloading websocket_client-1.7.0-py3-none-any.whl.metadata (7.9 kB)\n",
      "Collecting requests-oauthlib (from kubernetes>=28.1.0->chromadb)\n",
      "  Obtaining dependency information for requests-oauthlib from https://files.pythonhosted.org/packages/3b/5d/63d4ae3b9daea098d5d6f5da83984853c1bbacd5dc826764b249fe119d24/requests_oauthlib-2.0.0-py2.py3-none-any.whl.metadata\n",
      "  Downloading requests_oauthlib-2.0.0-py2.py3-none-any.whl.metadata (11 kB)\n",
      "Collecting oauthlib>=3.2.2 (from kubernetes>=28.1.0->chromadb)\n",
      "  Obtaining dependency information for oauthlib>=3.2.2 from https://files.pythonhosted.org/packages/7e/80/cab10959dc1faead58dc8384a781dfbf93cb4d33d50988f7a69f1b7c9bbe/oauthlib-3.2.2-py3-none-any.whl.metadata\n",
      "  Downloading oauthlib-3.2.2-py3-none-any.whl.metadata (7.5 kB)\n",
      "Requirement already satisfied: urllib3>=1.24.2 in c:\\users\\ms211\\miniconda3\\envs\\torch_main\\lib\\site-packages (from kubernetes>=28.1.0->chromadb) (1.26.16)\n",
      "Collecting coloredlogs (from onnxruntime>=1.14.1->chromadb)\n",
      "  Obtaining dependency information for coloredlogs from https://files.pythonhosted.org/packages/a7/06/3d6badcf13db419e25b07041d9c7b4a2c331d3f4e7134445ec5df57714cd/coloredlogs-15.0.1-py2.py3-none-any.whl.metadata\n",
      "  Downloading coloredlogs-15.0.1-py2.py3-none-any.whl.metadata (12 kB)\n",
      "Collecting flatbuffers (from onnxruntime>=1.14.1->chromadb)\n",
      "  Obtaining dependency information for flatbuffers from https://files.pythonhosted.org/packages/41/f0/7e988a019bc54b2dbd0ad4182ef2d53488bb02e58694cd79d61369e85900/flatbuffers-24.3.25-py2.py3-none-any.whl.metadata\n",
      "  Downloading flatbuffers-24.3.25-py2.py3-none-any.whl.metadata (850 bytes)\n",
      "Collecting protobuf (from onnxruntime>=1.14.1->chromadb)\n",
      "  Obtaining dependency information for protobuf from https://files.pythonhosted.org/packages/8d/83/d70cb6fedb1f38318af01f0035f2103732630af0ca323c0198122b49323b/protobuf-5.26.1-cp310-abi3-win_amd64.whl.metadata\n",
      "  Downloading protobuf-5.26.1-cp310-abi3-win_amd64.whl.metadata (592 bytes)\n",
      "Requirement already satisfied: sympy in c:\\users\\ms211\\miniconda3\\envs\\torch_main\\lib\\site-packages (from onnxruntime>=1.14.1->chromadb) (1.11.1)\n",
      "Collecting deprecated>=1.2.6 (from opentelemetry-api>=1.2.0->chromadb)\n",
      "  Obtaining dependency information for deprecated>=1.2.6 from https://files.pythonhosted.org/packages/20/8d/778b7d51b981a96554f29136cd59ca7880bf58094338085bcf2a979a0e6a/Deprecated-1.2.14-py2.py3-none-any.whl.metadata\n",
      "  Downloading Deprecated-1.2.14-py2.py3-none-any.whl.metadata (5.4 kB)\n",
      "Collecting importlib-metadata<=7.0,>=6.0 (from opentelemetry-api>=1.2.0->chromadb)\n",
      "  Obtaining dependency information for importlib-metadata<=7.0,>=6.0 from https://files.pythonhosted.org/packages/73/26/9777cfe0cdc8181a32eaf542f4a2a435e5aba5dd38f41cfc0a532dc51027/importlib_metadata-7.0.0-py3-none-any.whl.metadata\n",
      "  Downloading importlib_metadata-7.0.0-py3-none-any.whl.metadata (4.9 kB)\n",
      "Collecting googleapis-common-protos~=1.52 (from opentelemetry-exporter-otlp-proto-grpc>=1.2.0->chromadb)\n",
      "  Obtaining dependency information for googleapis-common-protos~=1.52 from https://files.pythonhosted.org/packages/dc/a6/12a0c976140511d8bc8a16ad15793b2aef29ac927baa0786ccb7ddbb6e1c/googleapis_common_protos-1.63.0-py2.py3-none-any.whl.metadata\n",
      "  Downloading googleapis_common_protos-1.63.0-py2.py3-none-any.whl.metadata (1.5 kB)\n",
      "Collecting opentelemetry-exporter-otlp-proto-common==1.24.0 (from opentelemetry-exporter-otlp-proto-grpc>=1.2.0->chromadb)\n",
      "  Obtaining dependency information for opentelemetry-exporter-otlp-proto-common==1.24.0 from https://files.pythonhosted.org/packages/46/d3/b344cb181a525f7e4519c27de17d721c504e01063520b9003569ef9bf692/opentelemetry_exporter_otlp_proto_common-1.24.0-py3-none-any.whl.metadata\n",
      "  Downloading opentelemetry_exporter_otlp_proto_common-1.24.0-py3-none-any.whl.metadata (1.7 kB)\n",
      "Collecting opentelemetry-proto==1.24.0 (from opentelemetry-exporter-otlp-proto-grpc>=1.2.0->chromadb)\n",
      "  Obtaining dependency information for opentelemetry-proto==1.24.0 from https://files.pythonhosted.org/packages/14/b2/4e65d78d4b093f25fadeb215881ecbf5a77ee46a071f2b3a548ef724c728/opentelemetry_proto-1.24.0-py3-none-any.whl.metadata\n",
      "  Downloading opentelemetry_proto-1.24.0-py3-none-any.whl.metadata (2.2 kB)\n",
      "Collecting protobuf (from onnxruntime>=1.14.1->chromadb)\n",
      "  Obtaining dependency information for protobuf from https://files.pythonhosted.org/packages/ad/6e/1bed3b7c904cc178cb8ee8dbaf72934964452b3de95b7a63412591edb93c/protobuf-4.25.3-cp310-abi3-win_amd64.whl.metadata\n",
      "  Downloading protobuf-4.25.3-cp310-abi3-win_amd64.whl.metadata (541 bytes)\n",
      "Collecting opentelemetry-instrumentation-asgi==0.45b0 (from opentelemetry-instrumentation-fastapi>=0.41b0->chromadb)\n",
      "  Obtaining dependency information for opentelemetry-instrumentation-asgi==0.45b0 from https://files.pythonhosted.org/packages/21/c0/a50c91aad79ea205130d8d64426f7a36fefb806c5f5fdfdb51ea8cf67db1/opentelemetry_instrumentation_asgi-0.45b0-py3-none-any.whl.metadata\n",
      "  Downloading opentelemetry_instrumentation_asgi-0.45b0-py3-none-any.whl.metadata (1.9 kB)\n",
      "Collecting opentelemetry-instrumentation==0.45b0 (from opentelemetry-instrumentation-fastapi>=0.41b0->chromadb)\n",
      "  Obtaining dependency information for opentelemetry-instrumentation==0.45b0 from https://files.pythonhosted.org/packages/fe/e5/cb0cfa596fa18d09f458058d6e55e2fc82300a45ae57c457c197949fd4a6/opentelemetry_instrumentation-0.45b0-py3-none-any.whl.metadata\n",
      "  Downloading opentelemetry_instrumentation-0.45b0-py3-none-any.whl.metadata (6.1 kB)\n",
      "Collecting opentelemetry-semantic-conventions==0.45b0 (from opentelemetry-instrumentation-fastapi>=0.41b0->chromadb)\n",
      "  Obtaining dependency information for opentelemetry-semantic-conventions==0.45b0 from https://files.pythonhosted.org/packages/16/3a/d836ab98544e5618b397b4b2ea917f1b7699022c4a897cd850733df08112/opentelemetry_semantic_conventions-0.45b0-py3-none-any.whl.metadata\n",
      "  Downloading opentelemetry_semantic_conventions-0.45b0-py3-none-any.whl.metadata (2.2 kB)\n",
      "Collecting opentelemetry-util-http==0.45b0 (from opentelemetry-instrumentation-fastapi>=0.41b0->chromadb)\n",
      "  Obtaining dependency information for opentelemetry-util-http==0.45b0 from https://files.pythonhosted.org/packages/13/e4/f62b2b098481c093d87095454360ab2dce1bc967c6220096e3d10207045a/opentelemetry_util_http-0.45b0-py3-none-any.whl.metadata\n",
      "  Downloading opentelemetry_util_http-0.45b0-py3-none-any.whl.metadata (2.4 kB)\n",
      "Requirement already satisfied: setuptools>=16.0 in c:\\users\\ms211\\miniconda3\\envs\\torch_main\\lib\\site-packages (from opentelemetry-instrumentation==0.45b0->opentelemetry-instrumentation-fastapi>=0.41b0->chromadb) (68.0.0)\n",
      "Collecting wrapt<2.0.0,>=1.0.0 (from opentelemetry-instrumentation==0.45b0->opentelemetry-instrumentation-fastapi>=0.41b0->chromadb)\n",
      "  Obtaining dependency information for wrapt<2.0.0,>=1.0.0 from https://files.pythonhosted.org/packages/19/2b/548d23362e3002ebbfaefe649b833fa43f6ca37ac3e95472130c4b69e0b4/wrapt-1.16.0-cp310-cp310-win_amd64.whl.metadata\n",
      "  Downloading wrapt-1.16.0-cp310-cp310-win_amd64.whl.metadata (6.8 kB)\n",
      "Collecting asgiref~=3.0 (from opentelemetry-instrumentation-asgi==0.45b0->opentelemetry-instrumentation-fastapi>=0.41b0->chromadb)\n",
      "  Obtaining dependency information for asgiref~=3.0 from https://files.pythonhosted.org/packages/39/e3/893e8757be2612e6c266d9bb58ad2e3651524b5b40cf56761e985a28b13e/asgiref-3.8.1-py3-none-any.whl.metadata\n",
      "  Downloading asgiref-3.8.1-py3-none-any.whl.metadata (9.3 kB)\n",
      "Collecting monotonic>=1.5 (from posthog>=2.4.0->chromadb)\n",
      "  Obtaining dependency information for monotonic>=1.5 from https://files.pythonhosted.org/packages/9a/67/7e8406a29b6c45be7af7740456f7f37025f0506ae2e05fb9009a53946860/monotonic-1.6-py2.py3-none-any.whl.metadata\n",
      "  Downloading monotonic-1.6-py2.py3-none-any.whl.metadata (1.5 kB)\n",
      "Collecting backoff>=1.10.0 (from posthog>=2.4.0->chromadb)\n",
      "  Obtaining dependency information for backoff>=1.10.0 from https://files.pythonhosted.org/packages/df/73/b6e24bd22e6720ca8ee9a85a0c4a2971af8497d8f3193fa05390cbd46e09/backoff-2.2.1-py3-none-any.whl.metadata\n",
      "  Downloading backoff-2.2.1-py3-none-any.whl.metadata (14 kB)\n",
      "Requirement already satisfied: annotated-types>=0.4.0 in c:\\users\\ms211\\miniconda3\\envs\\torch_main\\lib\\site-packages (from pydantic>=1.9->chromadb) (0.6.0)\n",
      "Requirement already satisfied: pydantic-core==2.16.3 in c:\\users\\ms211\\miniconda3\\envs\\torch_main\\lib\\site-packages (from pydantic>=1.9->chromadb) (2.16.3)\n",
      "Requirement already satisfied: charset-normalizer<4,>=2 in c:\\users\\ms211\\miniconda3\\envs\\torch_main\\lib\\site-packages (from requests>=2.26.0->tiktoken) (2.0.4)\n",
      "Requirement already satisfied: idna<4,>=2.5 in c:\\users\\ms211\\appdata\\roaming\\python\\python310\\site-packages (from requests>=2.26.0->tiktoken) (2.10)\n",
      "Requirement already satisfied: huggingface_hub<1.0,>=0.16.4 in c:\\users\\ms211\\miniconda3\\envs\\torch_main\\lib\\site-packages (from tokenizers>=0.13.2->chromadb) (0.22.2)\n",
      "Requirement already satisfied: click>=8.0.0 in c:\\users\\ms211\\miniconda3\\envs\\torch_main\\lib\\site-packages (from typer>=0.9.0->chromadb) (8.1.7)\n",
      "Requirement already satisfied: shellingham>=1.3.0 in c:\\users\\ms211\\miniconda3\\envs\\torch_main\\lib\\site-packages (from typer>=0.9.0->chromadb) (1.5.4)\n",
      "Requirement already satisfied: rich>=10.11.0 in c:\\users\\ms211\\miniconda3\\envs\\torch_main\\lib\\site-packages (from typer>=0.9.0->chromadb) (13.7.1)\n",
      "Requirement already satisfied: h11>=0.8 in c:\\users\\ms211\\miniconda3\\envs\\torch_main\\lib\\site-packages (from uvicorn[standard]>=0.18.3->chromadb) (0.14.0)\n",
      "Collecting httptools>=0.5.0 (from uvicorn[standard]>=0.18.3->chromadb)\n",
      "  Obtaining dependency information for httptools>=0.5.0 from https://files.pythonhosted.org/packages/1e/fc/8a26c2adcd3f141e4729897633f03832b71ebea6f4c31cce67a92ded1961/httptools-0.6.1-cp310-cp310-win_amd64.whl.metadata\n",
      "  Downloading httptools-0.6.1-cp310-cp310-win_amd64.whl.metadata (3.7 kB)\n",
      "Requirement already satisfied: python-dotenv>=0.13 in c:\\users\\ms211\\miniconda3\\envs\\torch_main\\lib\\site-packages (from uvicorn[standard]>=0.18.3->chromadb) (1.0.1)\n",
      "Collecting watchfiles>=0.13 (from uvicorn[standard]>=0.18.3->chromadb)\n",
      "  Obtaining dependency information for watchfiles>=0.13 from https://files.pythonhosted.org/packages/4b/ea/80527adf1ad51488a96fc201715730af5879f4dfeccb5e2069ff82d890d4/watchfiles-0.21.0-cp310-none-win_amd64.whl.metadata\n",
      "  Downloading watchfiles-0.21.0-cp310-none-win_amd64.whl.metadata (5.0 kB)\n",
      "Requirement already satisfied: websockets>=10.4 in c:\\users\\ms211\\miniconda3\\envs\\torch_main\\lib\\site-packages (from uvicorn[standard]>=0.18.3->chromadb) (11.0.3)\n",
      "Collecting cachetools<6.0,>=2.0.0 (from google-auth>=1.0.1->kubernetes>=28.1.0->chromadb)\n",
      "  Obtaining dependency information for cachetools<6.0,>=2.0.0 from https://files.pythonhosted.org/packages/fb/2b/a64c2d25a37aeb921fddb929111413049fc5f8b9a4c1aefaffaafe768d54/cachetools-5.3.3-py3-none-any.whl.metadata\n",
      "  Downloading cachetools-5.3.3-py3-none-any.whl.metadata (5.3 kB)\n",
      "Collecting pyasn1-modules>=0.2.1 (from google-auth>=1.0.1->kubernetes>=28.1.0->chromadb)\n",
      "  Obtaining dependency information for pyasn1-modules>=0.2.1 from https://files.pythonhosted.org/packages/13/68/8906226b15ef38e71dc926c321d2fe99de8048e9098b5dfd38343011c886/pyasn1_modules-0.4.0-py3-none-any.whl.metadata\n",
      "  Downloading pyasn1_modules-0.4.0-py3-none-any.whl.metadata (3.4 kB)\n",
      "Collecting rsa<5,>=3.1.4 (from google-auth>=1.0.1->kubernetes>=28.1.0->chromadb)\n",
      "  Obtaining dependency information for rsa<5,>=3.1.4 from https://files.pythonhosted.org/packages/49/97/fa78e3d2f65c02c8e1268b9aba606569fe97f6c8f7c2d74394553347c145/rsa-4.9-py3-none-any.whl.metadata\n",
      "  Downloading rsa-4.9-py3-none-any.whl.metadata (4.2 kB)\n",
      "Requirement already satisfied: filelock in c:\\users\\ms211\\miniconda3\\envs\\torch_main\\lib\\site-packages (from huggingface_hub<1.0,>=0.16.4->tokenizers>=0.13.2->chromadb) (3.9.0)\n",
      "Requirement already satisfied: fsspec>=2023.5.0 in c:\\users\\ms211\\miniconda3\\envs\\torch_main\\lib\\site-packages (from huggingface_hub<1.0,>=0.16.4->tokenizers>=0.13.2->chromadb) (2024.3.1)\n",
      "Requirement already satisfied: zipp>=0.5 in c:\\users\\ms211\\miniconda3\\envs\\torch_main\\lib\\site-packages (from importlib-metadata<=7.0,>=6.0->opentelemetry-api>=1.2.0->chromadb) (3.17.0)\n",
      "Requirement already satisfied: markdown-it-py>=2.2.0 in c:\\users\\ms211\\miniconda3\\envs\\torch_main\\lib\\site-packages (from rich>=10.11.0->typer>=0.9.0->chromadb) (3.0.0)\n",
      "Requirement already satisfied: pygments<3.0.0,>=2.13.0 in c:\\users\\ms211\\miniconda3\\envs\\torch_main\\lib\\site-packages (from rich>=10.11.0->typer>=0.9.0->chromadb) (2.17.2)\n",
      "Requirement already satisfied: anyio<5,>=3.4.0 in c:\\users\\ms211\\miniconda3\\envs\\torch_main\\lib\\site-packages (from starlette<0.38.0,>=0.37.2->fastapi>=0.95.2->chromadb) (4.3.0)\n",
      "Collecting humanfriendly>=9.1 (from coloredlogs->onnxruntime>=1.14.1->chromadb)\n",
      "  Obtaining dependency information for humanfriendly>=9.1 from https://files.pythonhosted.org/packages/f0/0f/310fb31e39e2d734ccaa2c0fb981ee41f7bd5056ce9bc29b2248bd569169/humanfriendly-10.0-py2.py3-none-any.whl.metadata\n",
      "  Downloading humanfriendly-10.0-py2.py3-none-any.whl.metadata (9.2 kB)\n",
      "Requirement already satisfied: mpmath>=0.19 in c:\\users\\ms211\\miniconda3\\envs\\torch_main\\lib\\site-packages (from sympy->onnxruntime>=1.14.1->chromadb) (1.3.0)\n",
      "Requirement already satisfied: sniffio>=1.1 in c:\\users\\ms211\\miniconda3\\envs\\torch_main\\lib\\site-packages (from anyio<5,>=3.4.0->starlette<0.38.0,>=0.37.2->fastapi>=0.95.2->chromadb) (1.3.1)\n",
      "Requirement already satisfied: exceptiongroup>=1.0.2 in c:\\users\\ms211\\miniconda3\\envs\\torch_main\\lib\\site-packages (from anyio<5,>=3.4.0->starlette<0.38.0,>=0.37.2->fastapi>=0.95.2->chromadb) (1.2.0)\n",
      "Collecting pyreadline3 (from humanfriendly>=9.1->coloredlogs->onnxruntime>=1.14.1->chromadb)\n",
      "  Obtaining dependency information for pyreadline3 from https://files.pythonhosted.org/packages/56/fc/a3c13ded7b3057680c8ae95a9b6cc83e63657c38e0005c400a5d018a33a7/pyreadline3-3.4.1-py3-none-any.whl.metadata\n",
      "  Downloading pyreadline3-3.4.1-py3-none-any.whl.metadata (2.0 kB)\n",
      "Requirement already satisfied: mdurl~=0.1 in c:\\users\\ms211\\miniconda3\\envs\\torch_main\\lib\\site-packages (from markdown-it-py>=2.2.0->rich>=10.11.0->typer>=0.9.0->chromadb) (0.1.2)\n",
      "Collecting pyasn1<0.7.0,>=0.4.6 (from pyasn1-modules>=0.2.1->google-auth>=1.0.1->kubernetes>=28.1.0->chromadb)\n",
      "  Obtaining dependency information for pyasn1<0.7.0,>=0.4.6 from https://files.pythonhosted.org/packages/23/7e/5f50d07d5e70a2addbccd90ac2950f81d1edd0783630651d9268d7f1db49/pyasn1-0.6.0-py2.py3-none-any.whl.metadata\n",
      "  Downloading pyasn1-0.6.0-py2.py3-none-any.whl.metadata (8.3 kB)\n",
      "Downloading chromadb-0.4.24-py3-none-any.whl (525 kB)\n",
      "   ---------------------------------------- 0.0/525.5 kB ? eta -:--:--\n",
      "   ------------------------ --------------- 317.4/525.5 kB 6.7 MB/s eta 0:00:01\n",
      "   ---------------------------------------  522.2/525.5 kB 6.6 MB/s eta 0:00:01\n",
      "   ---------------------------------------  522.2/525.5 kB 6.6 MB/s eta 0:00:01\n",
      "   ---------------------------------------- 525.5/525.5 kB 3.7 MB/s eta 0:00:00\n",
      "Downloading chroma_hnswlib-0.7.3-cp310-cp310-win_amd64.whl (150 kB)\n",
      "   ---------------------------------------- 0.0/150.6 kB ? eta -:--:--\n",
      "   ---------------------------------------- 150.6/150.6 kB 4.5 MB/s eta 0:00:00\n",
      "Downloading bcrypt-4.1.2-cp39-abi3-win_amd64.whl (158 kB)\n",
      "   ---------------------------------------- 0.0/158.3 kB ? eta -:--:--\n",
      "   ---------------------------------------- 158.3/158.3 kB 9.3 MB/s eta 0:00:00\n",
      "Downloading build-1.2.1-py3-none-any.whl (21 kB)\n",
      "Downloading grpcio-1.62.1-cp310-cp310-win_amd64.whl (3.8 MB)\n",
      "   ---------------------------------------- 0.0/3.8 MB ? eta -:--:--\n",
      "   ---- ----------------------------------- 0.5/3.8 MB 14.5 MB/s eta 0:00:01\n",
      "   ---------- ----------------------------- 1.0/3.8 MB 12.9 MB/s eta 0:00:01\n",
      "   ------------ --------------------------- 1.1/3.8 MB 12.1 MB/s eta 0:00:01\n",
      "   ------------ --------------------------- 1.2/3.8 MB 8.5 MB/s eta 0:00:01\n",
      "   -------------- ------------------------- 1.4/3.8 MB 6.9 MB/s eta 0:00:01\n",
      "   ------------------ --------------------- 1.8/3.8 MB 7.4 MB/s eta 0:00:01\n",
      "   -------------------- ------------------- 1.9/3.8 MB 6.9 MB/s eta 0:00:01\n",
      "   ----------------------- ---------------- 2.2/3.8 MB 6.4 MB/s eta 0:00:01\n",
      "   -------------------------- ------------- 2.5/3.8 MB 6.3 MB/s eta 0:00:01\n",
      "   -------------------------------- ------- 3.1/3.8 MB 6.8 MB/s eta 0:00:01\n",
      "   ---------------------------------------  3.7/3.8 MB 7.5 MB/s eta 0:00:01\n",
      "   ---------------------------------------- 3.8/3.8 MB 7.3 MB/s eta 0:00:00\n",
      "Downloading kubernetes-29.0.0-py2.py3-none-any.whl (1.6 MB)\n",
      "   ---------------------------------------- 0.0/1.6 MB ? eta -:--:--\n",
      "   ----------------- ---------------------- 0.7/1.6 MB 14.6 MB/s eta 0:00:01\n",
      "   ---------------------------------- ----- 1.4/1.6 MB 14.7 MB/s eta 0:00:01\n",
      "   ---------------------------------------- 1.6/1.6 MB 12.7 MB/s eta 0:00:00\n",
      "Downloading mmh3-4.1.0-cp310-cp310-win_amd64.whl (31 kB)\n",
      "Downloading onnxruntime-1.17.3-cp310-cp310-win_amd64.whl (5.6 MB)\n",
      "   ---------------------------------------- 0.0/5.6 MB ? eta -:--:--\n",
      "   -- ------------------------------------- 0.4/5.6 MB 10.9 MB/s eta 0:00:01\n",
      "   ------ --------------------------------- 0.9/5.6 MB 11.8 MB/s eta 0:00:01\n",
      "   ------------ --------------------------- 1.7/5.6 MB 13.5 MB/s eta 0:00:01\n",
      "   ------------------ --------------------- 2.5/5.6 MB 14.8 MB/s eta 0:00:01\n",
      "   ----------------------- ---------------- 3.3/5.6 MB 15.0 MB/s eta 0:00:01\n",
      "   ---------------------------- ----------- 4.0/5.6 MB 15.1 MB/s eta 0:00:01\n",
      "   --------------------------------- ------ 4.7/5.6 MB 14.9 MB/s eta 0:00:01\n",
      "   ----------------------------------- ---- 5.0/5.6 MB 13.9 MB/s eta 0:00:01\n",
      "   ---------------------------------------  5.6/5.6 MB 14.3 MB/s eta 0:00:01\n",
      "   ---------------------------------------- 5.6/5.6 MB 13.3 MB/s eta 0:00:00\n",
      "Downloading opentelemetry_api-1.24.0-py3-none-any.whl (60 kB)\n",
      "   ---------------------------------------- 0.0/60.1 kB ? eta -:--:--\n",
      "   ---------------------------------------- 60.1/60.1 kB ? eta 0:00:00\n",
      "Downloading opentelemetry_exporter_otlp_proto_grpc-1.24.0-py3-none-any.whl (18 kB)\n",
      "Downloading opentelemetry_exporter_otlp_proto_common-1.24.0-py3-none-any.whl (17 kB)\n",
      "Downloading opentelemetry_proto-1.24.0-py3-none-any.whl (50 kB)\n",
      "   ---------------------------------------- 0.0/50.8 kB ? eta -:--:--\n",
      "   ---------------------------------------- 50.8/50.8 kB ? eta 0:00:00\n",
      "Downloading opentelemetry_instrumentation_fastapi-0.45b0-py3-none-any.whl (11 kB)\n",
      "Downloading opentelemetry_instrumentation-0.45b0-py3-none-any.whl (28 kB)\n",
      "Downloading opentelemetry_instrumentation_asgi-0.45b0-py3-none-any.whl (14 kB)\n",
      "Downloading opentelemetry_semantic_conventions-0.45b0-py3-none-any.whl (36 kB)\n",
      "Downloading opentelemetry_util_http-0.45b0-py3-none-any.whl (6.9 kB)\n",
      "Downloading opentelemetry_sdk-1.24.0-py3-none-any.whl (106 kB)\n",
      "   ---------------------------------------- 0.0/106.1 kB ? eta -:--:--\n",
      "   ---------------------------------------- 106.1/106.1 kB 6.0 MB/s eta 0:00:00\n",
      "Downloading overrides-7.7.0-py3-none-any.whl (17 kB)\n",
      "Downloading posthog-3.5.0-py2.py3-none-any.whl (41 kB)\n",
      "   ---------------------------------------- 0.0/41.3 kB ? eta -:--:--\n",
      "   ---------------------------------------- 41.3/41.3 kB 2.1 MB/s eta 0:00:00\n",
      "Downloading pulsar_client-3.5.0-cp310-cp310-win_amd64.whl (3.3 MB)\n",
      "   ---------------------------------------- 0.0/3.3 MB ? eta -:--:--\n",
      "   ------- -------------------------------- 0.6/3.3 MB 12.9 MB/s eta 0:00:01\n",
      "   --------------- ------------------------ 1.3/3.3 MB 13.9 MB/s eta 0:00:01\n",
      "   ------------------------- -------------- 2.1/3.3 MB 14.6 MB/s eta 0:00:01\n",
      "   ---------------------------------- ----- 2.8/3.3 MB 15.0 MB/s eta 0:00:01\n",
      "   ---------------------------------------  3.3/3.3 MB 16.2 MB/s eta 0:00:01\n",
      "   ---------------------------------------- 3.3/3.3 MB 14.0 MB/s eta 0:00:00\n",
      "Downloading tokenizers-0.15.2-cp310-none-win_amd64.whl (2.2 MB)\n",
      "   ---------------------------------------- 0.0/2.2 MB ? eta -:--:--\n",
      "   ------------- -------------------------- 0.7/2.2 MB 15.0 MB/s eta 0:00:01\n",
      "   ------------------------ --------------- 1.3/2.2 MB 14.1 MB/s eta 0:00:01\n",
      "   ------------------------------------ --- 2.0/2.2 MB 14.3 MB/s eta 0:00:01\n",
      "   ---------------------------------------- 2.2/2.2 MB 14.0 MB/s eta 0:00:00\n",
      "Downloading backoff-2.2.1-py3-none-any.whl (15 kB)\n",
      "Downloading Deprecated-1.2.14-py2.py3-none-any.whl (9.6 kB)\n",
      "Downloading google_auth-2.29.0-py2.py3-none-any.whl (189 kB)\n",
      "   ---------------------------------------- 0.0/189.2 kB ? eta -:--:--\n",
      "   --------------------------------------- 189.2/189.2 kB 11.2 MB/s eta 0:00:00\n",
      "Downloading googleapis_common_protos-1.63.0-py2.py3-none-any.whl (229 kB)\n",
      "   ---------------------------------------- 0.0/229.1 kB ? eta -:--:--\n",
      "   ---------------------------------------- 229.1/229.1 kB ? eta 0:00:00\n",
      "Downloading httptools-0.6.1-cp310-cp310-win_amd64.whl (58 kB)\n",
      "   ---------------------------------------- 0.0/58.2 kB ? eta -:--:--\n",
      "   ---------------------------------------- 58.2/58.2 kB 3.0 MB/s eta 0:00:00\n",
      "Downloading importlib_metadata-7.0.0-py3-none-any.whl (23 kB)\n",
      "Downloading monotonic-1.6-py2.py3-none-any.whl (8.2 kB)\n",
      "Downloading oauthlib-3.2.2-py3-none-any.whl (151 kB)\n",
      "   ---------------------------------------- 0.0/151.7 kB ? eta -:--:--\n",
      "   ---------------------------------------- 151.7/151.7 kB 8.8 MB/s eta 0:00:00\n",
      "Downloading protobuf-4.25.3-cp310-abi3-win_amd64.whl (413 kB)\n",
      "   ---------------------------------------- 0.0/413.4 kB ? eta -:--:--\n",
      "   --------------------------------------- 413.4/413.4 kB 25.2 MB/s eta 0:00:00\n",
      "Downloading tomli-2.0.1-py3-none-any.whl (12 kB)\n",
      "Downloading watchfiles-0.21.0-cp310-none-win_amd64.whl (279 kB)\n",
      "   ---------------------------------------- 0.0/279.7 kB ? eta -:--:--\n",
      "   ---------------------------------------- 279.7/279.7 kB 8.7 MB/s eta 0:00:00\n",
      "Downloading websocket_client-1.7.0-py3-none-any.whl (58 kB)\n",
      "   ---------------------------------------- 0.0/58.5 kB ? eta -:--:--\n",
      "   ---------------------------------------- 58.5/58.5 kB ? eta 0:00:00\n",
      "Downloading coloredlogs-15.0.1-py2.py3-none-any.whl (46 kB)\n",
      "   ---------------------------------------- 0.0/46.0 kB ? eta -:--:--\n",
      "   ---------------------------------------- 46.0/46.0 kB 2.2 MB/s eta 0:00:00\n",
      "Downloading flatbuffers-24.3.25-py2.py3-none-any.whl (26 kB)\n",
      "Downloading pyproject_hooks-1.0.0-py3-none-any.whl (9.3 kB)\n",
      "Downloading requests_oauthlib-2.0.0-py2.py3-none-any.whl (24 kB)\n",
      "Downloading asgiref-3.8.1-py3-none-any.whl (23 kB)\n",
      "Downloading cachetools-5.3.3-py3-none-any.whl (9.3 kB)\n",
      "Downloading humanfriendly-10.0-py2.py3-none-any.whl (86 kB)\n",
      "   ---------------------------------------- 0.0/86.8 kB ? eta -:--:--\n",
      "   ---------------------------------------- 86.8/86.8 kB ? eta 0:00:00\n",
      "Downloading pyasn1_modules-0.4.0-py3-none-any.whl (181 kB)\n",
      "   ---------------------------------------- 0.0/181.2 kB ? eta -:--:--\n",
      "   ---------------------------------------- 181.2/181.2 kB ? eta 0:00:00\n",
      "Downloading rsa-4.9-py3-none-any.whl (34 kB)\n",
      "Downloading wrapt-1.16.0-cp310-cp310-win_amd64.whl (37 kB)\n",
      "Downloading pyasn1-0.6.0-py2.py3-none-any.whl (85 kB)\n",
      "   ---------------------------------------- 0.0/85.3 kB ? eta -:--:--\n",
      "   ---------------------------------------- 85.3/85.3 kB ? eta 0:00:00\n",
      "Downloading pyreadline3-3.4.1-py3-none-any.whl (95 kB)\n",
      "   ---------------------------------------- 0.0/95.2 kB ? eta -:--:--\n",
      "   ---------------------------------------- 95.2/95.2 kB ? eta 0:00:00\n",
      "Building wheels for collected packages: pypika\n",
      "  Building wheel for pypika (pyproject.toml): started\n",
      "  Building wheel for pypika (pyproject.toml): finished with status 'done'\n",
      "  Created wheel for pypika: filename=PyPika-0.48.9-py2.py3-none-any.whl size=53835 sha256=a62eed65b9b68a0345441d96385a80582af277cd492156660d9946954bb295a6\n",
      "  Stored in directory: c:\\users\\ms211\\appdata\\local\\pip\\cache\\wheels\\e1\\26\\51\\d0bffb3d2fd82256676d7ad3003faea3bd6dddc9577af665f4\n",
      "Successfully built pypika\n",
      "Installing collected packages: pyreadline3, pypika, monotonic, mmh3, flatbuffers, wrapt, websocket-client, tomli, pyasn1, pulsar-client, protobuf, overrides, opentelemetry-util-http, opentelemetry-semantic-conventions, oauthlib, importlib-metadata, humanfriendly, httptools, grpcio, chroma-hnswlib, cachetools, bcrypt, backoff, asgiref, watchfiles, rsa, requests-oauthlib, pyproject_hooks, pyasn1-modules, posthog, opentelemetry-proto, googleapis-common-protos, deprecated, coloredlogs, tokenizers, opentelemetry-exporter-otlp-proto-common, opentelemetry-api, onnxruntime, google-auth, build, opentelemetry-sdk, opentelemetry-instrumentation, kubernetes, opentelemetry-instrumentation-asgi, opentelemetry-exporter-otlp-proto-grpc, opentelemetry-instrumentation-fastapi, chromadb\n",
      "  Attempting uninstall: importlib-metadata\n",
      "    Found existing installation: importlib_metadata 7.1.0\n",
      "    Uninstalling importlib_metadata-7.1.0:\n",
      "      Successfully uninstalled importlib_metadata-7.1.0\n",
      "Successfully installed asgiref-3.8.1 backoff-2.2.1 bcrypt-4.1.2 build-1.2.1 cachetools-5.3.3 chroma-hnswlib-0.7.3 chromadb-0.4.24 coloredlogs-15.0.1 deprecated-1.2.14 flatbuffers-24.3.25 google-auth-2.29.0 googleapis-common-protos-1.63.0 grpcio-1.62.1 httptools-0.6.1 humanfriendly-10.0 importlib-metadata-7.0.0 kubernetes-29.0.0 mmh3-4.1.0 monotonic-1.6 oauthlib-3.2.2 onnxruntime-1.17.3 opentelemetry-api-1.24.0 opentelemetry-exporter-otlp-proto-common-1.24.0 opentelemetry-exporter-otlp-proto-grpc-1.24.0 opentelemetry-instrumentation-0.45b0 opentelemetry-instrumentation-asgi-0.45b0 opentelemetry-instrumentation-fastapi-0.45b0 opentelemetry-proto-1.24.0 opentelemetry-sdk-1.24.0 opentelemetry-semantic-conventions-0.45b0 opentelemetry-util-http-0.45b0 overrides-7.7.0 posthog-3.5.0 protobuf-4.25.3 pulsar-client-3.5.0 pyasn1-0.6.0 pyasn1-modules-0.4.0 pypika-0.48.9 pyproject_hooks-1.0.0 pyreadline3-3.4.1 requests-oauthlib-2.0.0 rsa-4.9 tokenizers-0.15.2 tomli-2.0.1 watchfiles-0.21.0 websocket-client-1.7.0 wrapt-1.16.0\n"
     ]
    }
   ],
   "source": [
    "!pip install tiktoken chromadb # 설치 후 재실행"
   ]
  },
  {
   "cell_type": "code",
   "execution_count": 14,
   "metadata": {},
   "outputs": [],
   "source": [
    "from langchain_community.document_loaders import TextLoader\n",
    "from langchain_community.vectorstores import FAISS\n",
    "from langchain_text_splitters import RecursiveCharacterTextSplitter\n",
    "from langchain_community.vectorstores import Chroma\n",
    "from langchain.storage import InMemoryByteStore\n",
    "from langchain.retrievers.multi_vector import MultiVectorRetriever\n",
    "from langchain_community.document_loaders import DirectoryLoader\n",
    "from langchain_openai import OpenAIEmbeddings"
   ]
  },
  {
   "cell_type": "code",
   "execution_count": 194,
   "metadata": {},
   "outputs": [
    {
     "name": "stdout",
     "output_type": "stream",
     "text": [
      "Collecting unstructured\n",
      "  Obtaining dependency information for unstructured from https://files.pythonhosted.org/packages/54/73/b9c499b669ce2387dde71968c72fc6077e2df347e7bb3c5b43fec1530f5a/unstructured-0.13.2-py3-none-any.whl.metadata\n",
      "  Downloading unstructured-0.13.2-py3-none-any.whl.metadata (30 kB)\n",
      "Requirement already satisfied: chardet in c:\\users\\ms211\\appdata\\roaming\\python\\python310\\site-packages (from unstructured) (4.0.0)\n",
      "Collecting filetype (from unstructured)\n",
      "  Obtaining dependency information for filetype from https://files.pythonhosted.org/packages/18/79/1b8fa1bb3568781e84c9200f951c735f3f157429f44be0495da55894d620/filetype-1.2.0-py2.py3-none-any.whl.metadata\n",
      "  Downloading filetype-1.2.0-py2.py3-none-any.whl.metadata (6.5 kB)\n",
      "Collecting python-magic (from unstructured)\n",
      "  Obtaining dependency information for python-magic from https://files.pythonhosted.org/packages/6c/73/9f872cb81fc5c3bb48f7227872c28975f998f3e7c2b1c16e95e6432bbb90/python_magic-0.4.27-py2.py3-none-any.whl.metadata\n",
      "  Downloading python_magic-0.4.27-py2.py3-none-any.whl.metadata (5.8 kB)\n",
      "Collecting lxml (from unstructured)\n",
      "  Obtaining dependency information for lxml from https://files.pythonhosted.org/packages/91/c7/05a3e75143d783f2731e31929ceec6e408d3152bc5ecf24e9f6a16a438e8/lxml-5.2.1-cp310-cp310-win_amd64.whl.metadata\n",
      "  Downloading lxml-5.2.1-cp310-cp310-win_amd64.whl.metadata (3.5 kB)\n",
      "Collecting nltk (from unstructured)\n",
      "  Obtaining dependency information for nltk from https://files.pythonhosted.org/packages/a6/0a/0d20d2c0f16be91b9fa32a77b76c60f9baf6eba419e5ef5deca17af9c582/nltk-3.8.1-py3-none-any.whl.metadata\n",
      "  Downloading nltk-3.8.1-py3-none-any.whl.metadata (2.8 kB)\n",
      "Collecting tabulate (from unstructured)\n",
      "  Obtaining dependency information for tabulate from https://files.pythonhosted.org/packages/40/44/4a5f08c96eb108af5cb50b41f76142f0afa346dfa99d5296fe7202a11854/tabulate-0.9.0-py3-none-any.whl.metadata\n",
      "  Downloading tabulate-0.9.0-py3-none-any.whl.metadata (34 kB)\n",
      "Requirement already satisfied: requests in c:\\users\\ms211\\miniconda3\\envs\\torch_main\\lib\\site-packages (from unstructured) (2.31.0)\n",
      "Collecting beautifulsoup4 (from unstructured)\n",
      "  Obtaining dependency information for beautifulsoup4 from https://files.pythonhosted.org/packages/b1/fe/e8c672695b37eecc5cbf43e1d0638d88d66ba3a44c4d321c796f4e59167f/beautifulsoup4-4.12.3-py3-none-any.whl.metadata\n",
      "  Downloading beautifulsoup4-4.12.3-py3-none-any.whl.metadata (3.8 kB)\n",
      "Collecting emoji (from unstructured)\n",
      "  Obtaining dependency information for emoji from https://files.pythonhosted.org/packages/55/c1/1d97d960831e23a3dd8608b0b489eb4866144445475277a443efb0379609/emoji-2.11.0-py2.py3-none-any.whl.metadata\n",
      "  Downloading emoji-2.11.0-py2.py3-none-any.whl.metadata (5.3 kB)\n",
      "Requirement already satisfied: dataclasses-json in c:\\users\\ms211\\miniconda3\\envs\\torch_main\\lib\\site-packages (from unstructured) (0.6.4)\n",
      "Collecting python-iso639 (from unstructured)\n",
      "  Obtaining dependency information for python-iso639 from https://files.pythonhosted.org/packages/01/62/2fed44ba10fe805345fb0e9c46c7f8dcdaf1bffd642f051fcc3db9bf55d8/python_iso639-2024.2.7-py3-none-any.whl.metadata\n",
      "  Downloading python_iso639-2024.2.7-py3-none-any.whl.metadata (13 kB)\n",
      "Collecting langdetect (from unstructured)\n",
      "  Downloading langdetect-1.0.9.tar.gz (981 kB)\n",
      "     ---------------------------------------- 0.0/981.5 kB ? eta -:--:--\n",
      "     ----------------------- ------------- 634.9/981.5 kB 19.5 MB/s eta 0:00:01\n",
      "     ------------------------------------- 981.5/981.5 kB 12.5 MB/s eta 0:00:00\n",
      "  Preparing metadata (setup.py): started\n",
      "  Preparing metadata (setup.py): finished with status 'done'\n",
      "Requirement already satisfied: numpy in c:\\users\\ms211\\miniconda3\\envs\\torch_main\\lib\\site-packages (from unstructured) (1.25.2)\n",
      "Collecting rapidfuzz (from unstructured)\n",
      "  Obtaining dependency information for rapidfuzz from https://files.pythonhosted.org/packages/ed/29/cfc6d0499ba3d940b1ca5162880103c88d119fc172cabd26b8f94e1bea57/rapidfuzz-3.8.1-cp310-cp310-win_amd64.whl.metadata\n",
      "  Downloading rapidfuzz-3.8.1-cp310-cp310-win_amd64.whl.metadata (11 kB)\n",
      "Requirement already satisfied: backoff in c:\\users\\ms211\\miniconda3\\envs\\torch_main\\lib\\site-packages (from unstructured) (2.2.1)\n",
      "Requirement already satisfied: typing-extensions in c:\\users\\ms211\\miniconda3\\envs\\torch_main\\lib\\site-packages (from unstructured) (4.11.0)\n",
      "Collecting unstructured-client<=0.18.0 (from unstructured)\n",
      "  Obtaining dependency information for unstructured-client<=0.18.0 from https://files.pythonhosted.org/packages/a6/07/6e0fba885472decf691bb70818858c7996e0509d55c5001546e967614301/unstructured_client-0.18.0-py3-none-any.whl.metadata\n",
      "  Downloading unstructured_client-0.18.0-py3-none-any.whl.metadata (4.9 kB)\n",
      "Requirement already satisfied: wrapt in c:\\users\\ms211\\miniconda3\\envs\\torch_main\\lib\\site-packages (from unstructured) (1.16.0)\n",
      "Requirement already satisfied: certifi>=2023.7.22 in c:\\users\\ms211\\appdata\\roaming\\python\\python310\\site-packages (from unstructured-client<=0.18.0->unstructured) (2023.7.22)\n",
      "Collecting charset-normalizer>=3.2.0 (from unstructured-client<=0.18.0->unstructured)\n",
      "  Obtaining dependency information for charset-normalizer>=3.2.0 from https://files.pythonhosted.org/packages/a2/a0/4af29e22cb5942488cf45630cbdd7cefd908768e69bdd90280842e4e8529/charset_normalizer-3.3.2-cp310-cp310-win_amd64.whl.metadata\n",
      "  Using cached charset_normalizer-3.3.2-cp310-cp310-win_amd64.whl.metadata (34 kB)\n",
      "Collecting dataclasses-json-speakeasy>=0.5.11 (from unstructured-client<=0.18.0->unstructured)\n",
      "  Obtaining dependency information for dataclasses-json-speakeasy>=0.5.11 from https://files.pythonhosted.org/packages/57/5b/2002d3da4fc37c567287cd89fb08b43c1fb130ce0d757bd3e8f61b1a1f94/dataclasses_json_speakeasy-0.5.11-py3-none-any.whl.metadata\n",
      "  Downloading dataclasses_json_speakeasy-0.5.11-py3-none-any.whl.metadata (25 kB)\n",
      "Collecting idna>=3.4 (from unstructured-client<=0.18.0->unstructured)\n",
      "  Obtaining dependency information for idna>=3.4 from https://files.pythonhosted.org/packages/e5/3e/741d8c82801c347547f8a2a06aa57dbb1992be9e948df2ea0eda2c8b79e8/idna-3.7-py3-none-any.whl.metadata\n",
      "  Downloading idna-3.7-py3-none-any.whl.metadata (9.9 kB)\n",
      "Collecting jsonpath-python>=1.0.6 (from unstructured-client<=0.18.0->unstructured)\n",
      "  Obtaining dependency information for jsonpath-python>=1.0.6 from https://files.pythonhosted.org/packages/16/8a/d63959f4eff03893a00e6e63592e3a9f15b9266ed8e0275ab77f8c7dbc94/jsonpath_python-1.0.6-py3-none-any.whl.metadata\n",
      "  Downloading jsonpath_python-1.0.6-py3-none-any.whl.metadata (12 kB)\n",
      "Requirement already satisfied: marshmallow>=3.19.0 in c:\\users\\ms211\\miniconda3\\envs\\torch_main\\lib\\site-packages (from unstructured-client<=0.18.0->unstructured) (3.21.1)\n",
      "Requirement already satisfied: mypy-extensions>=1.0.0 in c:\\users\\ms211\\miniconda3\\envs\\torch_main\\lib\\site-packages (from unstructured-client<=0.18.0->unstructured) (1.0.0)\n",
      "Requirement already satisfied: packaging>=23.1 in c:\\users\\ms211\\miniconda3\\envs\\torch_main\\lib\\site-packages (from unstructured-client<=0.18.0->unstructured) (23.2)\n",
      "Requirement already satisfied: python-dateutil>=2.8.2 in c:\\users\\ms211\\miniconda3\\envs\\torch_main\\lib\\site-packages (from unstructured-client<=0.18.0->unstructured) (2.9.0)\n",
      "Requirement already satisfied: six>=1.16.0 in c:\\users\\ms211\\miniconda3\\envs\\torch_main\\lib\\site-packages (from unstructured-client<=0.18.0->unstructured) (1.16.0)\n",
      "Requirement already satisfied: typing-inspect>=0.9.0 in c:\\users\\ms211\\miniconda3\\envs\\torch_main\\lib\\site-packages (from unstructured-client<=0.18.0->unstructured) (0.9.0)\n",
      "Collecting urllib3>=1.26.18 (from unstructured-client<=0.18.0->unstructured)\n",
      "  Obtaining dependency information for urllib3>=1.26.18 from https://files.pythonhosted.org/packages/a2/73/a68704750a7679d0b6d3ad7aa8d4da8e14e151ae82e6fee774e6e0d05ec8/urllib3-2.2.1-py3-none-any.whl.metadata\n",
      "  Downloading urllib3-2.2.1-py3-none-any.whl.metadata (6.4 kB)\n",
      "Collecting soupsieve>1.2 (from beautifulsoup4->unstructured)\n",
      "  Obtaining dependency information for soupsieve>1.2 from https://files.pythonhosted.org/packages/4c/f3/038b302fdfbe3be7da016777069f26ceefe11a681055ea1f7817546508e3/soupsieve-2.5-py3-none-any.whl.metadata\n",
      "  Downloading soupsieve-2.5-py3-none-any.whl.metadata (4.7 kB)\n",
      "Requirement already satisfied: click in c:\\users\\ms211\\miniconda3\\envs\\torch_main\\lib\\site-packages (from nltk->unstructured) (8.1.7)\n",
      "Requirement already satisfied: joblib in c:\\users\\ms211\\miniconda3\\envs\\torch_main\\lib\\site-packages (from nltk->unstructured) (1.3.2)\n",
      "Requirement already satisfied: regex>=2021.8.3 in c:\\users\\ms211\\miniconda3\\envs\\torch_main\\lib\\site-packages (from nltk->unstructured) (2023.12.25)\n",
      "Requirement already satisfied: tqdm in c:\\users\\ms211\\miniconda3\\envs\\torch_main\\lib\\site-packages (from nltk->unstructured) (4.66.1)\n",
      "Requirement already satisfied: colorama in c:\\users\\ms211\\miniconda3\\envs\\torch_main\\lib\\site-packages (from click->nltk->unstructured) (0.4.6)\n",
      "Downloading unstructured-0.13.2-py3-none-any.whl (1.9 MB)\n",
      "   ---------------------------------------- 0.0/1.9 MB ? eta -:--:--\n",
      "   ----------------- ---------------------- 0.8/1.9 MB 17.2 MB/s eta 0:00:01\n",
      "   ------------------------------- -------- 1.5/1.9 MB 15.9 MB/s eta 0:00:01\n",
      "   ---------------------------------------  1.9/1.9 MB 17.3 MB/s eta 0:00:01\n",
      "   ---------------------------------------- 1.9/1.9 MB 13.4 MB/s eta 0:00:00\n",
      "Downloading unstructured_client-0.18.0-py3-none-any.whl (21 kB)\n",
      "Downloading beautifulsoup4-4.12.3-py3-none-any.whl (147 kB)\n",
      "   ---------------------------------------- 0.0/147.9 kB ? eta -:--:--\n",
      "   ---------------------------------------- 147.9/147.9 kB ? eta 0:00:00\n",
      "Downloading emoji-2.11.0-py2.py3-none-any.whl (433 kB)\n",
      "   ---------------------------------------- 0.0/433.8 kB ? eta -:--:--\n",
      "   --------------------------------------- 433.8/433.8 kB 13.2 MB/s eta 0:00:00\n",
      "Downloading filetype-1.2.0-py2.py3-none-any.whl (19 kB)\n",
      "Downloading lxml-5.2.1-cp310-cp310-win_amd64.whl (3.8 MB)\n",
      "   ---------------------------------------- 0.0/3.8 MB ? eta -:--:--\n",
      "   ------ --------------------------------- 0.7/3.8 MB 20.8 MB/s eta 0:00:01\n",
      "   --------------- ------------------------ 1.5/3.8 MB 23.8 MB/s eta 0:00:01\n",
      "   ----------------------- ---------------- 2.3/3.8 MB 17.9 MB/s eta 0:00:01\n",
      "   ------------------------------- -------- 3.0/3.8 MB 17.6 MB/s eta 0:00:01\n",
      "   ---------------------------------------  3.8/3.8 MB 18.7 MB/s eta 0:00:01\n",
      "   ---------------------------------------- 3.8/3.8 MB 16.2 MB/s eta 0:00:00\n",
      "Downloading nltk-3.8.1-py3-none-any.whl (1.5 MB)\n",
      "   ---------------------------------------- 0.0/1.5 MB ? eta -:--:--\n",
      "   ------------------ --------------------- 0.7/1.5 MB 22.5 MB/s eta 0:00:01\n",
      "   ---------------------------------------- 1.5/1.5 MB 19.2 MB/s eta 0:00:00\n",
      "Downloading python_iso639-2024.2.7-py3-none-any.whl (274 kB)\n",
      "   ---------------------------------------- 0.0/274.7 kB ? eta -:--:--\n",
      "   --------------------------------------- 274.7/274.7 kB 17.6 MB/s eta 0:00:00\n",
      "Downloading python_magic-0.4.27-py2.py3-none-any.whl (13 kB)\n",
      "Downloading rapidfuzz-3.8.1-cp310-cp310-win_amd64.whl (1.7 MB)\n",
      "   ---------------------------------------- 0.0/1.7 MB ? eta -:--:--\n",
      "   ---------------------------- ----------- 1.2/1.7 MB 24.4 MB/s eta 0:00:01\n",
      "   ---------------------------------------- 1.7/1.7 MB 26.5 MB/s eta 0:00:00\n",
      "Downloading tabulate-0.9.0-py3-none-any.whl (35 kB)\n",
      "Using cached charset_normalizer-3.3.2-cp310-cp310-win_amd64.whl (100 kB)\n",
      "Downloading dataclasses_json_speakeasy-0.5.11-py3-none-any.whl (28 kB)\n",
      "Downloading idna-3.7-py3-none-any.whl (66 kB)\n",
      "   ---------------------------------------- 0.0/66.8 kB ? eta -:--:--\n",
      "   ---------------------------------------- 66.8/66.8 kB ? eta 0:00:00\n",
      "Downloading jsonpath_python-1.0.6-py3-none-any.whl (7.6 kB)\n",
      "Downloading soupsieve-2.5-py3-none-any.whl (36 kB)\n",
      "Downloading urllib3-2.2.1-py3-none-any.whl (121 kB)\n",
      "   ---------------------------------------- 0.0/121.1 kB ? eta -:--:--\n",
      "   ---------------------------------------- 121.1/121.1 kB 6.9 MB/s eta 0:00:00\n",
      "Building wheels for collected packages: langdetect\n",
      "  Building wheel for langdetect (setup.py): started\n",
      "  Building wheel for langdetect (setup.py): finished with status 'done'\n",
      "  Created wheel for langdetect: filename=langdetect-1.0.9-py3-none-any.whl size=993253 sha256=b171d9b414480c6fc7645c3976f10c623b709c5c2ac8fb4a1490ba22efbd4bc7\n",
      "  Stored in directory: c:\\users\\ms211\\appdata\\local\\pip\\cache\\wheels\\95\\03\\7d\\59ea870c70ce4e5a370638b5462a7711ab78fba2f655d05106\n",
      "Successfully built langdetect\n",
      "Installing collected packages: filetype, urllib3, tabulate, soupsieve, rapidfuzz, python-magic, python-iso639, lxml, langdetect, jsonpath-python, idna, emoji, charset-normalizer, nltk, dataclasses-json-speakeasy, beautifulsoup4, unstructured-client, unstructured\n",
      "  Attempting uninstall: urllib3\n",
      "    Found existing installation: urllib3 1.26.16\n",
      "    Uninstalling urllib3-1.26.16:\n",
      "      Successfully uninstalled urllib3-1.26.16\n",
      "  Attempting uninstall: idna\n",
      "    Found existing installation: idna 2.10\n",
      "    Uninstalling idna-2.10:\n",
      "      Successfully uninstalled idna-2.10\n",
      "  Attempting uninstall: charset-normalizer\n",
      "    Found existing installation: charset-normalizer 2.0.4\n",
      "    Uninstalling charset-normalizer-2.0.4:\n",
      "      Successfully uninstalled charset-normalizer-2.0.4\n",
      "Successfully installed beautifulsoup4-4.12.3 charset-normalizer-3.3.2 dataclasses-json-speakeasy-0.5.11 emoji-2.11.0 filetype-1.2.0 idna-3.4 jsonpath-python-1.0.6 langdetect-1.0.9 lxml-5.2.1 nltk-3.8.1 python-iso639-2024.2.7 python-magic-0.4.27 rapidfuzz-3.8.1 soupsieve-2.5 tabulate-0.9.0 unstructured-0.13.2 unstructured-client-0.18.0 urllib3-2.2.1\n"
     ]
    }
   ],
   "source": [
    "!pip install unstructured"
   ]
  },
  {
   "cell_type": "code",
   "execution_count": 15,
   "metadata": {},
   "outputs": [
    {
     "name": "stderr",
     "output_type": "stream",
     "text": [
      "100%|██████████| 7/7 [00:05<00:00,  1.24it/s]"
     ]
    },
    {
     "name": "stdout",
     "output_type": "stream",
     "text": [
      "문서의 수: 7\n",
      "\n",
      "[metadata]\n",
      "{'source': '등장인물.txt'}\n",
      "\n",
      "\n",
      "[metadata]\n",
      "{'source': '무기.txt'}\n",
      "\n",
      "\n",
      "[metadata]\n",
      "{'source': '부재료 및 조미료.txt'}\n",
      "\n",
      "\n",
      "[metadata]\n",
      "{'source': '식당 운영.txt'}\n",
      "\n",
      "\n",
      "[metadata]\n",
      "{'source': '요리.txt'}\n",
      "\n",
      "\n",
      "[metadata]\n",
      "{'source': '장비.txt'}\n",
      "\n",
      "\n",
      "[metadata]\n",
      "{'source': '지역 및 생물.txt'}\n",
      "\n"
     ]
    },
    {
     "name": "stderr",
     "output_type": "stream",
     "text": [
      "\n"
     ]
    }
   ],
   "source": [
    "# DirectoryLoader 사용하여 \"./*.txt\" 파일을 로드합니다.\n",
    "\n",
    "loader = DirectoryLoader(\".\", glob=\"./*.txt\", show_progress=True)\n",
    "docs = loader.load()\n",
    "\n",
    "print(f\"문서의 수: {len(docs)}\")\n",
    "for num in range(len(docs)):\n",
    "    print(f\"\\n[metadata]\\n{docs[num].metadata}\\n\")"
   ]
  },
  {
   "cell_type": "code",
   "execution_count": 27,
   "metadata": {},
   "outputs": [
    {
     "data": {
      "text/plain": [
       "[Document(page_content='등장인물', metadata={'source': '등장인물.txt'}),\n",
       " Document(page_content='상위 문서: 데이브 더 다이버이 문서에 스포일러가 포함되어 있습니다.이 문서가 설명하는 작품이나 인물 등에 대한 줄거리, 결말, 반전 요소 등을 직·간접적으로 포함하고 있습니다.등장인물 · 지역 및 생물 · 장비 · 무기 · 요리 · 부재료 및 조미료 · 식당 운영1. 개요2. 반쵸스시2.1. 데이브2.2. 코브라2.3. 반쵸2.4. 모모2.5. 모찌3. 주변 인물3.1. 엘리3.2. 더프3.3. 닥터 베이컨3.4. 요시에3.5. 사토상3.6. 우도3.7. 오토3.8. 마키3.9. 방랑 상인 장고4. VIP4.1. 빈센트4.2. 마이클 방4.3. 새미4.4. 챌린지◆더 쉐프4.4.1. 왕팡4.4.2. 알렉스4.4.3. 파스트로5. 어인족 마을5.1. 라모5.2. 텐진5.3. 수왐5.4. 가진5.5. 구모5.6. 미마5.7. 두와5.8. 나왕, 아왕5.9. 니아모5.10. 린첸5.11. 츠치5.12. 킹롱5.13. 다쉐5.14. 가돈6. 기타 인물6.1. 해적6.2. 존 왓슨6.3. 루이스6.4. 유이6.5. 클라라6.6. 이동 상인1. 개요[편집]데이브 더 다이버의 등장인물을 정리한 문서.2. 반쵸스시[편집]2.1. 데이브[편집]데이브Dave평상복잠수복이 게임의 주인공이자 다이버치고 배가 좀 많이 나온 아저씨이다. 어느 열대의 섬에서 집게한테 중요 부위를 찝히며 휴양을 즐기고 있다가 초밥을 마음껏 먹게 해주겠다는 코브라의 제안에 비행기까지 타고 블루홀로 오게 된다. 하지만 실상은 초밥 재료를 직접 잡아오고 저녁에는 가게 경영도 도와야 되는 상황이었고, 처음에는 당황하지만 투덜대면서도 할 일은 다 한다. [1]둔해보이는 외형과는 정반대로 작중 보여주는 모습은 세계관 최강자급의 인간병기이다. 일단 하루종일 바닷속에서 잠수한 뒤 밤에는 서빙까지 하며 중간중간 농장과 양식장 업무도 보조하는데, 게임 시스템상 이걸 매일 매일 하는 미친 체력을 보유했으며,[2] 수중 용접을 할 줄 아는데다[3], 가장 현실적인 참다랑어[4]를 비롯해 온갖 초현실적인 바다 생물들을', metadata={'source': '등장인물.txt'}),\n",
       " Document(page_content='게임 시스템상 이걸 매일 매일 하는 미친 체력을 보유했으며,[2] 수중 용접을 할 줄 아는데다[3], 가장 현실적인 참다랑어[4]를 비롯해 온갖 초현실적인 바다 생물들을 때려잡는 건 예사에 자기보다 몇 배는 큰 상어를 그냥 잡는 것도 아니고 머리 위에 올라타 칼로 찍는 등 평범한 사람이라면 엄두도 못 낼 기행을 선보인다.주변인들이 워낙 특이하다 보니 나만 정상인 같은 상황이 자주 연출되어 조금 호구스러운 거 빼면 멀쩡한 사람 같지만, 문어 하나 잡겠다고 수중에서 철판을 뜯어낸다거나 약해져 있다지만 입에서 브레스를 뿜어대는 상식 이상의 생물을 상대로 일단 처치하고 보자는 식의 대사를 하는 걸 보면 덜해서 그렇지 평범한 사람은 아니다.엔딩에서는 결국 어인족 마을의 위기를 해결하는 동시에 블루홀 일대의 지진 문제를 해결했고, 어인족들이 데이브의 석상을 만들어 그를 기념하는 모습이 나오는데 이후 어인족 마을에 가면 정말로 그 석상을 볼 수 있다. [5]앞서 해보기 시절 인기 투표 3위를 차지했다.디스코드 개발자 문답에 의하면 직접적인 모티브는 아니지만 개발 초기 레퍼런스 중 하나로 데이비드 쇼를 참고했다고 한다.', metadata={'source': '등장인물.txt'}),\n",
       " Document(page_content='외형[6]이나 이름[7] 때문에 관련 문의가 꽤 있었다는 모양.2.2. 코브라[편집]코브라Cobra이 게임의 주연 중 한 명으로, 데이브와 반쵸를 포섭해 블루홀의 생선들을 이용한 초밥집을 차리고자 한다. 이후 어느 정도 메인 스토리를 클리어하면 코브라샵을 운영하며 다이빙 전 장비를 판매하거나 반대로 다이빙에서 얻은 각종 물건들을 매입해준다.엔딩 때 후속작이나 새로운 시리즈를 암시하듯 새로운 사업을 하자고 하거나 심각한 표정으로 전화를 받는 모습을 보여준다. 그리고 전화를 받던 도중 멀리서 무언가가 터지는 듯한 소리가 들리며 엔딩은 끝이 난다. [8][9]데이브와 반쵸를 불러모아 사업을 시작한 공동 창업주지만 극초반부 적자 상황 정도를 제외하면 반쵸스시의 경영에는 개입하는 모습은 나오지 않는데, 작중 다이빙이나 장사, 직원 파견 등의 행동이 종료되면 나오는 보고서 양식의 결과창에 데이브랑 반쵸의 사인만 있고 코브라의 사인은 없는 걸로 보아 연출 생략이 아니라 진짜로 안 하는 모양.본래 넥슨의 과거 섭종작 중 하나인 EVIL FACTORY의 무기상으로 등장했던 NPC이며, 동명이인이 아니라 정말로 동일 인물이다. 초반 대화에서 8년 전 한스 린데만과의 싸움에 필요한 중요한 설계도를 데이브가 찾아줘서 인연을 맺게 되었다고 말하며, 이후 폭탄을 만들고 쓰면서 폭탄전문가 언급을 한다거나, 빙하 지역까지 간 이후에 대화하면 자기도 남극에서 작전을 수행해 본 적이 있다며 맞장구치는 등 거의 대놓고 두 작품이 동일 세계관임을 플레이어들에게 암시한다.2.3. 반쵸[편집]반쵸Bancho 番長현재호텔 시절이 게임의 주연 중 한 명인 흑인 초밥 장인. 1인칭은 소생이고 하오체를 쓴다. 흔한 식용 생선 대신 열대어나 해파리, 상어, 심해어 같은 미지의 재료만을 다루려는 괴짜로, 본인 말로는 미지의 영역이기에 많은 가능성을 내포하고 있기 때문이라고. 말뿐만이 아니라는 걸 증명하는 듯 실제로 자신이 사용하는 식재들의 특성에 매우 해박하며, 그러한 재료들을 대개 식용 생선이 아닌 것이', metadata={'source': '등장인물.txt'}),\n",
       " Document(page_content='많은 가능성을 내포하고 있기 때문이라고. 말뿐만이 아니라는 걸 증명하는 듯 실제로 자신이 사용하는 식재들의 특성에 매우 해박하며, 그러한 재료들을 대개 식용 생선이 아닌 것이 다 이유가 있음에도 극찬을 받을 정도로 훌륭하게 활용해 낸다.무력으로 세계관 최강자인 데이브에 이어 이쪽은 요리 분야에서 세계관 최강자. 작중 초반 오토 등의 조력자가 나타나기 이전부터도 데이브가 조달한 재료들과 안남미 따위를 가지고 인정받을 수준의 초밥들을 만들어 내며, 그러한 반쵸의 초밥을 얕잡아 보던 손님들이 요리를 먹고 댄스를 추거나 회춘하거나 여기저기서 새로운 영화의 영감이 마구잡이로 폭발하는 등, 마비노기의 요리 스킬 같은 연출이 나온다.', metadata={'source': '등장인물.txt'}),\n",
       " Document(page_content=\"게다가 분명 일식 요리사임에도 불구하고 중식, 양식 등 다양한 분야의 요리들도 손님들에게 칭찬받다 못해 그쪽 전문가들을 이겨먹을 정도로 모든 요리에 통달해 있으며[10], 막판에는 아예 데이브가 고대 생물들을 갖다 줘도 그걸 또 맛있게 요리해 낸다.과거에는 여러 유명 일식집을 전전하며 수행을 거친 끝에 듀공 호텔에서 일식 셰프를 담당하게 되었는데, 이 때 음식이 평범하다고 트집 잡던 루이스 크로포드에게 자기 개성 있는 요리를 내놓았다가 그 기괴한 외형에 기겁한 루이스가 혹평하며 숙박을 취소하고 돌아가버리는 대형사고를 친 적이 있었다. 이후 오랜 기간 잠적했던 것을 코브라가 스카웃하며 블루홀에 자신의 이름을 건 반쵸스시를 열게 되고, 여기에 코브라가 추가로 데이브라는 좋은 호구를 잡아 데려오면서 본편이 시작된다.처음에는 방문하는 손님에게 인사도 안 하고 묵묵히 횟감을 썰거나, 요리인의 자존심이 걸려있다며 데이브에게 상어를 잡아오라고 호통을 치는 등 무뚝뚝하고 자기중심적인 모습을 보여주었지만, 가게가 번성한 이후 쿡스타에 홍보를 올리거나 가게를 도와준 사람들에게 보답으로 축하연을 열거나, 다친 라모를 위해 산호죽을 만드는 등, 점점 마음을 여는 긍정적인 모습을 보여준다. 이에 대해 요시에는 아마 데이브의 영향을 받지 않았을까 추정했다. 이런 정신적 성장은 마지막 요리 대결에서 승리 후 루이스 크로포드를 향한 평가에서도 드러나는데, 옛날 회상씬에는 그녀의 악평을 절대로 인정할 수 없다며 맛만 있으면 그만이고 상어 머리야말로 뛰어난 음식이라며 일갈을 해댔는데, 현재에 와서 그녀가 당시의 안일한 평가에 대해 사과하자 외관을 보는 것도 종합적으로 평가의 일부가 될 수 있다며 그간의 오만함을 버린 초탈한 모습을 보인다. 독특한 캐릭터성 때문에 인기 투표에서 1위를 달성했다.요리 외에는 아무것도 관심없어하는 골수 요리인 같지만 의외로 마이클 방의 영화 '로봇 사무라이'의 팬이라거나, 힙합에도 나름 일가견이 있어 MC 새미를 알아본다거나 등 꽤 취미가 다양한 모습을\", metadata={'source': '등장인물.txt'}),\n",
       " Document(page_content=\"관심없어하는 골수 요리인 같지만 의외로 마이클 방의 영화 '로봇 사무라이'의 팬이라거나, 힙합에도 나름 일가견이 있어 MC 새미를 알아본다거나 등 꽤 취미가 다양한 모습을 보여주었다. 그 밖에도 마키를 보고 인형을 통한 트라우마 치료법을 떠올리는 등 요리랑 관계 없는 지식도 제법 있는 편인데, 정작 요리랑 밀접한 관련이 있는 술에 대해서는 비교적 잘 모르는 편.2.4. 모모[편집]모모Momo영업시간이 아닐 때 가게에 가 보면 식탁 끝에 자리잡고 있는 고양이. 정식판 오픈 후에는 다이빙 중에 고양이 통조림을 얻을 수도 있게 되었는데 하루에 한 번씩 간식으로 줄 수 있다. 간식을 주고 난 후 다시 대화를 걸면 누워서 애교를 부린다. 인기 투표에서 2위를 달성했으며 인간과 어인을 제외한 동물 중에서는 가장 순위가 높다.이후에 약 4회 이상 고급 통조림을 챙겨주면 이벤트가 발생한다. 반쵸가 야간에 모모가 자꾸 나간다며 한번 확인해보라 부탁하는데, 그 부탁을 받고 2~3일 내 저녁 영업 후 데이브가 식당 청소를 하다 어딘가로 가는 모모를 발견하고 따라가는 미니게임을 하게 되며 쫓아가 보니 암컷 고양이와 새끼 고양이 한 마리와 함께 있는 장면을 발견한다.\", metadata={'source': '등장인물.txt'}),\n",
       " Document(page_content='암컷 고양이가 주인공을 발견하고 경계하나, 모모가 안심하라는 듯 주인공에게 와서 애교를 부리고 그 후 반쵸스시로 데리고 와 세 마리를 함께 키우게 된다.[11]2.5. 모찌[편집]모찌Mochi모모의 자식. 회색 새끼 고양이로 통조림을 주기 전엔 얌전히 앉아 울지만 통조림을 주고 난 후 다시 대화하면 양 손을 귀엽게 흔들며 반겨준다. 모찌가 등장한 시점부턴 모모 대신 모찌가 통조림을 먹는다.생김새는 우는 고양이에서 모티브를 따 온 듯.3. 주변 인물[편집]3.1. 엘리[편집]엘리Ellie대학원에서[12] 생물학을 연구하는 대학원생. 다소 까칠한 성격이다. 블루홀 근방의 이상 현상과 생태를 조사하기 위해 데이브에게 연락했다. 이후에 한 번 더 등장해 에코워쳐 콘텐츠를 해금해준다.엔딩에서는 에코 워쳐 최고 레벨 달성에 성공하여 자신의 얼굴이 그려진 에코백을 받았다고 한다. [13]게임의 초기 버전에서 엘리는 닥터 베이컨과 함께 극을 이끄는 주연이 될 예정이었고, 본 작품도 일식집 운영이 아닌 해양 보호 다큐멘터리 같은 주제의 게임이 될 예정이었다. 하지만 개발 방향이 바뀌면서 신의 한 수 해양 보호 콘텐츠는 부가 목표로 넘어갔고, 주연 역할은 코브라와 반쵸에게 넘어갔다.3.2. 더프[편집]더프Duff무기 제작업자. 이름은 덕후를 비튼 것으로 보인다. 거대 블루홀에서는 무기들이 물에서 나오면 망가져버리기에 이런 환경에서도 망가지지 않는 총기를 얻기 위해 코브라가 연락하는 것으로 등장. 스트라 스텔라[14] 오타쿠로 과장된 번역체와 ~랄까, 굿바~이터니티🌟 같은 어투를 사용한다. 이후 데이브가 블루홀에서 총기를 얻으면 그걸 바탕으로 설계도를 만들어 무기를 제작할 수 있도록 해준다. [15] 레아스의 팬으로 거대 오징어가 레아스의 피규어를 훔쳐가자 극대노해서 데이브를 굴리는가 하면, 자다가 레아스가 아이돌이 되는 꿈[16]을 꾸며 오타게를 추는 등의 기행을 보인다. [17]다만 오덕 성향과는 별개로 블루홀의 재료로 무기와 드론까지[18] 제작하는 세계관 내 확실한', metadata={'source': '등장인물.txt'}),\n",
       " Document(page_content=\"레아스가 아이돌이 되는 꿈[16]을 꾸며 오타게를 추는 등의 기행을 보인다. [17]다만 오덕 성향과는 별개로 블루홀의 재료로 무기와 드론까지[18] 제작하는 세계관 내 확실한 능력자다. 무기를 최종 무기로 업그레이드할 때 나오는 연출을 보면 처음 보는 재료도 문제 없이 다루는 모습도 보인다.엔딩에서는 각성 레아스[19]의 피규어를 택배로 시켜놨다며 혼자서 집에서 피자를 뜯으며 홀로그램으로 뒷풀이에 참여한다.비록 비호감적인 모습을 자주 보이긴 했지만 다이빙의 핵심인 무기 및 장비를 도와주기도 했고 캐릭터성이 강해서인지 앞서 해보기 시절 인기 투표에서 4위를 차지했으며, 정식 발매 후에도 무기 업글 시 연출을 추가해주는 등[20] 제작진이 나름 신경 쓰고 있는 캐릭터이다.3.3. 닥터 베이컨[편집]닥터 베이컨Dr. Bacon고고학자. 어인족 문명에 대해 연구하고 있으며, '럭키럭키하다'라는 말버릇이 특징. 거대 블루홀에서 조수가 발견한 유물을 근거로 어인족의 실존 가능성에 확신을 갖고 조사를 시작하려던 찰나 조수가 가상 화폐 투자 실패로 길게 자리를 비우게 되어 데이브를 찾아왔다. 투자에 성공했어도 자리를 길게 비웠을 것 같다.\", metadata={'source': '등장인물.txt'}),\n",
       " Document(page_content='첫 등장 시 잠수 장비 업그레이드를 해금시켜 주며 이후에도 어인족과 관련한 메인 스토리에서 꾸준히 얼굴을 비추며 스토리를 진행시킨다.어인족을 조사하던 와중에 블루홀 주변의 동굴에서 인공적인 흔적이 남은 구조물과 벽화를 발견, 직후 밀수업자들에게 도망치며 한바탕 보트 추격전을 벌인다. [21] 이 일 이후 데이브 일행과 협조해 씨블루 일당의 뒷조사를 한다.분명 본업은 고고학자일 터인데 공학자적 성격 역시 매우 강한 캐릭터. 당장 i다이버 앱을 통한 기본 장비 업그레이드도 그가 지원해 줘서 열리는 기능이며, 다이빙 글러브나 어인족 통역기, 방한 잠수복 등 스토리 진행을 위한 별의별 물건들도 다 만들어 준다. 더프 항목에 선술된 드론 역시 닥터 베이컨과 더프가 합작해 만든 물건이니만큼 본작 세계관 투탑 공돌이라 불러도 과언이 아니지 싶다.엔딩에서는 어인족들의 평화를 지켜주기 위해 어인족의 존재를 감추기로 한다.3.4. 요시에[편집]요시에Yoshie리쿠르팅 에이전트. 깐깐한 성격으로 과거 반쵸의 직장 동료. 반쵸가 호텔에서 나간 원인[22]인 백기흉상어 머리 통구이[23]를 가지고 말싸움을 하다 직접 먹어보고는 그 맛에 감탄한 후 비주얼과 맛이 다를 수 있음을 인정하곤[24] 반쵸의 가게에 직원을 채용할 수 있도록 도와준다. 이후 야간에 백기흉상어 머리와 얽힌 반쵸의 과거에 대해 말해주며 데이브 덕에 반쵸도 인간미가 보이기 시작했다며 칭찬해주는 등 너그러운 면도 있는 캐릭터. 쿡스타에 은근히 요리하는 반쵸 사진을 많이 올린다.3.5. 사토상[편집]사토상Sato누군가를 연상케하는 복장을 하고 특이하게 생긴 보트를 타고 다니는 아저씨. [25] 말버릇은 츄츄. 바다 생물 TCG인 마린카의 콜렉팅을 위해 블루홀에 찾아온 콜렉터로 도감 기능인 마린카 콘텐츠를 해금해주며,[26] 이후 마린카의 수집률이 올라가다 보면 갑자기 다른 게임에도 꽂혔다면서 데이브에게 갸오!라는 다마고치 게임을 추천한다.더프의 비중이 커서 그렇지 이쪽도 자기 덕질한다고 데이브를 상당히 굴려먹는데,', metadata={'source': '등장인물.txt'})]"
      ]
     },
     "execution_count": 27,
     "metadata": {},
     "output_type": "execute_result"
    }
   ],
   "source": [
    "text_splitter = RecursiveCharacterTextSplitter(\n",
    "    chunk_size = 1000,\n",
    "    chunk_overlap=100\n",
    ")\n",
    "docs_spliter = text_splitter.split_documents(docs)\n",
    "docs_spliter[:10]"
   ]
  },
  {
   "cell_type": "code",
   "execution_count": 44,
   "metadata": {},
   "outputs": [
    {
     "data": {
      "text/plain": [
       "<langchain_community.vectorstores.chroma.Chroma at 0x15e968ae620>"
      ]
     },
     "execution_count": 44,
     "metadata": {},
     "output_type": "execute_result"
    }
   ],
   "source": [
    "# 저장할 경로 지정\n",
    "DB_PATH = \"./chroma_db\"\n",
    "\n",
    "embeddings = OpenAIEmbeddings()\n",
    "vectorstore = Chroma.from_documents(docs_spliter, embeddings, persist_directory=DB_PATH)\n",
    "vectorstore"
   ]
  },
  {
   "cell_type": "code",
   "execution_count": 45,
   "metadata": {},
   "outputs": [],
   "source": [
    "# 저장해놓은 vector DB 불러오기\n",
    "dive_db = Chroma(persist_directory=\"./chroma_db\",\n",
    "             embedding_function=embeddings)"
   ]
  },
  {
   "cell_type": "code",
   "execution_count": 51,
   "metadata": {},
   "outputs": [
    {
     "name": "stdout",
     "output_type": "stream",
     "text": [
      "5\n",
      "상위 문서: 데이브 더 다이버등장인물 · 지역 및 생물 · 장비 · 무기 · 요리 · 부재료 및 조미료 · 식당 운영1. 개요2. 작살총2.1. 작살촉3. 근접무기3.1. 수중 나이프4. 총기4.1. 수중 라이플4.2. 트리플 악셀4.3. 레드 스나이퍼4.4. 그레네이드 런처4.5. 점착 폭탄총4.6. 네트건4.7. 허쉬 다트4.8. 아이스건1. 개요[편집]데이브 더 다이버의 무기들을 정리한 문서.근거리무기, 작살, 총기가 있으며 작살과 총기는 탭키로 교환하여 사용 가능하다. 총은 상자를 열어서 줍거나, 업그레이드 획득 / 사용 시 즉시 장전된다.속성은 화염, 전기, 수면, 독, 마비, 빙결이 있으며 각 효과는 다음과 같다. 화염: 작살에서는 도트딜. 독보다 빠르게 사라지고 강한 데미지를 준다. 총기에서는 추가 데미지로 작용. 보스인 크로노사우루스를 제외하면 화염에 면역인 어종이 없어 실질적으로 추가 데미지나 다름없기 때문에 작살의 경우 무속성을 거르고 화염 속성 작살을 선호하는 편이다. 레벨이 높아질수록 소량의 기본 데미지와 더불어 화염 데미지가 5% 증가된다. 전기: 작살/총기 데미지의 비례한 체인 라이트닝을 건다. 즉 주변의 다른 물고기로 전기를 뿌린다. 수면: 수면에 걸린 적은 행동을 하지 않으며, 수면에 걸린 해파리나 부풀린 복어의 경우에도 닿아도 데미지를 입지 않는다. 또한 가장 중요한 것으로 갈무리가 필요 없는 소형 어종이 수면에 걸렸다면 가까이 다가가서 최고 등급으로 챙길 수 있다. 중/대형 어종의 경우에는 스토리를 진행하여 인양 드론이 해금된 이후에 인양 드론 횟수를 소모하여 인양할 수 있다. 초보의 경우 이를 모르고 수면 상태인 어류에 작살을 꽂거나 칼질을 하는 경우가 많다. 독: 도트딜. 꽤 길게 이어진다. 독 작살의 경우 데미지도 시원치 않고 독에 면역인 어류에겐 독 데미지가 없는 것이나 다름없으며, 커맨드가 마우스 빙글빙글이라 어렵기 때문에 버려지는 편. 마비: 명중한 어류의 이동 속도가 느려지며 잠깐씩 경련을 일으켜 멈춘다. 주로\n",
      "{'source': '무기.txt'}\n"
     ]
    }
   ],
   "source": [
    "query = \"무기에 대해 알려줘\"\n",
    "retriever = dive_db.as_retriever(search_kwargs={\"k\":5})\n",
    "tmp = retriever.get_relevant_documents(query)\n",
    "print(len(tmp))\n",
    "print(tmp[1].page_content)\n",
    "print(tmp[0].metadata)"
   ]
  },
  {
   "cell_type": "code",
   "execution_count": 39,
   "metadata": {},
   "outputs": [],
   "source": [
    "from langchain_core.output_parsers import StrOutputParser\n",
    "from langchain_core.runnables import RunnablePassthrough\n",
    "from langchain.prompts import ChatPromptTemplate\n",
    "\n",
    "model = ChatOpenAI(temperature=0, model=\"gpt-4-turbo\")\n",
    "\n",
    "# 질문 양식 설정 - 템플릿 설정\n",
    "template=\"\"\"당신은 데이브 더 다이브의 게임 가이드 입니다. {context} 를 기반으로 qustion에 100자 내외로 한글로 답변하세요 \n",
    "Question :{question}\n",
    "\"\"\"\n",
    "\n",
    "prompt = ChatPromptTemplate.from_template(template=template)\n",
    "\n",
    "\n",
    "parser = StrOutputParser()\n",
    "\n",
    "def format_docs(docs):\n",
    "    # 검색한 문서 결과를 하나의 문단으로 합쳐줍니다.\n",
    "    return \"\\n\\n\".join([doc.page_content for doc in docs])\n",
    "\n",
    "\n",
    "# 단계 RAG 체인 생성(Create Chain)\n",
    "rag_chain = (\n",
    "    {\"context\": retriever | format_docs, \"question\": RunnablePassthrough()}\n",
    "    | prompt\n",
    "    | model\n",
    "    | parser\n",
    ")"
   ]
  },
  {
   "cell_type": "code",
   "execution_count": 41,
   "metadata": {},
   "outputs": [
    {
     "name": "stdout",
     "output_type": "stream",
     "text": [
      "데이브 더 다이버 게임에서 사용할 수 있는 무기는 크게 작살총, 근접무기, 총기로 나뉩니다. 작살총은 물고기나 다른 해양 생물을 사냥할 때 사용하며, 근접무기로는 수중 나이프가 있습니다. 총기류에는 수중 라이플, 트리플 악셀, 레드 스나이퍼 등이 있으며, 각각 다른 특성과 효과를 가지고 있습니다. 무기는 탭 키를 통해 교환하여 사용할 수 있으며, 업그레이드를 통해 성능을 향상시킬 수 있습니다.\n"
     ]
    }
   ],
   "source": [
    "query = \"무기에 대해서 알려줘\"\n",
    "response = rag_chain.invoke(query)\n",
    "print(response)"
   ]
  },
  {
   "cell_type": "code",
   "execution_count": null,
   "metadata": {},
   "outputs": [],
   "source": []
  }
 ],
 "metadata": {
  "kernelspec": {
   "display_name": "torch_main",
   "language": "python",
   "name": "python3"
  },
  "language_info": {
   "codemirror_mode": {
    "name": "ipython",
    "version": 3
   },
   "file_extension": ".py",
   "mimetype": "text/x-python",
   "name": "python",
   "nbconvert_exporter": "python",
   "pygments_lexer": "ipython3",
   "version": "3.10.13"
  }
 },
 "nbformat": 4,
 "nbformat_minor": 2
}
