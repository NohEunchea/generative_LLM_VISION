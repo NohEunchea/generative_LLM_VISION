{
 "cells": [
  {
   "cell_type": "markdown",
   "metadata": {},
   "source": [
    "## assistant 만들어보기"
   ]
  },
  {
   "cell_type": "markdown",
   "metadata": {},
   "source": [
    "### 0-1. api_key 불러오기"
   ]
  },
  {
   "cell_type": "code",
   "execution_count": 1,
   "metadata": {},
   "outputs": [
    {
     "data": {
      "text/plain": [
       "True"
      ]
     },
     "execution_count": 1,
     "metadata": {},
     "output_type": "execute_result"
    }
   ],
   "source": [
    "from dotenv import load_dotenv\n",
    "import os\n",
    "\n",
    "load_dotenv()"
   ]
  },
  {
   "cell_type": "markdown",
   "metadata": {},
   "source": [
    "### 0-2. Assistant 응답 결과를 json 형태로 반환하는 함수 만들기"
   ]
  },
  {
   "cell_type": "code",
   "execution_count": 3,
   "metadata": {},
   "outputs": [],
   "source": [
    "import json\n",
    "\n",
    "def response_to_dict(obj):\n",
    "    return json.loads(obj.model_dump_json())"
   ]
  },
  {
   "cell_type": "markdown",
   "metadata": {},
   "source": [
    "### 1-1. 생성된 assistant 확인"
   ]
  },
  {
   "cell_type": "code",
   "execution_count": 4,
   "metadata": {},
   "outputs": [
    {
     "name": "stdout",
     "output_type": "stream",
     "text": [
      "Assistant(id='asst_GK2DimTvpiFrWBDbCOq9DwjQ', created_at=1712988472, description=None, file_ids=['file-DqdIDulmB8mP3GCjAk3NGTEX', 'file-HyeZozp2SL4fjaR2EZDPvVZq', 'file-4GMJdPNpAJvR8vJ1zv0sgjBI', 'file-lgVC1S54zKZOUkeGLtuJZX4A', 'file-CoVYbf5ZNpYnYEML2FoPMdqn', 'file-qPfDpph7Ouhi4Y51K4sObBgP', 'file-rTNSIUTUjG5l1yikWILW9pa1'], instructions=\"This GPT is designed to answer questions based on the contents of a specific text related to a game, focusing on game-related topics, especially those concerning characters, plot points, strategies, and any in-game mechanics detailed within the document. It will use the provided text as a reference to provide accurate and detailed responses. When asked a question, it will either provide information directly from the document or infer answers based on the content when direct information is not available. The GPT will clarify or ask for more details if the question is too broad or if it cannot find the exact information in the document. It aims to engage users by providing insightful, game-related information and facilitating a deeper understanding of the game's universe.\", metadata={}, model='gpt-4-turbo', name='데이브 더 다이브 게임 가이드', object='assistant', tools=[RetrievalTool(type='retrieval')])\n"
     ]
    }
   ],
   "source": [
    "from openai import OpenAI\n",
    "client = OpenAI()\n",
    "\n",
    "my_assistants = client.beta.assistants.list(\n",
    "    order=\"desc\",\n",
    "    limit=\"20\",\n",
    ")\n",
    "for i in my_assistants.data:\n",
    "    print(i)"
   ]
  },
  {
   "cell_type": "markdown",
   "metadata": {},
   "source": [
    "#### 1-2. assistant 만들기\n",
    "- 현재 있는 어시스턴트 확인하기\n",
    "- 생성된 어시스턴트가 없을 경우 이름으로 생성하기\n",
    "- 생성된 어시스턴트의 이름으로 id 조회하기\n",
    "- id 조회로 어시스턴트 "
   ]
  },
  {
   "cell_type": "code",
   "execution_count": 23,
   "metadata": {},
   "outputs": [
    {
     "name": "stdout",
     "output_type": "stream",
     "text": [
      "현재 있는 어시스턴트 종류는 : []\n"
     ]
    }
   ],
   "source": [
    "assistant_names = []\n",
    "for i in my_assistants.data:\n",
    "    assistant_names.append(i.name)\n",
    "print(\"현재 있는 어시스턴트 종류는 :\", assistant_names)"
   ]
  },
  {
   "cell_type": "code",
   "execution_count": 24,
   "metadata": {},
   "outputs": [],
   "source": [
    "# 생성된 어시스턴트가 없을 경우 생성\n",
    "my_assistant_name = \"데이브 더 다이브 게임 가이드\"\n",
    "if my_assistant_name not in assistant_names:\n",
    "    my_assistant = client.beta.assistants.create(\n",
    "    instructions = \"This GPT is designed to answer questions based on the contents of a specific text related to a game, focusing on game-related topics, especially those concerning characters, plot points, strategies, and any in-game mechanics detailed within the document. It will use the provided text as a reference to provide accurate and detailed responses. When asked a question, it will either provide information directly from the document or infer answers based on the content when direct information is not available. The GPT will clarify or ask for more details if the question is too broad or if it cannot find the exact information in the document. It aims to engage users by providing insightful, game-related information and facilitating a deeper understanding of the game's universe. Respond in Korean only\",\n",
    "    name = my_assistant_name,\n",
    "    tools = [{\"type\": \"retrieval\"}],\n",
    "    model = \"gpt-4-turbo\",\n",
    ")"
   ]
  },
  {
   "cell_type": "code",
   "execution_count": 25,
   "metadata": {},
   "outputs": [
    {
     "name": "stdout",
     "output_type": "stream",
     "text": [
      "asst_XckrgwZWlubKaYC3wagUMnVB\n"
     ]
    }
   ],
   "source": [
    "for i in my_assistants.data:\n",
    "    if i.name == my_assistant_name:\n",
    "        my_assistant_id = i.id\n",
    "print(my_assistant_id)"
   ]
  },
  {
   "cell_type": "markdown",
   "metadata": {},
   "source": [
    "### 1-3. 검색용 파일 업로드"
   ]
  },
  {
   "cell_type": "code",
   "execution_count": 26,
   "metadata": {},
   "outputs": [
    {
     "data": {
      "text/plain": [
       "['.\\\\등장인물.txt',\n",
       " '.\\\\무기.txt',\n",
       " '.\\\\부재료 및 조미료.txt',\n",
       " '.\\\\식당 운영.txt',\n",
       " '.\\\\요리.txt',\n",
       " '.\\\\장비.txt',\n",
       " '.\\\\지역 및 생물.txt']"
      ]
     },
     "execution_count": 26,
     "metadata": {},
     "output_type": "execute_result"
    }
   ],
   "source": [
    "### txt 파일 리스트\n",
    "from glob import glob\n",
    "txt_list = glob(\"./*.txt\")\n",
    "txt_list"
   ]
  },
  {
   "cell_type": "code",
   "execution_count": 27,
   "metadata": {},
   "outputs": [],
   "source": [
    "# 파일 객체 생성\n",
    "file_id_list = []\n",
    "for file_path in txt_list:\n",
    "  upload_file_path = file_path\n",
    "  file = client.files.create(\n",
    "    file=open(upload_file_path, \"rb\"),\n",
    "    purpose='assistants'\n",
    "  )\n",
    "  file_id_list.append(file.id)"
   ]
  },
  {
   "cell_type": "code",
   "execution_count": 28,
   "metadata": {},
   "outputs": [
    {
     "data": {
      "text/plain": [
       "['file-rTNSIUTUjG5l1yikWILW9pa1',\n",
       " 'file-qPfDpph7Ouhi4Y51K4sObBgP',\n",
       " 'file-CoVYbf5ZNpYnYEML2FoPMdqn',\n",
       " 'file-lgVC1S54zKZOUkeGLtuJZX4A',\n",
       " 'file-4GMJdPNpAJvR8vJ1zv0sgjBI',\n",
       " 'file-HyeZozp2SL4fjaR2EZDPvVZq',\n",
       " 'file-DqdIDulmB8mP3GCjAk3NGTEX']"
      ]
     },
     "execution_count": 28,
     "metadata": {},
     "output_type": "execute_result"
    }
   ],
   "source": [
    "file_id_list"
   ]
  },
  {
   "cell_type": "markdown",
   "metadata": {},
   "source": [
    "### 1-4. 어시스턴트 업데이트"
   ]
  },
  {
   "cell_type": "code",
   "execution_count": 29,
   "metadata": {},
   "outputs": [
    {
     "data": {
      "text/plain": [
       "Assistant(id='asst_GK2DimTvpiFrWBDbCOq9DwjQ', created_at=1712988472, description=None, file_ids=['file-rTNSIUTUjG5l1yikWILW9pa1', 'file-qPfDpph7Ouhi4Y51K4sObBgP', 'file-CoVYbf5ZNpYnYEML2FoPMdqn', 'file-lgVC1S54zKZOUkeGLtuJZX4A', 'file-4GMJdPNpAJvR8vJ1zv0sgjBI', 'file-HyeZozp2SL4fjaR2EZDPvVZq', 'file-DqdIDulmB8mP3GCjAk3NGTEX'], instructions=\"This GPT is designed to answer questions based on the contents of a specific text related to a game, focusing on game-related topics, especially those concerning characters, plot points, strategies, and any in-game mechanics detailed within the document. It will use the provided text as a reference to provide accurate and detailed responses. When asked a question, it will either provide information directly from the document or infer answers based on the content when direct information is not available. The GPT will clarify or ask for more details if the question is too broad or if it cannot find the exact information in the document. It aims to engage users by providing insightful, game-related information and facilitating a deeper understanding of the game's universe.\", metadata={}, model='gpt-4-turbo', name='데이브 더 다이브 게임 가이드', object='assistant', tools=[RetrievalTool(type='retrieval')])"
      ]
     },
     "execution_count": 29,
     "metadata": {},
     "output_type": "execute_result"
    }
   ],
   "source": [
    "# 기존의 어시스턴트에 파일 업로드 하기 - instructions, model  수정가능\n",
    "client.beta.assistants.update(\n",
    "    assistant_id=my_assistant.id,\n",
    "    file_ids=file_id_list,\n",
    ")"
   ]
  },
  {
   "cell_type": "code",
   "execution_count": 30,
   "metadata": {},
   "outputs": [
    {
     "name": "stdout",
     "output_type": "stream",
     "text": [
      "AssistantFile(id='file-rTNSIUTUjG5l1yikWILW9pa1', assistant_id='asst_GK2DimTvpiFrWBDbCOq9DwjQ', created_at=1712988518, object='assistant.file')\n"
     ]
    }
   ],
   "source": [
    "## 파일 검색해보기\n",
    "assistant_file = client.beta.assistants.files.retrieve(\n",
    "  assistant_id=\"asst_GK2DimTvpiFrWBDbCOq9DwjQ\", # 생성된 assistant_id 를 입력해주세요\n",
    "  file_id=\"file-rTNSIUTUjG5l1yikWILW9pa1\" # 찾고자 하는 file id를 입력해주세요\n",
    ")\n",
    "print(assistant_file)"
   ]
  },
  {
   "cell_type": "markdown",
   "metadata": {},
   "source": [
    "### 1-5. 파일 삭제"
   ]
  },
  {
   "cell_type": "code",
   "execution_count": null,
   "metadata": {},
   "outputs": [],
   "source": [
    "file_deletion_status = client.beta.assistants.files.delete(\n",
    "  assistant_id=\"어시스턴트 id\",\n",
    "  file_id=\"삭제할 파일 id\"\n",
    ")"
   ]
  },
  {
   "cell_type": "markdown",
   "metadata": {},
   "source": [
    "### 2-1. 대화 스레드 생성"
   ]
  },
  {
   "cell_type": "code",
   "execution_count": 84,
   "metadata": {},
   "outputs": [
    {
     "name": "stdout",
     "output_type": "stream",
     "text": [
      "Thread(id='thread_OZNg0Ieeau9R51bxN8of3xPN', created_at=1712993021, metadata={}, object='thread')\n"
     ]
    }
   ],
   "source": [
    "empty_thread = client.beta.threads.create() # 스레드 생성 : 새 대화창이라고 생각\n",
    "print(empty_thread)"
   ]
  },
  {
   "cell_type": "code",
   "execution_count": 85,
   "metadata": {},
   "outputs": [
    {
     "name": "stdout",
     "output_type": "stream",
     "text": [
      "Thread(id='thread_OZNg0Ieeau9R51bxN8of3xPN', created_at=1712993021, metadata={}, object='thread')\n"
     ]
    }
   ],
   "source": [
    "my_thread = client.beta.threads.retrieve(empty_thread.id) # 대화창 검색해보기\n",
    "print(my_thread)"
   ]
  },
  {
   "cell_type": "markdown",
   "metadata": {},
   "source": [
    "### 3-1. 메시지 객체 생성"
   ]
  },
  {
   "cell_type": "code",
   "execution_count": 86,
   "metadata": {},
   "outputs": [
    {
     "name": "stdout",
     "output_type": "stream",
     "text": [
      "Message(id='msg_tW2U3nkl9yPOzWqjCG5uNLfe', assistant_id=None, completed_at=None, content=[TextContentBlock(text=Text(annotations=[], value='데이브 더 다이브의 등장인물에 대해서 요약해줘'), type='text')], created_at=1712993029, file_ids=[], incomplete_at=None, incomplete_details=None, metadata={}, object='thread.message', role='user', run_id=None, status=None, thread_id='thread_OZNg0Ieeau9R51bxN8of3xPN')\n"
     ]
    }
   ],
   "source": [
    "thread_message = client.beta.threads.messages.create(\n",
    "    thread_id=my_thread.id,\n",
    "    role=\"user\",\n",
    "    content=\"데이브 더 다이브의 등장인물에 대해서 요약해줘\",\n",
    ")\n",
    "print(thread_message)"
   ]
  },
  {
   "cell_type": "code",
   "execution_count": 87,
   "metadata": {},
   "outputs": [
    {
     "name": "stdout",
     "output_type": "stream",
     "text": [
      "Run(id='run_IzltKmOYjh86pd953NgLHPv3', assistant_id='asst_GK2DimTvpiFrWBDbCOq9DwjQ', cancelled_at=None, completed_at=1712993095, created_at=1712993068, expires_at=None, failed_at=None, file_ids=['file-rTNSIUTUjG5l1yikWILW9pa1', 'file-qPfDpph7Ouhi4Y51K4sObBgP', 'file-CoVYbf5ZNpYnYEML2FoPMdqn', 'file-lgVC1S54zKZOUkeGLtuJZX4A', 'file-4GMJdPNpAJvR8vJ1zv0sgjBI', 'file-HyeZozp2SL4fjaR2EZDPvVZq', 'file-DqdIDulmB8mP3GCjAk3NGTEX'], instructions=\"This GPT is designed to answer questions based on the contents of a specific text related to a game, focusing on game-related topics, especially those concerning characters, plot points, strategies, and any in-game mechanics detailed within the document. It will use the provided text as a reference to provide accurate and detailed responses. When asked a question, it will either provide information directly from the document or infer answers based on the content when direct information is not available. The GPT will clarify or ask for more details if the question is too broad or if it cannot find the exact information in the document. It aims to engage users by providing insightful, game-related information and facilitating a deeper understanding of the game's universe.\", last_error=None, metadata={}, model='gpt-4-turbo', object='thread.run', required_action=None, started_at=1712993068, status='completed', thread_id='thread_OZNg0Ieeau9R51bxN8of3xPN', tools=[RetrievalTool(type='retrieval')], usage=Usage(completion_tokens=629, prompt_tokens=8709, total_tokens=9338), temperature=1.0, max_completion_tokens=None, max_prompt_tokens=None, truncation_strategy={'type': 'auto', 'last_messages': None}, incomplete_details=None, response_format='auto', tool_choice='auto')\n"
     ]
    }
   ],
   "source": [
    "run = client.beta.threads.runs.create_and_poll(\n",
    "  thread_id=my_thread.id,\n",
    "  assistant_id=\"asst_GK2DimTvpiFrWBDbCOq9DwjQ\" # 현재 하고 있는 어시스턴트 id\n",
    ")\n",
    "print(run)"
   ]
  },
  {
   "cell_type": "markdown",
   "metadata": {},
   "source": [
    "### 4-1. 생성된 내용 출력해보기 - 동기 방식"
   ]
  },
  {
   "cell_type": "code",
   "execution_count": 88,
   "metadata": {},
   "outputs": [
    {
     "name": "stdout",
     "output_type": "stream",
     "text": [
      "{'annotations': [{'end_index': 755, 'file_citation': {'file_id': 'file-HyeZozp2SL4fjaR2EZDPvVZq', 'quote': ''}, 'start_index': 744, 'text': '【17†source】', 'type': 'file_citation'}], 'value': '게임 \"데이브 더 다이버\"에는 다양한 등장인물들이 있으며 이들은 크게 몇 개의 그룹으로 구분할 수 있습니다.\\n\\n1. **반쵸스시**:\\n   - **데이브**: 주인공으로, 배가 나온 다이버 아저씨입니다.\\n   - **코브라**: 데이브를 블루홀로 초대하는 인물입니다.\\n   - **반쵸**: 이름이 그대로 인물의 이름입니다.\\n   - **모모**: 등장인물 중 하나입니다.\\n   - **모찌**: 등장인물 중 하나입니다.\\n\\n2. **주변 인물**:\\n   - **엘리**, **더프**, **닥터 베이컨**, **요시에**, **사토상**, **우도**, **오토**, **마키** 등 다양한 인물들이 있습니다. 각각 게임의 스토리와 상황에서 중요한 역할을 합니다.\\n\\n3. **VIP**:\\n   - **빈센트**, **마이클 방**, **새미** 등 높은 지위를 가지고 있거나 중요한 역할을 하는 인물들입니다.\\n   - **챌린지 더 쉐프** 섹션에는 **왕팡**, **알렉스**, **파스트로** 등이 속해 있습니다.\\n\\n4. **어인족 마을**:\\n   - **라모**, **텐진**, **수왐**, **가진** 등이 속한, 어인족으로 구성된 마을의 주요 인물들입니다.\\n   - 다양한 어인족 인물들이 등장하며 게임 내에서 독특한 역할을 담당하고 있습니다.\\n\\n5. **기타 인물**:\\n   - **해적**, **존 왓슨**, **루이스**, **유이**, **클라라** 등 게임 내에서 다양한 배경과 이야기를 갖고 있는 인물들입니다【17†source】.'}\n",
      "{'annotations': [], 'value': '데이브 더 다이브의 등장인물에 대해서 요약해줘'}\n"
     ]
    }
   ],
   "source": [
    "if run.status == 'completed': \n",
    "  messages = client.beta.threads.messages.list(\n",
    "    thread_id=my_thread.id\n",
    "  )\n",
    "  response_data = response_to_dict(messages)\n",
    "  for msg_data in response_data[\"data\"]:\n",
    "      print(msg_data[\"content\"][0][\"text\"])\n",
    "else:\n",
    "  print(run.status)"
   ]
  },
  {
   "cell_type": "markdown",
   "metadata": {},
   "source": [
    "### 4-2. 메시지 추가해보기"
   ]
  },
  {
   "cell_type": "code",
   "execution_count": 89,
   "metadata": {},
   "outputs": [
    {
     "name": "stdout",
     "output_type": "stream",
     "text": [
      "Message(id='msg_FIaTedo3PH58LLHRU5K8STbl', assistant_id=None, completed_at=None, content=[TextContentBlock(text=Text(annotations=[], value='데이브 더 다이브의 무기에 대해서 요약해줘'), type='text')], created_at=1712993192, file_ids=[], incomplete_at=None, incomplete_details=None, metadata={}, object='thread.message', role='user', run_id=None, status=None, thread_id='thread_OZNg0Ieeau9R51bxN8of3xPN')\n"
     ]
    }
   ],
   "source": [
    "thread_message = client.beta.threads.messages.create(\n",
    "    thread_id=my_thread.id,\n",
    "    role=\"user\",\n",
    "    content=\"데이브 더 다이브의 무기에 대해서 요약해줘\",\n",
    ")\n",
    "print(thread_message)"
   ]
  },
  {
   "cell_type": "code",
   "execution_count": 90,
   "metadata": {},
   "outputs": [
    {
     "name": "stdout",
     "output_type": "stream",
     "text": [
      "Run(id='run_uW6xPr3UKkOV1XjO7q5KLIH7', assistant_id='asst_GK2DimTvpiFrWBDbCOq9DwjQ', cancelled_at=None, completed_at=1712993221, created_at=1712993206, expires_at=None, failed_at=None, file_ids=['file-rTNSIUTUjG5l1yikWILW9pa1', 'file-qPfDpph7Ouhi4Y51K4sObBgP', 'file-CoVYbf5ZNpYnYEML2FoPMdqn', 'file-lgVC1S54zKZOUkeGLtuJZX4A', 'file-4GMJdPNpAJvR8vJ1zv0sgjBI', 'file-HyeZozp2SL4fjaR2EZDPvVZq', 'file-DqdIDulmB8mP3GCjAk3NGTEX'], instructions=\"This GPT is designed to answer questions based on the contents of a specific text related to a game, focusing on game-related topics, especially those concerning characters, plot points, strategies, and any in-game mechanics detailed within the document. It will use the provided text as a reference to provide accurate and detailed responses. When asked a question, it will either provide information directly from the document or infer answers based on the content when direct information is not available. The GPT will clarify or ask for more details if the question is too broad or if it cannot find the exact information in the document. It aims to engage users by providing insightful, game-related information and facilitating a deeper understanding of the game's universe.\", last_error=None, metadata={}, model='gpt-4-turbo', object='thread.run', required_action=None, started_at=1712993207, status='completed', thread_id='thread_OZNg0Ieeau9R51bxN8of3xPN', tools=[RetrievalTool(type='retrieval')], usage=Usage(completion_tokens=428, prompt_tokens=10771, total_tokens=11199), temperature=1.0, max_completion_tokens=None, max_prompt_tokens=None, truncation_strategy={'type': 'auto', 'last_messages': None}, incomplete_details=None, response_format='auto', tool_choice='auto')\n"
     ]
    }
   ],
   "source": [
    "run = client.beta.threads.runs.create_and_poll(\n",
    "  thread_id=my_thread.id,\n",
    "  assistant_id=\"asst_GK2DimTvpiFrWBDbCOq9DwjQ\"\n",
    ")\n",
    "print(run)"
   ]
  },
  {
   "cell_type": "code",
   "execution_count": 91,
   "metadata": {},
   "outputs": [
    {
     "name": "stdout",
     "output_type": "stream",
     "text": [
      "{'annotations': [{'end_index': 127, 'file_citation': {'file_id': 'file-HyeZozp2SL4fjaR2EZDPvVZq', 'quote': ''}, 'start_index': 114, 'text': '【24:0†source】', 'type': 'file_citation'}, {'end_index': 252, 'file_citation': {'file_id': 'file-HyeZozp2SL4fjaR2EZDPvVZq', 'quote': ''}, 'start_index': 239, 'text': '【24:0†source】', 'type': 'file_citation'}, {'end_index': 372, 'file_citation': {'file_id': 'file-HyeZozp2SL4fjaR2EZDPvVZq', 'quote': ''}, 'start_index': 359, 'text': '【24:0†source】', 'type': 'file_citation'}], 'value': '게임 \"데이브 더 다이버\"에서의 무기에 대한 설명은 다음과 같습니다:\\n\\n1. **무기 상자**: 무기 상자에서는 무기를 랜덤하게 얻을 수 있습니다. 무기 상자를 열었을 때 나오는 무기는 자동으로 사용됩니다【24:0†source】.\\n\\n2. **장거리 수중 스쿠터**: 대용량 배터리가 탑재된 스쿠터로, 속도는 느려졌지만 사용 시간이 개선되어 오랜요 보조 장비로 활용됩니다. 이동 속도 50% 증가 및 사용 시간 20초를 제공합니다【24:0†source】.\\n\\n3. **설치형 트리거 폭탄**: 강력한 폭발을 일으킬 수 있는 설치형 트리거 폭탄입니다. 터뜨리면 곧장 대상에게 큰 피해를 입힐 수 있으며, 폭발 피해는 40, 폭발 범위는 3M 입니다【24:0†source】.\\n\\n이 게임에서 무기는 대부분 잠수하기 전에 쉽게 구매하거나 발견할 수 있으며, 게임 내 특정 퀘스트나 도전에서 중요한 역할을 합니다.'}\n",
      "{'annotations': [], 'value': '데이브 더 다이브의 무기에 대해서 요약해줘'}\n",
      "{'annotations': [{'end_index': 755, 'file_citation': {'file_id': 'file-HyeZozp2SL4fjaR2EZDPvVZq', 'quote': ''}, 'start_index': 744, 'text': '【17†source】', 'type': 'file_citation'}], 'value': '게임 \"데이브 더 다이버\"에는 다양한 등장인물들이 있으며 이들은 크게 몇 개의 그룹으로 구분할 수 있습니다.\\n\\n1. **반쵸스시**:\\n   - **데이브**: 주인공으로, 배가 나온 다이버 아저씨입니다.\\n   - **코브라**: 데이브를 블루홀로 초대하는 인물입니다.\\n   - **반쵸**: 이름이 그대로 인물의 이름입니다.\\n   - **모모**: 등장인물 중 하나입니다.\\n   - **모찌**: 등장인물 중 하나입니다.\\n\\n2. **주변 인물**:\\n   - **엘리**, **더프**, **닥터 베이컨**, **요시에**, **사토상**, **우도**, **오토**, **마키** 등 다양한 인물들이 있습니다. 각각 게임의 스토리와 상황에서 중요한 역할을 합니다.\\n\\n3. **VIP**:\\n   - **빈센트**, **마이클 방**, **새미** 등 높은 지위를 가지고 있거나 중요한 역할을 하는 인물들입니다.\\n   - **챌린지 더 쉐프** 섹션에는 **왕팡**, **알렉스**, **파스트로** 등이 속해 있습니다.\\n\\n4. **어인족 마을**:\\n   - **라모**, **텐진**, **수왐**, **가진** 등이 속한, 어인족으로 구성된 마을의 주요 인물들입니다.\\n   - 다양한 어인족 인물들이 등장하며 게임 내에서 독특한 역할을 담당하고 있습니다.\\n\\n5. **기타 인물**:\\n   - **해적**, **존 왓슨**, **루이스**, **유이**, **클라라** 등 게임 내에서 다양한 배경과 이야기를 갖고 있는 인물들입니다【17†source】.'}\n",
      "{'annotations': [], 'value': '데이브 더 다이브의 등장인물에 대해서 요약해줘'}\n"
     ]
    }
   ],
   "source": [
    "if run.status == 'completed': \n",
    "  messages = client.beta.threads.messages.list(\n",
    "    thread_id=my_thread.id\n",
    "  )\n",
    "  response_data = response_to_dict(messages)\n",
    "  for msg_data in response_data[\"data\"]:\n",
    "      print(msg_data[\"content\"][0][\"text\"])\n",
    "else:\n",
    "  print(run.status)"
   ]
  },
  {
   "cell_type": "markdown",
   "metadata": {},
   "source": [
    "### 5-1.파일 지정해서 검색해보기\n",
    "- 등장인물 : 'file-rTNSIUTUjG5l1yikWILW9pa1'\n",
    "- 무기 :'file-qPfDpph7Ouhi4Y51K4sObBgP'\n",
    "- 부재료 및 조미료 : 'file-CoVYbf5ZNpYnYEML2FoPMdqn'\n",
    "- 식당 운영 : 'file-lgVC1S54zKZOUkeGLtuJZX4A'\n",
    "- 요리 : 'file-4GMJdPNpAJvR8vJ1zv0sgjBI'\n",
    "- 장비 : 'file-HyeZozp2SL4fjaR2EZDPvVZq'\n",
    "- 지역 및 생물 : 'file-DqdIDulmB8mP3GCjAk3NGTEX'"
   ]
  },
  {
   "cell_type": "code",
   "execution_count": 8,
   "metadata": {},
   "outputs": [
    {
     "name": "stdout",
     "output_type": "stream",
     "text": [
      "**데이브 더 다이버**에서 등장하는 주요 캐릭터와 그룹에 대한 요약은 다음과 같습니다:\n",
      "\n",
      "1. **데이브**: 게임의 주인공으로 다이버이자 아저씨. 어느 열대의 섬에서 휴양 중에 코브라의 초밥집 제안을 받고 블루홀에 오게 됩니다. 초밥 재료를 직접 잡아오면서 가게 운영도 하게 됩니다. 매일매일 바닷속에서 잠수하고 밤에는 서빙까지 하는 등, 게임을 통해 초인적인 체력을 보여줍니다.\n",
      "\n",
      "2. **코브라**: 데이브와 반쵸를 블루홀의 생선을 이용한 초밥집 차림으로 모은 인물. 메인 스토리 클리어 후에는 다이빙 장비를 판매하고 다이빙에서 얻은 물건들을 매입하는 코브라샵을 운영합니다.\n",
      "\n",
      "3. **반쵸**: 게임 중 흑인 초밥 장인으로, 미지의 영역을 탐사하는 것을 목표로 합니다. 평범한 식용 생선 대신 열대어나 해파리, 상어, 심해어 같은 미지의 재료만을 다루어 높은 요리 수준을 보여줍니다.\n",
      "\n",
      "4. **모모와 모찌**: 부가적인 정보는 없으며, 이름만 언급됨.\n",
      "\n",
      "5. **주변 인물**: 엘리, 더프, 닥터 베이컨, 요시에, 사토상 등 다양한 인물들이 나타나며 각각 특별한 역할을 수행합니다.\n",
      "\n",
      "6. **어인족 마을**: 다양한 인물로 구성되어 있으며, 데이브는 이 마을을 구하고 마을 사람들은 데이브를 기리기 위해 석상을 세웁니다.\n",
      "\n",
      "이 게임은 캐릭터들이 각기 독특한 역할이 있으며, 흥미로운 이야기꾼들로 구성되어 있습니다. Detailed descriptions of other characters and other aspects can be provided if interested.\n",
      "데이브 더 다이브의 등장인물에 대해서 요약해줘\n"
     ]
    }
   ],
   "source": [
    "my_thread2 = client.beta.threads.create() # 스레드 생성 : 새 대화창이라고 생각\n",
    "thread_message2 = client.beta.threads.messages.create(\n",
    "    thread_id=my_thread2.id,\n",
    "    role=\"user\",\n",
    "    content=\"데이브 더 다이브의 등장인물에 대해서 요약해줘\",\n",
    "    file_ids = [\"file-rTNSIUTUjG5l1yikWILW9pa1\"]\n",
    ")\n",
    "run = client.beta.threads.runs.create_and_poll(\n",
    "  thread_id=my_thread2.id,\n",
    "  assistant_id=\"asst_GK2DimTvpiFrWBDbCOq9DwjQ\" # 현재 하고 있는 어시스턴트 id,\n",
    ")\n",
    "if run.status == 'completed': \n",
    "  messages = client.beta.threads.messages.list(\n",
    "    thread_id=my_thread2.id\n",
    "  )\n",
    "  response_data = response_to_dict(messages)\n",
    "  for msg_data in response_data[\"data\"]:\n",
    "      print(msg_data[\"content\"][0][\"text\"][\"value\"])\n",
    "else:\n",
    "  print(run.status)"
   ]
  },
  {
   "cell_type": "code",
   "execution_count": null,
   "metadata": {},
   "outputs": [],
   "source": []
  }
 ],
 "metadata": {
  "kernelspec": {
   "display_name": "torch_main",
   "language": "python",
   "name": "python3"
  },
  "language_info": {
   "codemirror_mode": {
    "name": "ipython",
    "version": 3
   },
   "file_extension": ".py",
   "mimetype": "text/x-python",
   "name": "python",
   "nbconvert_exporter": "python",
   "pygments_lexer": "ipython3",
   "version": "3.10.13"
  }
 },
 "nbformat": 4,
 "nbformat_minor": 2
}
