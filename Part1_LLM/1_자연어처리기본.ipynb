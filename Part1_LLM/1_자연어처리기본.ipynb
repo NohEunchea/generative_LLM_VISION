{
 "cells": [
  {
   "cell_type": "markdown",
   "metadata": {},
   "source": [
    "### 1. BoW 구현"
   ]
  },
  {
   "cell_type": "code",
   "execution_count": 1,
   "metadata": {},
   "outputs": [
    {
     "name": "stdout",
     "output_type": "stream",
     "text": [
      "{'나는': 1, '오늘': 1, '파이썬': 2, '을': 1, '공부': 2, '하고': 1, '있습니다': 1, '은': 1, '정말': 1, '재밌는': 1, '입니다': 1}\n"
     ]
    }
   ],
   "source": [
    "from collections import Counter\n",
    "bow = [\"나는\", \"오늘\", \"파이썬\", \"을\", \"공부\", \"하고\", \"있습니다\", \"파이썬\", \"은\", \"정말\", \"재밌는\", \"공부\", \"입니다\"]\n",
    "bow_dic = dict(Counter(bow))\n",
    "print(bow_dic)"
   ]
  },
  {
   "cell_type": "markdown",
   "metadata": {},
   "source": [
    "### 2. DTM 구현"
   ]
  },
  {
   "cell_type": "code",
   "execution_count": 2,
   "metadata": {},
   "outputs": [
    {
     "name": "stdout",
     "output_type": "stream",
     "text": [
      "DTM:\n",
      "[[0 0 0 0 1 0 0 0 0 0 0 1 0 1]\n",
      " [0 1 0 0 0 1 0 0 1 1 0 0 0 0]\n",
      " [1 0 1 0 0 0 0 1 0 0 0 0 1 1]\n",
      " [0 1 0 1 0 1 1 0 0 1 1 0 1 0]]\n",
      "\n",
      "어휘 사전:\n",
      "['공부를' '공부합니다' '과학' '과학을' '나는' '매일' '수학' '수학도' '수학을' '영어' '영어는' '영어를'\n",
      " '좋아하고' '좋아합니다']\n"
     ]
    }
   ],
   "source": [
    "from sklearn.feature_extraction.text import CountVectorizer\n",
    "\n",
    "# 문서 리스트\n",
    "documents = [\n",
    "    \"나는 영어를 좋아합니다\",\n",
    "    \"영어, 수학을 매일 공부합니다\",\n",
    "    \"과학 공부를 좋아하고 수학도 좋아합니다\",\n",
    "    \"영어, 수학, 과학을 좋아하고 영어는 매일 공부합니다.\"\n",
    "]\n",
    "\n",
    "# CountVectorizer 초기화 및 DTM 생성\n",
    "vectorizer = CountVectorizer()\n",
    "dtm = vectorizer.fit_transform(documents)\n",
    "\n",
    "# DTM과 어휘 사전 출력\n",
    "print(\"DTM:\")\n",
    "print(dtm.toarray())\n",
    "print(\"\\n어휘 사전:\")\n",
    "print(vectorizer.get_feature_names_out())\n"
   ]
  },
  {
   "cell_type": "markdown",
   "metadata": {},
   "source": [
    "### 3. TF-IDF 구현"
   ]
  },
  {
   "cell_type": "code",
   "execution_count": 3,
   "metadata": {},
   "outputs": [
    {
     "name": "stdout",
     "output_type": "stream",
     "text": [
      "[[0 0 0 0 1 0 0 0 0 0 0 1 0 1]\n",
      " [0 1 0 0 0 1 0 0 1 1 0 0 0 0]\n",
      " [1 0 1 0 0 0 0 1 0 0 0 0 1 1]\n",
      " [0 1 0 1 0 1 1 0 0 1 1 0 1 0]]\n",
      "\n",
      "어휘 사전:\n",
      "['공부를' '공부합니다' '과학' '과학을' '나는' '매일' '수학' '수학도' '수학을' '영어' '영어는' '영어를'\n",
      " '좋아하고' '좋아합니다']\n"
     ]
    }
   ],
   "source": [
    "# 필요한 라이브러리 임포트\n",
    "import pandas as pd\n",
    "from sklearn.feature_extraction.text import TfidfVectorizer\n",
    "\n",
    "# 문서 리스트\n",
    "documents = [\n",
    "    \"나는 영어를 좋아합니다\",\n",
    "    \"영어, 수학을 매일 공부합니다\",\n",
    "    \"과학 공부를 좋아하고 수학도 좋아합니다\",\n",
    "    \"영어, 수학, 과학을 좋아하고 영어는 매일 공부합니다.\"\n",
    "]\n",
    "\n",
    "# TF-IDF Vectorizer 초기화 및 학습\n",
    "tfidf_vectorizer = TfidfVectorizer()\n",
    "tfidf_matrix = tfidf_vectorizer.fit_transform(documents)\n",
    "\n",
    "# 어휘 사전과 TF-IDF 행렬을 데이터 프레임으로 변환\n",
    "# 문서의 인덱스를 \"문서1\", \"문서2\", ...으로 설정\n",
    "df_tfidf = pd.DataFrame(tfidf_matrix.toarray(), \n",
    "                        columns=tfidf_vectorizer.get_feature_names_out(), \n",
    "                        index=[f\"문서{i+1}\" for i in range(len(documents))])\n",
    "dtm = vectorizer.fit_transform(documents)\n",
    "print(dtm.toarray())\n",
    "print(\"\\n어휘 사전:\")\n",
    "print(vectorizer.get_feature_names_out())"
   ]
  },
  {
   "cell_type": "code",
   "execution_count": 35,
   "metadata": {},
   "outputs": [
    {
     "data": {
      "text/html": [
       "<div>\n",
       "<style scoped>\n",
       "    .dataframe tbody tr th:only-of-type {\n",
       "        vertical-align: middle;\n",
       "    }\n",
       "\n",
       "    .dataframe tbody tr th {\n",
       "        vertical-align: top;\n",
       "    }\n",
       "\n",
       "    .dataframe thead th {\n",
       "        text-align: right;\n",
       "    }\n",
       "</style>\n",
       "<table border=\"1\" class=\"dataframe\">\n",
       "  <thead>\n",
       "    <tr style=\"text-align: right;\">\n",
       "      <th></th>\n",
       "      <th>공부를</th>\n",
       "      <th>공부합니다</th>\n",
       "      <th>과학</th>\n",
       "      <th>과학을</th>\n",
       "      <th>나는</th>\n",
       "      <th>매일</th>\n",
       "      <th>수학</th>\n",
       "      <th>수학도</th>\n",
       "      <th>수학을</th>\n",
       "      <th>영어</th>\n",
       "      <th>영어는</th>\n",
       "      <th>영어를</th>\n",
       "      <th>좋아하고</th>\n",
       "      <th>좋아합니다</th>\n",
       "    </tr>\n",
       "  </thead>\n",
       "  <tbody>\n",
       "    <tr>\n",
       "      <th>문서1</th>\n",
       "      <td>0.000000</td>\n",
       "      <td>0.000000</td>\n",
       "      <td>0.000000</td>\n",
       "      <td>0.000000</td>\n",
       "      <td>0.617614</td>\n",
       "      <td>0.000000</td>\n",
       "      <td>0.000000</td>\n",
       "      <td>0.000000</td>\n",
       "      <td>0.000000</td>\n",
       "      <td>0.000000</td>\n",
       "      <td>0.000000</td>\n",
       "      <td>0.617614</td>\n",
       "      <td>0.000000</td>\n",
       "      <td>0.486934</td>\n",
       "    </tr>\n",
       "    <tr>\n",
       "      <th>문서2</th>\n",
       "      <td>0.000000</td>\n",
       "      <td>0.465809</td>\n",
       "      <td>0.000000</td>\n",
       "      <td>0.000000</td>\n",
       "      <td>0.000000</td>\n",
       "      <td>0.465809</td>\n",
       "      <td>0.000000</td>\n",
       "      <td>0.000000</td>\n",
       "      <td>0.590819</td>\n",
       "      <td>0.465809</td>\n",
       "      <td>0.000000</td>\n",
       "      <td>0.000000</td>\n",
       "      <td>0.000000</td>\n",
       "      <td>0.000000</td>\n",
       "    </tr>\n",
       "    <tr>\n",
       "      <th>문서3</th>\n",
       "      <td>0.485461</td>\n",
       "      <td>0.000000</td>\n",
       "      <td>0.485461</td>\n",
       "      <td>0.000000</td>\n",
       "      <td>0.000000</td>\n",
       "      <td>0.000000</td>\n",
       "      <td>0.000000</td>\n",
       "      <td>0.485461</td>\n",
       "      <td>0.000000</td>\n",
       "      <td>0.000000</td>\n",
       "      <td>0.000000</td>\n",
       "      <td>0.000000</td>\n",
       "      <td>0.382743</td>\n",
       "      <td>0.382743</td>\n",
       "    </tr>\n",
       "    <tr>\n",
       "      <th>문서4</th>\n",
       "      <td>0.000000</td>\n",
       "      <td>0.336597</td>\n",
       "      <td>0.000000</td>\n",
       "      <td>0.426931</td>\n",
       "      <td>0.000000</td>\n",
       "      <td>0.336597</td>\n",
       "      <td>0.426931</td>\n",
       "      <td>0.000000</td>\n",
       "      <td>0.000000</td>\n",
       "      <td>0.336597</td>\n",
       "      <td>0.426931</td>\n",
       "      <td>0.000000</td>\n",
       "      <td>0.336597</td>\n",
       "      <td>0.000000</td>\n",
       "    </tr>\n",
       "  </tbody>\n",
       "</table>\n",
       "</div>"
      ],
      "text/plain": [
       "          공부를     공부합니다        과학       과학을        나는        매일        수학  \\\n",
       "문서1  0.000000  0.000000  0.000000  0.000000  0.617614  0.000000  0.000000   \n",
       "문서2  0.000000  0.465809  0.000000  0.000000  0.000000  0.465809  0.000000   \n",
       "문서3  0.485461  0.000000  0.485461  0.000000  0.000000  0.000000  0.000000   \n",
       "문서4  0.000000  0.336597  0.000000  0.426931  0.000000  0.336597  0.426931   \n",
       "\n",
       "          수학도       수학을        영어       영어는       영어를      좋아하고     좋아합니다  \n",
       "문서1  0.000000  0.000000  0.000000  0.000000  0.617614  0.000000  0.486934  \n",
       "문서2  0.000000  0.590819  0.465809  0.000000  0.000000  0.000000  0.000000  \n",
       "문서3  0.485461  0.000000  0.000000  0.000000  0.000000  0.382743  0.382743  \n",
       "문서4  0.000000  0.000000  0.336597  0.426931  0.000000  0.336597  0.000000  "
      ]
     },
     "execution_count": 35,
     "metadata": {},
     "output_type": "execute_result"
    }
   ],
   "source": [
    "df_tfidf"
   ]
  },
  {
   "cell_type": "markdown",
   "metadata": {},
   "source": [
    "### 4. Word2Vec"
   ]
  },
  {
   "cell_type": "code",
   "execution_count": 4,
   "metadata": {},
   "outputs": [
    {
     "name": "stdout",
     "output_type": "stream",
     "text": [
      "Collecting gensim\n",
      "  Downloading gensim-4.3.2-cp310-cp310-win_amd64.whl.metadata (8.5 kB)\n",
      "Requirement already satisfied: numpy>=1.18.5 in c:\\users\\test_account\\miniconda3\\envs\\env_dl310\\lib\\site-packages (from gensim) (1.26.4)\n",
      "Requirement already satisfied: scipy>=1.7.0 in c:\\users\\test_account\\miniconda3\\envs\\env_dl310\\lib\\site-packages (from gensim) (1.12.0)\n",
      "Collecting smart-open>=1.8.1 (from gensim)\n",
      "  Downloading smart_open-7.0.1-py3-none-any.whl.metadata (23 kB)\n",
      "Collecting wrapt (from smart-open>=1.8.1->gensim)\n",
      "  Downloading wrapt-1.16.0-cp310-cp310-win_amd64.whl.metadata (6.8 kB)\n",
      "Downloading gensim-4.3.2-cp310-cp310-win_amd64.whl (24.0 MB)\n",
      "   ---------------------------------------- 0.0/24.0 MB ? eta -:--:--\n",
      "    --------------------------------------- 0.3/24.0 MB 9.3 MB/s eta 0:00:03\n",
      "   - -------------------------------------- 1.0/24.0 MB 10.9 MB/s eta 0:00:03\n",
      "   --- ------------------------------------ 2.2/24.0 MB 15.7 MB/s eta 0:00:02\n",
      "   ------ --------------------------------- 3.8/24.0 MB 19.9 MB/s eta 0:00:02\n",
      "   --------- ------------------------------ 5.6/24.0 MB 23.7 MB/s eta 0:00:01\n",
      "   ------------- -------------------------- 8.1/24.0 MB 28.5 MB/s eta 0:00:01\n",
      "   ------------------ --------------------- 10.8/24.0 MB 38.5 MB/s eta 0:00:01\n",
      "   -------------------- ------------------- 12.6/24.0 MB 50.4 MB/s eta 0:00:01\n",
      "   -------------------- ------------------- 12.6/24.0 MB 50.4 MB/s eta 0:00:01\n",
      "   -------------------- ------------------- 12.6/24.0 MB 50.4 MB/s eta 0:00:01\n",
      "   -------------------- ------------------- 12.6/24.0 MB 50.4 MB/s eta 0:00:01\n",
      "   ----------------------- ---------------- 14.3/24.0 MB 28.5 MB/s eta 0:00:01\n",
      "   ---------------------------- ----------- 17.3/24.0 MB 31.2 MB/s eta 0:00:01\n",
      "   ----------------------------- ---------- 17.8/24.0 MB 29.7 MB/s eta 0:00:01\n",
      "   ----------------------------- ---------- 17.8/24.0 MB 29.7 MB/s eta 0:00:01\n",
      "   ------------------------------ --------- 18.1/24.0 MB 22.6 MB/s eta 0:00:01\n",
      "   ------------------------------------- -- 22.5/24.0 MB 23.4 MB/s eta 0:00:01\n",
      "   ---------------------------------------  24.0/24.0 MB 38.5 MB/s eta 0:00:01\n",
      "   ---------------------------------------- 24.0/24.0 MB 34.4 MB/s eta 0:00:00\n",
      "Downloading smart_open-7.0.1-py3-none-any.whl (60 kB)\n",
      "   ---------------------------------------- 0.0/60.8 kB ? eta -:--:--\n",
      "   ---------------------------------------- 60.8/60.8 kB 3.4 MB/s eta 0:00:00\n",
      "Downloading wrapt-1.16.0-cp310-cp310-win_amd64.whl (37 kB)\n",
      "Installing collected packages: wrapt, smart-open, gensim\n",
      "Successfully installed gensim-4.3.2 smart-open-7.0.1 wrapt-1.16.0\n"
     ]
    }
   ],
   "source": [
    "# !pip install gensim"
   ]
  },
  {
   "cell_type": "code",
   "execution_count": 20,
   "metadata": {},
   "outputs": [],
   "source": [
    "documents = [\n",
    "    [\"나는\", \"영어\", \"좋아합니다\"],\n",
    "    [\"영어\", \"수학\", \"매일\", \"공부합니다\"],\n",
    "    [\"과학\", \"공부\", \"좋아\", \"수학\", \"좋아합니다\"],\n",
    "    [\"영어\", \"수학\", \"과학\", \"좋아\", \"영어\", \"매일\", \"공부합니다\"]\n",
    "]"
   ]
  },
  {
   "cell_type": "code",
   "execution_count": 21,
   "metadata": {},
   "outputs": [],
   "source": [
    "from gensim.models import Word2Vec\n",
    "\n",
    "# Word2Vec 모델 학습\n",
    "model = Word2Vec(documents, vector_size=100, window=5, min_count=1, workers=4)\n",
    "\n",
    "# 학습된 모델 저장\n",
    "model.save(\"word2vec.model\")"
   ]
  },
  {
   "cell_type": "code",
   "execution_count": 22,
   "metadata": {},
   "outputs": [
    {
     "data": {
      "text/plain": [
       "{'영어': 0,\n",
       " '수학': 1,\n",
       " '좋아': 2,\n",
       " '과학': 3,\n",
       " '공부합니다': 4,\n",
       " '매일': 5,\n",
       " '좋아합니다': 6,\n",
       " '공부': 7,\n",
       " '나는': 8}"
      ]
     },
     "execution_count": 22,
     "metadata": {},
     "output_type": "execute_result"
    }
   ],
   "source": [
    "model.wv.key_to_index"
   ]
  },
  {
   "cell_type": "code",
   "execution_count": 27,
   "metadata": {},
   "outputs": [
    {
     "name": "stdout",
     "output_type": "stream",
     "text": [
      "('공부', 0.09291721880435944)\n",
      "('나는', 0.027057476341724396)\n",
      "('좋아합니다', 0.016134683042764664)\n",
      "('수학', -0.010839177295565605)\n",
      "('공부합니다', -0.027737075462937355)\n",
      "('좋아', -0.05237111821770668)\n",
      "('매일', -0.059876296669244766)\n",
      "('과학', -0.11167220771312714)\n"
     ]
    }
   ],
   "source": [
    "# 단어 벡터 얻기\n",
    "vector = model.wv['수학']\n",
    "\n",
    "# 가장 유사한 단어 찾기\n",
    "similar_words = model.wv.most_similar('영어')\n",
    "for word in similar_words:\n",
    "    print(word)"
   ]
  },
  {
   "cell_type": "code",
   "execution_count": 28,
   "metadata": {},
   "outputs": [
    {
     "data": {
      "text/plain": [
       "('공부', 0.09291721880435944)"
      ]
     },
     "execution_count": 28,
     "metadata": {},
     "output_type": "execute_result"
    }
   ],
   "source": [
    "model.wv.most_similar('영어')[0]"
   ]
  },
  {
   "cell_type": "markdown",
   "metadata": {},
   "source": [
    "### 5. 코사인 유사도"
   ]
  },
  {
   "cell_type": "code",
   "execution_count": 45,
   "metadata": {},
   "outputs": [
    {
     "data": {
      "text/plain": [
       "array([[0.47036942]])"
      ]
     },
     "execution_count": 45,
     "metadata": {},
     "output_type": "execute_result"
    }
   ],
   "source": [
    "from sklearn.metrics.pairwise import cosine_similarity\n",
    "\n",
    "### 문장2와 문장4의 유사도 계산\n",
    "vector_1 = tfidf_matrix.toarray()[1]  # 2 번째 문서\n",
    "vector_2 = tfidf_matrix.toarray()[3]  # 4 번째 문서\n",
    "\n",
    "cos_sim_result = cosine_similarity([vector_1], [vector_2])\n",
    "cos_sim_result"
   ]
  },
  {
   "cell_type": "markdown",
   "metadata": {},
   "source": [
    "### 6. 유클리드 거리"
   ]
  },
  {
   "cell_type": "code",
   "execution_count": 48,
   "metadata": {},
   "outputs": [
    {
     "data": {
      "text/plain": [
       "1.0292041393952769"
      ]
     },
     "execution_count": 48,
     "metadata": {},
     "output_type": "execute_result"
    }
   ],
   "source": [
    "from scipy.spatial.distance import euclidean, jaccard\n",
    "eucl_dist = euclidean(vector_1, vector_2)\n",
    "eucl_dist"
   ]
  },
  {
   "cell_type": "markdown",
   "metadata": {},
   "source": [
    "### 7. 자카드 유사도"
   ]
  },
  {
   "cell_type": "code",
   "execution_count": 50,
   "metadata": {},
   "outputs": [
    {
     "data": {
      "text/plain": [
       "0.375"
      ]
     },
     "execution_count": 50,
     "metadata": {},
     "output_type": "execute_result"
    }
   ],
   "source": [
    "import numpy as np\n",
    "\n",
    "vector_a_binary = np.where(vector_1 > 0, 1, 0)\n",
    "vector_b_binary = np.where(vector_2 > 0, 1, 0)\n",
    "jacc_sim = 1 - jaccard(vector_a_binary, vector_b_binary)  # 1에서 거리를 빼서 유사도를 계산\n",
    "jacc_sim"
   ]
  }
 ],
 "metadata": {
  "kernelspec": {
   "display_name": "env_dl310",
   "language": "python",
   "name": "python3"
  },
  "language_info": {
   "codemirror_mode": {
    "name": "ipython",
    "version": 3
   },
   "file_extension": ".py",
   "mimetype": "text/x-python",
   "name": "python",
   "nbconvert_exporter": "python",
   "pygments_lexer": "ipython3",
   "version": "3.10.13"
  }
 },
 "nbformat": 4,
 "nbformat_minor": 2
}
